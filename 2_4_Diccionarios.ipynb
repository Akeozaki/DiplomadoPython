{
  "nbformat": 4,
  "nbformat_minor": 0,
  "metadata": {
    "colab": {
      "provenance": [],
      "include_colab_link": true
    },
    "kernelspec": {
      "name": "python3",
      "display_name": "Python 3"
    },
    "language_info": {
      "name": "python"
    }
  },
  "cells": [
    {
      "cell_type": "markdown",
      "metadata": {
        "id": "view-in-github",
        "colab_type": "text"
      },
      "source": [
        "<a href=\"https://colab.research.google.com/github/Akeozaki/DiplomadoPython/blob/master/2_4_Diccionarios.ipynb\" target=\"_parent\"><img src=\"https://colab.research.google.com/assets/colab-badge.svg\" alt=\"Open In Colab\"/></a>"
      ]
    },
    {
      "cell_type": "markdown",
      "source": [
        "# Diccionarios\n",
        "\n",
        "Hemos estado aprendiendo sobre *secuencias* en Python, pero ahora vamos a cambiar de tema y aprender sobre *mapeos* en Python.\n",
        "\n",
        "Esta sección servirá como una breve introducción a los diccionarios y constará de:\n",
        "\n",
        "     1.) Construir un diccionario\n",
        "     2.) Acceder a objetos desde un diccionario\n",
        "     3.) Diccionarios anidados\n",
        "     4.) Métodos básicos de diccionario\n",
        "\n",
        "Los mapeos son una colección de objetos que se almacenan mediante una *clave*, a diferencia de una secuencia que almacena objetos por su posición relativa. Esta es una distinción importante, ya que las asignaciones no mantendrán el orden ya que tienen objetos definidos por una clave.\n",
        "\n",
        "Un diccionario de Python consta de una clave y luego un valor asociado. Ese valor puede ser casi cualquier objeto de Python.\n",
        "\n",
        "\n",
        "Comencemos"
      ],
      "metadata": {
        "id": "sEcebI0IdhUc"
      }
    },
    {
      "cell_type": "code",
      "execution_count": null,
      "metadata": {
        "id": "59vC1-53cgmm"
      },
      "outputs": [],
      "source": [
        "# Hacemos un diccionario con {} y : para especificar la clave y su valor\n",
        "mi_diccionario = {'clave1': 'valor1', 'clave2': 'valor2'}"
      ]
    },
    {
      "cell_type": "code",
      "source": [
        "# Obtenemos el valor asociado a la clave2\n",
        "mi_diccionario['clave2']"
      ],
      "metadata": {
        "colab": {
          "base_uri": "https://localhost:8080/",
          "height": 36
        },
        "id": "iHU0GUqqead1",
        "outputId": "1d44f3c2-eb31-4047-b47d-ebf51dc6441e"
      },
      "execution_count": null,
      "outputs": [
        {
          "output_type": "execute_result",
          "data": {
            "text/plain": [
              "'valor2'"
            ],
            "application/vnd.google.colaboratory.intrinsic+json": {
              "type": "string"
            }
          },
          "metadata": {},
          "execution_count": 3
        }
      ]
    },
    {
      "cell_type": "markdown",
      "source": [
        "Es importante tener en cuenta que los diccionarios son muy flexibles en cuanto a los tipos de datos que pueden contener. Por ejemplo:"
      ],
      "metadata": {
        "id": "WGABQB3ve4yk"
      }
    },
    {
      "cell_type": "code",
      "source": [
        "mi_diccionario = {'clave1':123, 'clave2': [12,23,34], 'clave3': ['item1', 'item2', 'item3']}"
      ],
      "metadata": {
        "id": "YFzNMgQjel1y"
      },
      "execution_count": null,
      "outputs": []
    },
    {
      "cell_type": "code",
      "source": [
        "mi_diccionario['clave3'][0]"
      ],
      "metadata": {
        "colab": {
          "base_uri": "https://localhost:8080/",
          "height": 36
        },
        "id": "uLsVQPeafQ4_",
        "outputId": "ebbe94c1-a759-4c7e-b8bc-69d29b213d22"
      },
      "execution_count": null,
      "outputs": [
        {
          "output_type": "execute_result",
          "data": {
            "text/plain": [
              "'item1'"
            ],
            "application/vnd.google.colaboratory.intrinsic+json": {
              "type": "string"
            }
          },
          "metadata": {},
          "execution_count": 6
        }
      ]
    },
    {
      "cell_type": "code",
      "source": [
        "# Inclusive se puede utilizar los métodos de los valores seleccionados\n",
        "mi_diccionario['clave3'][0].upper()"
      ],
      "metadata": {
        "colab": {
          "base_uri": "https://localhost:8080/",
          "height": 36
        },
        "id": "9XLlziSffTpW",
        "outputId": "3e72ca6c-da83-4fad-9c09-fcde261add2b"
      },
      "execution_count": null,
      "outputs": [
        {
          "output_type": "execute_result",
          "data": {
            "text/plain": [
              "'ITEM1'"
            ],
            "application/vnd.google.colaboratory.intrinsic+json": {
              "type": "string"
            }
          },
          "metadata": {},
          "execution_count": 7
        }
      ]
    },
    {
      "cell_type": "markdown",
      "source": [
        "Podemos modificar los valores de una clave también. Por ejemplo:"
      ],
      "metadata": {
        "id": "Rj3RNZ26fxGs"
      }
    },
    {
      "cell_type": "code",
      "source": [
        "mi_diccionario['clave1']"
      ],
      "metadata": {
        "colab": {
          "base_uri": "https://localhost:8080/"
        },
        "id": "9eur3f0GfwKY",
        "outputId": "da909724-99f8-4be7-f5c2-f0429ac94691"
      },
      "execution_count": null,
      "outputs": [
        {
          "output_type": "execute_result",
          "data": {
            "text/plain": [
              "123"
            ]
          },
          "metadata": {},
          "execution_count": 8
        }
      ]
    },
    {
      "cell_type": "code",
      "source": [
        "# Restamos 123 al valor anterior\n",
        "mi_diccionario['clave1'] = mi_diccionario['clave1'] - 123"
      ],
      "metadata": {
        "id": "VZqY_ATTfpD7"
      },
      "execution_count": null,
      "outputs": []
    },
    {
      "cell_type": "code",
      "source": [
        "# Verificamos su valor\n",
        "mi_diccionario['clave1']"
      ],
      "metadata": {
        "colab": {
          "base_uri": "https://localhost:8080/"
        },
        "id": "RucQ3X7zgDjC",
        "outputId": "1e2ada92-c0b2-4666-b0ca-90a0494f98e1"
      },
      "execution_count": null,
      "outputs": [
        {
          "output_type": "execute_result",
          "data": {
            "text/plain": [
              "0"
            ]
          },
          "metadata": {},
          "execution_count": 10
        }
      ]
    },
    {
      "cell_type": "markdown",
      "source": [
        "También podemos crear claves por asignación. Por ejemplo, si comenzamos con un diccionario vacío, podríamos agregarle continuamente:"
      ],
      "metadata": {
        "id": "mCa9n1KhgMgk"
      }
    },
    {
      "cell_type": "code",
      "source": [
        "# Creamos un nuevo diccionario (vacío)\n",
        "d = {} # También podríamos haber hecho d = dict()"
      ],
      "metadata": {
        "id": "R_B3pVkQgFM2"
      },
      "execution_count": null,
      "outputs": []
    },
    {
      "cell_type": "code",
      "source": [
        "d['animal'] = 'perro'"
      ],
      "metadata": {
        "id": "3T5DnlGBglr2"
      },
      "execution_count": null,
      "outputs": []
    },
    {
      "cell_type": "code",
      "source": [
        "d['respuesta'] = 42"
      ],
      "metadata": {
        "id": "7xcQow3ggqRT"
      },
      "execution_count": null,
      "outputs": []
    },
    {
      "cell_type": "code",
      "source": [
        "# Mostramos d\n",
        "d"
      ],
      "metadata": {
        "colab": {
          "base_uri": "https://localhost:8080/"
        },
        "id": "1Jj-QmhuguXl",
        "outputId": "c504e6f7-5c3b-4616-e056-c217d0fcee1d"
      },
      "execution_count": null,
      "outputs": [
        {
          "output_type": "execute_result",
          "data": {
            "text/plain": [
              "{'animal': 'perro', 'respuesta': 42}"
            ]
          },
          "metadata": {},
          "execution_count": 14
        }
      ]
    },
    {
      "cell_type": "markdown",
      "source": [
        "## Anidando con diccionarios\n",
        "\n",
        "Con todo esto se empieza a ver la versatilidad del lenguaje Python. Veamos un diccionario anidado dentro de un diccionario:"
      ],
      "metadata": {
        "id": "QYAlIB7zg7yH"
      }
    },
    {
      "cell_type": "code",
      "source": [
        "# Un diccionario anidado dentro de otro diccionario dentro de otro diccionario\n",
        "d = {'clave1':{'clave_anidada1':{'clave_anidada2':'valor'}}}"
      ],
      "metadata": {
        "id": "BisPJ59mgwBc"
      },
      "execution_count": null,
      "outputs": []
    },
    {
      "cell_type": "code",
      "source": [
        "# Obtenemos el valor así:\n",
        "d['clave1']['clave_anidada1']['clave_anidada2']"
      ],
      "metadata": {
        "colab": {
          "base_uri": "https://localhost:8080/",
          "height": 36
        },
        "id": "1BM7lrJxhcps",
        "outputId": "a3034feb-ef85-4860-9f1d-f6aed6fa3dad"
      },
      "execution_count": null,
      "outputs": [
        {
          "output_type": "execute_result",
          "data": {
            "text/plain": [
              "'valor'"
            ],
            "application/vnd.google.colaboratory.intrinsic+json": {
              "type": "string"
            }
          },
          "metadata": {},
          "execution_count": 16
        }
      ]
    },
    {
      "cell_type": "markdown",
      "source": [
        "## Algunos métodos de diccionario\n",
        "\n",
        "Existen algunos métodos que se pueden invocar en un diccionario. Hagamos una introducción rápida a algunos de ellos:"
      ],
      "metadata": {
        "id": "m4--fUfMhyYh"
      }
    },
    {
      "cell_type": "code",
      "source": [
        "# Creamos un diccionario típico\n",
        "d = {\"clave1\":1, \"clave2\":2, \"clave3\":3}"
      ],
      "metadata": {
        "id": "GJwlEkFZhtmR"
      },
      "execution_count": null,
      "outputs": []
    },
    {
      "cell_type": "code",
      "source": [
        "# Método para ver todas las claves (keys) en una lista\n",
        "d.keys()"
      ],
      "metadata": {
        "colab": {
          "base_uri": "https://localhost:8080/"
        },
        "id": "T_2xy_JCh-tX",
        "outputId": "39cdc4c1-49ee-40c5-ac14-f1bc1de930c6"
      },
      "execution_count": null,
      "outputs": [
        {
          "output_type": "execute_result",
          "data": {
            "text/plain": [
              "dict_keys(['clave1', 'clave2', 'clave3'])"
            ]
          },
          "metadata": {},
          "execution_count": 18
        }
      ]
    },
    {
      "cell_type": "code",
      "source": [
        "# Método para obtener todos los valores\n",
        "d.values()"
      ],
      "metadata": {
        "colab": {
          "base_uri": "https://localhost:8080/"
        },
        "id": "T7eyYOXriGnO",
        "outputId": "b09722bd-e68e-479e-e20a-19f406bb38d8"
      },
      "execution_count": null,
      "outputs": [
        {
          "output_type": "execute_result",
          "data": {
            "text/plain": [
              "dict_values([1, 2, 3])"
            ]
          },
          "metadata": {},
          "execution_count": 20
        }
      ]
    },
    {
      "cell_type": "code",
      "source": [
        "# Método para obtener todas las tuplas de todos los ítems (veremos tuplas en la siguiente clase)\n",
        "d.items()"
      ],
      "metadata": {
        "colab": {
          "base_uri": "https://localhost:8080/"
        },
        "id": "48nI0aLYiM9-",
        "outputId": "07f13419-bda4-4020-c803-043a562aab37"
      },
      "execution_count": null,
      "outputs": [
        {
          "output_type": "execute_result",
          "data": {
            "text/plain": [
              "dict_items([('clave1', 1), ('clave2', 2), ('clave3', 3)])"
            ]
          },
          "metadata": {},
          "execution_count": 21
        }
      ]
    },
    {
      "cell_type": "code",
      "source": [],
      "metadata": {
        "id": "7tfmdFtMiWmG"
      },
      "execution_count": null,
      "outputs": []
    }
  ]
}