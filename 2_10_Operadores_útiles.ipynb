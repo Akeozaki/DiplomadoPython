{
  "nbformat": 4,
  "nbformat_minor": 0,
  "metadata": {
    "colab": {
      "provenance": [],
      "include_colab_link": true
    },
    "kernelspec": {
      "name": "python3",
      "display_name": "Python 3"
    },
    "language_info": {
      "name": "python"
    }
  },
  "cells": [
    {
      "cell_type": "markdown",
      "metadata": {
        "id": "view-in-github",
        "colab_type": "text"
      },
      "source": [
        "<a href=\"https://colab.research.google.com/github/Akeozaki/DiplomadoPython/blob/master/2_10_Operadores_%C3%BAtiles.ipynb\" target=\"_parent\"><img src=\"https://colab.research.google.com/assets/colab-badge.svg\" alt=\"Open In Colab\"/></a>"
      ]
    },
    {
      "cell_type": "markdown",
      "source": [
        "# Operadores útiles\n",
        "\n",
        "Hay algunas funciones y \"operadores\" integrados en Python que no encajan bien en ninguna categoría, así que los repasaremos en esta lección."
      ],
      "metadata": {
        "id": "A8taJtq6_Hax"
      }
    },
    {
      "cell_type": "markdown",
      "source": [
        "#range\n",
        "La función `range` le permite *generar* rápidamente una lista de números enteros. Hay 3 parámetros que puede pasar: un inicio, una parada y un tamaño de paso. Veamos algunos ejemplos:\n"
      ],
      "metadata": {
        "id": "5fGBUU68_M0f"
      }
    },
    {
      "cell_type": "code",
      "execution_count": null,
      "metadata": {
        "colab": {
          "base_uri": "https://localhost:8080/"
        },
        "id": "GYotSqBq-H_1",
        "outputId": "b43b8e00-6240-4800-d202-41535af8956a"
      },
      "outputs": [
        {
          "output_type": "execute_result",
          "data": {
            "text/plain": [
              "range(0, 11)"
            ]
          },
          "metadata": {},
          "execution_count": 1
        }
      ],
      "source": [
        "range(0,11)"
      ]
    },
    {
      "cell_type": "markdown",
      "source": [
        "Tenga en cuenta que esta es una función **generadora**, por lo que para obtener una lista, debemos convertirla en una lista con **list() **. ¿Qué es un generador? Es un tipo especial de función que generará información y no necesitará guardarla en la memoria. Aún no hemos hablado de funciones o generadores, sino que lo haremos más adelante."
      ],
      "metadata": {
        "id": "RD8h86_G_jxV"
      }
    },
    {
      "cell_type": "code",
      "source": [
        "# Nótese que el valor 11 no está incluído\n",
        "list(range(0,11))"
      ],
      "metadata": {
        "colab": {
          "base_uri": "https://localhost:8080/"
        },
        "id": "e3Hy2KeU_dNW",
        "outputId": "123ca8f6-5f67-495e-d57e-16a7073a3405"
      },
      "execution_count": null,
      "outputs": [
        {
          "output_type": "execute_result",
          "data": {
            "text/plain": [
              "[0, 1, 2, 3, 4, 5, 6, 7, 8, 9, 10]"
            ]
          },
          "metadata": {},
          "execution_count": 2
        }
      ]
    },
    {
      "cell_type": "code",
      "source": [
        "list(range(0,12))"
      ],
      "metadata": {
        "colab": {
          "base_uri": "https://localhost:8080/"
        },
        "id": "xV29hkQa_0xn",
        "outputId": "31ee8be3-ce73-4b38-e753-c5d610247fc0"
      },
      "execution_count": null,
      "outputs": [
        {
          "output_type": "execute_result",
          "data": {
            "text/plain": [
              "[0, 1, 2, 3, 4, 5, 6, 7, 8, 9, 10, 11]"
            ]
          },
          "metadata": {},
          "execution_count": 3
        }
      ]
    },
    {
      "cell_type": "code",
      "source": [
        "# El tercer parámetro de range (opcional) es el paso (step)\n",
        "list(range(0,11,2))"
      ],
      "metadata": {
        "colab": {
          "base_uri": "https://localhost:8080/"
        },
        "id": "cn7Qnc3W_3II",
        "outputId": "0a4a23e6-8eda-4190-f5ab-60ae4fce5f60"
      },
      "execution_count": null,
      "outputs": [
        {
          "output_type": "execute_result",
          "data": {
            "text/plain": [
              "[0, 2, 4, 6, 8, 10]"
            ]
          },
          "metadata": {},
          "execution_count": 4
        }
      ]
    },
    {
      "cell_type": "code",
      "source": [
        "list(range(0,101,10))"
      ],
      "metadata": {
        "colab": {
          "base_uri": "https://localhost:8080/"
        },
        "id": "XYrJND9I__aq",
        "outputId": "866edee0-5441-4dcd-885a-50d84df28c4b"
      },
      "execution_count": null,
      "outputs": [
        {
          "output_type": "execute_result",
          "data": {
            "text/plain": [
              "[0, 10, 20, 30, 40, 50, 60, 70, 80, 90, 100]"
            ]
          },
          "metadata": {},
          "execution_count": 5
        }
      ]
    },
    {
      "cell_type": "markdown",
      "source": [
        "Sin embargo, podemos usar `range` en un bucle `for` sin la necesidad de convertir al tipo **list**"
      ],
      "metadata": {
        "id": "2e6qnI_HAH-p"
      }
    },
    {
      "cell_type": "code",
      "source": [
        "for i in range(11):\n",
        "    print(i)"
      ],
      "metadata": {
        "colab": {
          "base_uri": "https://localhost:8080/"
        },
        "id": "P840tLNvABnR",
        "outputId": "d02872e0-62e5-4d7e-8d95-0a71165df9fc"
      },
      "execution_count": null,
      "outputs": [
        {
          "output_type": "stream",
          "name": "stdout",
          "text": [
            "0\n",
            "1\n",
            "2\n",
            "3\n",
            "4\n",
            "5\n",
            "6\n",
            "7\n",
            "8\n",
            "9\n",
            "10\n"
          ]
        }
      ]
    },
    {
      "cell_type": "markdown",
      "source": [
        "## Operador **in**\n",
        "\n",
        "Ya hemos visto la palabra clave **in** durante el bucle for, pero también podemos usarla para comprobar rápidamente si un objeto está en una lista."
      ],
      "metadata": {
        "id": "rm4bDw-WBS-Z"
      }
    },
    {
      "cell_type": "code",
      "source": [
        "'x' in ['x','y','z']"
      ],
      "metadata": {
        "colab": {
          "base_uri": "https://localhost:8080/"
        },
        "id": "SaPLLbqfA-tT",
        "outputId": "32384bf6-d5b5-4273-cd26-67d0b9571646"
      },
      "execution_count": null,
      "outputs": [
        {
          "output_type": "execute_result",
          "data": {
            "text/plain": [
              "True"
            ]
          },
          "metadata": {},
          "execution_count": 8
        }
      ]
    },
    {
      "cell_type": "code",
      "source": [
        "'x' in [1, 2, 3]"
      ],
      "metadata": {
        "colab": {
          "base_uri": "https://localhost:8080/"
        },
        "id": "x8X93A0QBc_L",
        "outputId": "03ed2da4-2557-4f1c-b6b4-068854c678a8"
      },
      "execution_count": null,
      "outputs": [
        {
          "output_type": "execute_result",
          "data": {
            "text/plain": [
              "False"
            ]
          },
          "metadata": {},
          "execution_count": 9
        }
      ]
    },
    {
      "cell_type": "markdown",
      "source": [
        "## not in\n",
        "\n",
        "Podemos combinar **in** con un operador **not**, para comprobar si algún objeto o variable no está presente en una lista."
      ],
      "metadata": {
        "id": "680Nzc1yBiA0"
      }
    },
    {
      "cell_type": "code",
      "source": [
        "'x' not in ['x','y','z']"
      ],
      "metadata": {
        "colab": {
          "base_uri": "https://localhost:8080/"
        },
        "id": "NilePByXBe5b",
        "outputId": "b395ec59-c4a9-493b-d51b-b34d949c2a01"
      },
      "execution_count": null,
      "outputs": [
        {
          "output_type": "execute_result",
          "data": {
            "text/plain": [
              "False"
            ]
          },
          "metadata": {},
          "execution_count": 10
        }
      ]
    },
    {
      "cell_type": "code",
      "source": [
        "'x' not in [1,2,3]"
      ],
      "metadata": {
        "colab": {
          "base_uri": "https://localhost:8080/"
        },
        "id": "kdQ7Y0hDBpkM",
        "outputId": "91693b6d-fe82-460a-a610-e8c4f8c42a23"
      },
      "execution_count": null,
      "outputs": [
        {
          "output_type": "execute_result",
          "data": {
            "text/plain": [
              "True"
            ]
          },
          "metadata": {},
          "execution_count": 11
        }
      ]
    },
    {
      "cell_type": "markdown",
      "source": [
        "## **min** y **max**\n",
        "\n",
        "Podemos consultar rápidamente el mínimo o máximo de una lista con estas funciones."
      ],
      "metadata": {
        "id": "NL45JgpdBtFq"
      }
    },
    {
      "cell_type": "code",
      "source": [
        "milista = [10,20,30,40,100]"
      ],
      "metadata": {
        "id": "of63grHHBqoj"
      },
      "execution_count": null,
      "outputs": []
    },
    {
      "cell_type": "code",
      "source": [
        "min(milista)"
      ],
      "metadata": {
        "colab": {
          "base_uri": "https://localhost:8080/"
        },
        "id": "KEfwpsrOB4E1",
        "outputId": "8762c98f-e79e-4ac6-c5f0-b72b2aa65228"
      },
      "execution_count": null,
      "outputs": [
        {
          "output_type": "execute_result",
          "data": {
            "text/plain": [
              "10"
            ]
          },
          "metadata": {},
          "execution_count": 14
        }
      ]
    },
    {
      "cell_type": "code",
      "source": [
        "max(milista)"
      ],
      "metadata": {
        "colab": {
          "base_uri": "https://localhost:8080/"
        },
        "id": "bep4nvMEB5oW",
        "outputId": "9c607057-84bf-4cee-ddf0-df3ebf14e75c"
      },
      "execution_count": null,
      "outputs": [
        {
          "output_type": "execute_result",
          "data": {
            "text/plain": [
              "100"
            ]
          },
          "metadata": {},
          "execution_count": 15
        }
      ]
    },
    {
      "cell_type": "markdown",
      "source": [
        "## random\n",
        "\n",
        "Python viene con una biblioteca random integrada. Hay muchas funciones incluidas en esta biblioteca aleatoria, por lo que veremos solo dos funciones útiles por ahora."
      ],
      "metadata": {
        "id": "_wPhC-xeB_mT"
      }
    },
    {
      "cell_type": "code",
      "source": [
        "from random import shuffle"
      ],
      "metadata": {
        "id": "um-11-j4CKGn"
      },
      "execution_count": null,
      "outputs": []
    },
    {
      "cell_type": "code",
      "source": [
        "# Esta función \"baraja\" la lista \"in-place\" (afectando la lista)\n",
        "# por lo que no retorna nada\n",
        "shuffle(milista)"
      ],
      "metadata": {
        "id": "rLSqEkhwB8kA"
      },
      "execution_count": null,
      "outputs": []
    },
    {
      "cell_type": "code",
      "source": [
        "milista"
      ],
      "metadata": {
        "colab": {
          "base_uri": "https://localhost:8080/"
        },
        "id": "ZCwZpTZAChbu",
        "outputId": "55d5cbc9-7ba4-4927-fcdc-3ec63b72d968"
      },
      "execution_count": null,
      "outputs": [
        {
          "output_type": "execute_result",
          "data": {
            "text/plain": [
              "[20, 100, 40, 10, 30]"
            ]
          },
          "metadata": {},
          "execution_count": 18
        }
      ]
    },
    {
      "cell_type": "code",
      "source": [
        "from random import randint"
      ],
      "metadata": {
        "id": "KeERJ7BgCiwo"
      },
      "execution_count": null,
      "outputs": []
    },
    {
      "cell_type": "code",
      "source": [
        "# Retorna un entero aleatorio en el rango [a, b], incluyendo ambos extremos.\n",
        "randint(0,100)"
      ],
      "metadata": {
        "colab": {
          "base_uri": "https://localhost:8080/"
        },
        "id": "AP9-ZiXsCkXW",
        "outputId": "5fb134d7-cac2-489d-80fd-d5b4fdf068d3"
      },
      "execution_count": null,
      "outputs": [
        {
          "output_type": "execute_result",
          "data": {
            "text/plain": [
              "12"
            ]
          },
          "metadata": {},
          "execution_count": 20
        }
      ]
    },
    {
      "cell_type": "code",
      "source": [],
      "metadata": {
        "id": "qDhMmW-rCsAN"
      },
      "execution_count": null,
      "outputs": []
    }
  ]
}