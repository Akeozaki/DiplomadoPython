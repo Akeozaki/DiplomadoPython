{
  "nbformat": 4,
  "nbformat_minor": 0,
  "metadata": {
    "colab": {
      "provenance": [],
      "include_colab_link": true
    },
    "kernelspec": {
      "name": "python3",
      "display_name": "Python 3"
    },
    "language_info": {
      "name": "python"
    }
  },
  "cells": [
    {
      "cell_type": "markdown",
      "metadata": {
        "id": "view-in-github",
        "colab_type": "text"
      },
      "source": [
        "<a href=\"https://colab.research.google.com/github/Akeozaki/DiplomadoPython/blob/master/2_8_Bucles_for.ipynb\" target=\"_parent\"><img src=\"https://colab.research.google.com/assets/colab-badge.svg\" alt=\"Open In Colab\"/></a>"
      ]
    },
    {
      "cell_type": "markdown",
      "source": [
        "# Bucles for\n",
        "\n",
        "Un bucle <code>for</code> actúa como un iterador en Python; Recorre los elementos que están en una *secuencia* o cualquier otro elemento iterable. Los objetos que hemos aprendido y sobre los que podemos iterar incluyen cadenas, listas, tuplas e incluso iterables integrados para diccionarios, como claves o valores.\n",
        "\n",
        "Este es el formato general para un bucle <code>for</code> en Python:\n",
        "\n",
        "    for item in objeto_iterable:\n",
        "        realizar acciones\n",
        "\n",
        "El nombre de la variable utilizado para el elemento depende completamente del programador, así que utilice su mejor criterio para elegir un nombre que tenga sentido y que sea fácil de comprender cuando revise su código. Luego se puede hacer referencia a este nombre de elemento dentro de su bucle, por ejemplo, si desea utilizar declaraciones <code>if</code> para realizar comprobaciones.\n",
        "\n",
        "Sigamos adelante y analicemos varios ejemplos de bucles <code>for</code> utilizando una variedad de tipos de objetos de datos. Comenzaremos de manera simple y desarrollaremos más complejidad más adelante.\n",
        "\n",
        "## Ejemplo 1\n",
        "Iterando a través de una lista"
      ],
      "metadata": {
        "id": "CcalNey80uNn"
      }
    },
    {
      "cell_type": "code",
      "execution_count": null,
      "metadata": {
        "id": "Jgozy5o30ihy"
      },
      "outputs": [],
      "source": [
        "# Vamos a aprender a hacer esto de forma automática en la siguiente lección\n",
        "lista1 = [1, 2, 3, 4, 5, 6, 7, 8, 9, 10]"
      ]
    },
    {
      "cell_type": "code",
      "source": [
        "for num in lista1:\n",
        "    print(num)"
      ],
      "metadata": {
        "colab": {
          "base_uri": "https://localhost:8080/"
        },
        "id": "pnrTfQbV11Wo",
        "outputId": "d9306f35-3284-4ad0-c6da-5e98e909080f"
      },
      "execution_count": null,
      "outputs": [
        {
          "output_type": "stream",
          "name": "stdout",
          "text": [
            "1\n",
            "2\n",
            "3\n",
            "4\n",
            "5\n",
            "6\n",
            "7\n",
            "8\n",
            "9\n",
            "10\n"
          ]
        }
      ]
    },
    {
      "cell_type": "markdown",
      "source": [
        "Ahora agreguemos una declaración <code>if</code> para verificar si hay números pares. Primero repasaremos un concepto aquí: el módulo.\n",
        "### Módulo\n",
        "El módulo nos permite obtener el resto de una división y utiliza el símbolo `%`. Por ejemplo:"
      ],
      "metadata": {
        "id": "xn_Z9s1e176M"
      }
    },
    {
      "cell_type": "code",
      "source": [
        "17 % 5"
      ],
      "metadata": {
        "colab": {
          "base_uri": "https://localhost:8080/"
        },
        "id": "6Vu27JtD133G",
        "outputId": "c4bcc5da-aa01-418c-a1e9-87c3a5a3011a"
      },
      "execution_count": null,
      "outputs": [
        {
          "output_type": "execute_result",
          "data": {
            "text/plain": [
              "2"
            ]
          },
          "metadata": {},
          "execution_count": 3
        }
      ]
    },
    {
      "cell_type": "markdown",
      "source": [
        "Esto tiene sentido ya que 17 dividido por 5 es 3 resto 2. Veamos algunos ejemplos más:"
      ],
      "metadata": {
        "id": "j21kze7s2OaZ"
      }
    },
    {
      "cell_type": "code",
      "source": [
        "# El resto de dividir 10 en 3\n",
        "10 % 3"
      ],
      "metadata": {
        "colab": {
          "base_uri": "https://localhost:8080/"
        },
        "id": "u3t8A5Mm2HHg",
        "outputId": "4e34830c-ce8d-492e-de6e-0c23587c2223"
      },
      "execution_count": null,
      "outputs": [
        {
          "output_type": "execute_result",
          "data": {
            "text/plain": [
              "1"
            ]
          },
          "metadata": {},
          "execution_count": 4
        }
      ]
    },
    {
      "cell_type": "code",
      "source": [
        "# El resto de dividir 18 entre 7\n",
        "18 % 7"
      ],
      "metadata": {
        "colab": {
          "base_uri": "https://localhost:8080/"
        },
        "id": "rqIa6qCl2fI8",
        "outputId": "696a19ae-1699-46f1-83e0-cb7948854844"
      },
      "execution_count": null,
      "outputs": [
        {
          "output_type": "execute_result",
          "data": {
            "text/plain": [
              "4"
            ]
          },
          "metadata": {},
          "execution_count": 5
        }
      ]
    },
    {
      "cell_type": "code",
      "source": [
        "# Esta división no tiene residuo\n",
        "4 % 2"
      ],
      "metadata": {
        "colab": {
          "base_uri": "https://localhost:8080/"
        },
        "id": "5P26JwzE2WSD",
        "outputId": "e33baaf7-72a5-44c1-97f2-a834ecb64613"
      },
      "execution_count": null,
      "outputs": [
        {
          "output_type": "execute_result",
          "data": {
            "text/plain": [
              "0"
            ]
          },
          "metadata": {},
          "execution_count": 6
        }
      ]
    },
    {
      "cell_type": "markdown",
      "source": [
        "Obsérvese que si un número es completamente divisible sin resto, el resultado de la llamada de módulo es 0. Podemos usar esto para probar números pares, ya que si un número módulo 2 es igual a 0, eso significa que es un número par.\n",
        "\n",
        "Volviendo a los bucles <code>for</code>...\n",
        "\n",
        "## Ejemplo 2\n",
        "Imprimamos solo los números pares de esa lista"
      ],
      "metadata": {
        "id": "7F5RPWZf2zYl"
      }
    },
    {
      "cell_type": "code",
      "source": [
        "for num in lista1:\n",
        "    if num % 2 == 0:\n",
        "        print(num)"
      ],
      "metadata": {
        "colab": {
          "base_uri": "https://localhost:8080/"
        },
        "id": "2ED1YR-C2vI3",
        "outputId": "feec9e01-efbb-442f-be98-dcd0247eb1cd"
      },
      "execution_count": null,
      "outputs": [
        {
          "output_type": "stream",
          "name": "stdout",
          "text": [
            "2\n",
            "4\n",
            "6\n",
            "8\n",
            "10\n"
          ]
        }
      ]
    },
    {
      "cell_type": "markdown",
      "source": [
        "También podríamos haber puesto una declaración <code>else</code> ahí:"
      ],
      "metadata": {
        "id": "Foswy41Q3GvG"
      }
    },
    {
      "cell_type": "code",
      "source": [
        "for num in lista1:\n",
        "    if num % 2 == 0:\n",
        "        print(num)\n",
        "    else:\n",
        "        print('Número impar')"
      ],
      "metadata": {
        "colab": {
          "base_uri": "https://localhost:8080/"
        },
        "id": "Zc0MkaWk3C4A",
        "outputId": "25fda19c-8ba6-4f2f-8fc0-1f202a5c3c3d"
      },
      "execution_count": null,
      "outputs": [
        {
          "output_type": "stream",
          "name": "stdout",
          "text": [
            "Número impar\n",
            "2\n",
            "Número impar\n",
            "4\n",
            "Número impar\n",
            "6\n",
            "Número impar\n",
            "8\n",
            "Número impar\n",
            "10\n"
          ]
        }
      ]
    },
    {
      "cell_type": "markdown",
      "source": [
        "## Ejemplo 3\n",
        "Otra idea común durante un bucle <code>for</code> es mantener algún tipo de acumulador durante múltiples bucles. Por ejemplo, creemos un bucle <code>for</code> que sume la lista completa:"
      ],
      "metadata": {
        "id": "W_URI6Cv3QvC"
      }
    },
    {
      "cell_type": "code",
      "source": [
        "# Declaramos sum_lista = 0\n",
        "sum_lista = 0\n",
        "\n",
        "for num in lista1:\n",
        "    sum_lista = sum_lista + num\n",
        "\n",
        "print(sum_lista)"
      ],
      "metadata": {
        "colab": {
          "base_uri": "https://localhost:8080/"
        },
        "id": "Rw1nFCW-3MtC",
        "outputId": "4debcfd1-50b1-4e1c-eba8-ce759a2e6249"
      },
      "execution_count": null,
      "outputs": [
        {
          "output_type": "stream",
          "name": "stdout",
          "text": [
            "55\n"
          ]
        }
      ]
    },
    {
      "cell_type": "code",
      "source": [
        "# También podríamos haber utilizado +=\n",
        "sum_lista = 0\n",
        "\n",
        "for num in lista1:\n",
        "    sum_lista += num\n",
        "\n",
        "print(sum_lista)"
      ],
      "metadata": {
        "colab": {
          "base_uri": "https://localhost:8080/"
        },
        "id": "F3eBGr--3mwU",
        "outputId": "6d4b92a0-97ce-4f37-f1e8-39e0e53e9593"
      },
      "execution_count": null,
      "outputs": [
        {
          "output_type": "stream",
          "name": "stdout",
          "text": [
            "55\n"
          ]
        }
      ]
    },
    {
      "cell_type": "markdown",
      "source": [
        "## Ejemplo 4\n",
        "Hemos utilizado bucles <code>for</code> con listas, ¿qué tal con cadenas? Recuerde que las cadenas son una secuencia, por lo que cuando las repitamos accederemos a cada elemento de esa cadena."
      ],
      "metadata": {
        "id": "wVMcGvoY31gr"
      }
    },
    {
      "cell_type": "code",
      "source": [
        "for letra in \"Esta es una cadena\":\n",
        "    print(letra)"
      ],
      "metadata": {
        "colab": {
          "base_uri": "https://localhost:8080/"
        },
        "id": "Z8VWSYUA3xhK",
        "outputId": "81df8771-4e9f-4e0b-c6ae-b6c4b69e30fe"
      },
      "execution_count": null,
      "outputs": [
        {
          "output_type": "stream",
          "name": "stdout",
          "text": [
            "E\n",
            "s\n",
            "t\n",
            "a\n",
            " \n",
            "e\n",
            "s\n",
            " \n",
            "u\n",
            "n\n",
            "a\n",
            " \n",
            "c\n",
            "a\n",
            "d\n",
            "e\n",
            "n\n",
            "a\n"
          ]
        }
      ]
    },
    {
      "cell_type": "markdown",
      "source": [
        "## Ejemplo 5\n",
        "Veamos ahora cómo se puede iterar a través de un diccionario:"
      ],
      "metadata": {
        "id": "0zVyZPpK4AUC"
      }
    },
    {
      "cell_type": "code",
      "source": [
        "tup = (1,2,3,4,5)\n",
        "\n",
        "for t in tup:\n",
        "    print(t)"
      ],
      "metadata": {
        "colab": {
          "base_uri": "https://localhost:8080/"
        },
        "id": "ei73z0Q238Gl",
        "outputId": "6614144e-fe28-4e57-96ea-5df0a15a93cd"
      },
      "execution_count": null,
      "outputs": [
        {
          "output_type": "stream",
          "name": "stdout",
          "text": [
            "1\n",
            "2\n",
            "3\n",
            "4\n",
            "5\n"
          ]
        }
      ]
    },
    {
      "cell_type": "code",
      "source": [
        "d = {'clave1':1,'clave2':2,'clave3':3}"
      ],
      "metadata": {
        "id": "bJ_epB_74GZU"
      },
      "execution_count": null,
      "outputs": []
    },
    {
      "cell_type": "code",
      "source": [
        "for item in d:\n",
        "    print(item)"
      ],
      "metadata": {
        "colab": {
          "base_uri": "https://localhost:8080/"
        },
        "id": "6yYTmavo4fsH",
        "outputId": "696811c8-d19b-44c1-8445-4a353a8e9670"
      },
      "execution_count": null,
      "outputs": [
        {
          "output_type": "stream",
          "name": "stdout",
          "text": [
            "clave1\n",
            "clave2\n",
            "clave3\n"
          ]
        }
      ]
    },
    {
      "cell_type": "markdown",
      "source": [
        "Obsérvese cómo esto produce sólo las claves. Entonces, ¿cómo podemos obtener los valores? ¿O ambas cosas?\n",
        "\n",
        "Vamos a introducir tres nuevos métodos de Diccionario: **.keys ()**, **.values() ** y **.items()**\n"
      ],
      "metadata": {
        "id": "SQNIDWaG4qMF"
      }
    },
    {
      "cell_type": "code",
      "source": [
        "# Veamos el contenido del diccionario\n",
        "d.items()"
      ],
      "metadata": {
        "colab": {
          "base_uri": "https://localhost:8080/"
        },
        "id": "XB52eT174kLK",
        "outputId": "79478676-a522-4b7f-8f63-62812989613e"
      },
      "execution_count": null,
      "outputs": [
        {
          "output_type": "execute_result",
          "data": {
            "text/plain": [
              "dict_items([('clave1', 1), ('clave2', 2), ('clave3', 3)])"
            ]
          },
          "metadata": {},
          "execution_count": 18
        }
      ]
    },
    {
      "cell_type": "markdown",
      "source": [
        "Podemos obtener las claves así:"
      ],
      "metadata": {
        "id": "aA9GENOs5Lc1"
      }
    },
    {
      "cell_type": "code",
      "source": [
        "list(d.keys())"
      ],
      "metadata": {
        "colab": {
          "base_uri": "https://localhost:8080/"
        },
        "id": "K6xz8GHy5AAC",
        "outputId": "fd38892e-6b54-4cfb-a2c1-3d9edbeb68be"
      },
      "execution_count": null,
      "outputs": [
        {
          "output_type": "execute_result",
          "data": {
            "text/plain": [
              "['clave1', 'clave2', 'clave3']"
            ]
          },
          "metadata": {},
          "execution_count": 19
        }
      ]
    },
    {
      "cell_type": "markdown",
      "source": [
        "Y podríamos imprimir los valores de las claves así:"
      ],
      "metadata": {
        "id": "GSRjrikI5UCL"
      }
    },
    {
      "cell_type": "code",
      "source": [
        "for item in d.keys():\n",
        "    print(d[item])"
      ],
      "metadata": {
        "colab": {
          "base_uri": "https://localhost:8080/"
        },
        "id": "p2I3rwOC5QCz",
        "outputId": "1c03e6b7-9b3f-4b64-f809-2c069b32bd05"
      },
      "execution_count": null,
      "outputs": [
        {
          "output_type": "stream",
          "name": "stdout",
          "text": [
            "1\n",
            "2\n",
            "3\n"
          ]
        }
      ]
    },
    {
      "cell_type": "code",
      "source": [],
      "metadata": {
        "id": "8iRaCtTG5bi2"
      },
      "execution_count": null,
      "outputs": []
    }
  ]
}