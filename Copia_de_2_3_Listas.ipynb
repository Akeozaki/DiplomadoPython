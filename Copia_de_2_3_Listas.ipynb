{
  "nbformat": 4,
  "nbformat_minor": 0,
  "metadata": {
    "colab": {
      "provenance": [],
      "include_colab_link": true
    },
    "kernelspec": {
      "name": "python3",
      "display_name": "Python 3"
    },
    "language_info": {
      "name": "python"
    }
  },
  "cells": [
    {
      "cell_type": "markdown",
      "metadata": {
        "id": "view-in-github",
        "colab_type": "text"
      },
      "source": [
        "<a href=\"https://colab.research.google.com/github/Akeozaki/DiplomadoPython/blob/master/Copia_de_2_3_Listas.ipynb\" target=\"_parent\"><img src=\"https://colab.research.google.com/assets/colab-badge.svg\" alt=\"Open In Colab\"/></a>"
      ]
    },
    {
      "cell_type": "markdown",
      "source": [
        "# Listas\n",
        "\n",
        "Anteriormente, cuando hablamos de cadenas, introdujimos el concepto de *secuencia* en Python. Las listas pueden considerarse la versión más general de una *secuencia* en Python. A diferencia de las cadenas, son mutables, lo que significa que los elementos dentro de una lista se pueden cambiar.\n",
        "\n",
        "En esta sección aprenderemos sobre:\n",
        "    \n",
        "     1.) Crear listas\n",
        "     2.) Listas de indexación y división\n",
        "     3.) Métodos de lista básicos\n",
        "     4.) Listas de anidamiento\n",
        "\n",
        "Las listas se construyen con corchetes `[]` y comas `,` que separan cada elemento de la lista.\n",
        "\n"
      ],
      "metadata": {
        "id": "6fAUAFlmTEoM"
      }
    },
    {
      "cell_type": "code",
      "execution_count": null,
      "metadata": {
        "id": "dY45A2-cQqWP"
      },
      "outputs": [],
      "source": [
        "# Asignamos una lista a una variable llamada mi_lista\n",
        "mi_lista = [1, 2, 3]"
      ]
    },
    {
      "cell_type": "markdown",
      "source": [
        "Acabamos de crear una lista de números enteros, pero las listas en realidad pueden contener diferentes tipos de objetos. Por ejemplo:"
      ],
      "metadata": {
        "id": "fAMOnY4UTlOm"
      }
    },
    {
      "cell_type": "code",
      "source": [
        "mi_lista = ['Una cadena', 23, 100.232, 'o']"
      ],
      "metadata": {
        "id": "CpSmSYjsTrKa"
      },
      "execution_count": null,
      "outputs": []
    },
    {
      "cell_type": "markdown",
      "source": [
        "Al igual que las cadenas, la función `len()` dice cuántos elementos hay en la secuencia de la lista."
      ],
      "metadata": {
        "id": "5fn8dBuJTyQx"
      }
    },
    {
      "cell_type": "code",
      "source": [
        "len(mi_lista)"
      ],
      "metadata": {
        "colab": {
          "base_uri": "https://localhost:8080/"
        },
        "id": "1EPHBeiXT9MP",
        "outputId": "bb69e254-4ddb-458b-b12d-6703b95a4048"
      },
      "execution_count": null,
      "outputs": [
        {
          "output_type": "execute_result",
          "data": {
            "text/plain": [
              "4"
            ]
          },
          "metadata": {},
          "execution_count": 9
        }
      ]
    },
    {
      "cell_type": "markdown",
      "source": [
        "### Indexación y corte (*slicing*)\n",
        "La indexación y el corte funcionan igual que en las cadenas. Hagamos una nueva lista para practicar cómo funciona esto:"
      ],
      "metadata": {
        "id": "eXKVxGvhUNKj"
      }
    },
    {
      "cell_type": "code",
      "source": [
        "mi_lista = ['uno', 'dos', 'tres', 4, 5]"
      ],
      "metadata": {
        "id": "YaKZjV0FT-nS"
      },
      "execution_count": null,
      "outputs": []
    },
    {
      "cell_type": "code",
      "source": [
        "# Tomamos el elemento 0\n",
        "mi_lista[0]"
      ],
      "metadata": {
        "colab": {
          "base_uri": "https://localhost:8080/",
          "height": 36
        },
        "id": "wgmQxzxrUqJG",
        "outputId": "40452ff4-52d5-42b1-d795-c23b6d7c6e1d"
      },
      "execution_count": null,
      "outputs": [
        {
          "output_type": "execute_result",
          "data": {
            "text/plain": [
              "'uno'"
            ],
            "application/vnd.google.colaboratory.intrinsic+json": {
              "type": "string"
            }
          },
          "metadata": {},
          "execution_count": 11
        }
      ]
    },
    {
      "cell_type": "code",
      "source": [
        "# Tomamos desde el elemento 1 hasta el final\n",
        "mi_lista[1:]"
      ],
      "metadata": {
        "colab": {
          "base_uri": "https://localhost:8080/"
        },
        "id": "wv4nGLvxUvOj",
        "outputId": "a6845a68-23ea-445b-a49c-6640b86add06"
      },
      "execution_count": null,
      "outputs": [
        {
          "output_type": "execute_result",
          "data": {
            "text/plain": [
              "['dos', 'tres', 4, 5]"
            ]
          },
          "metadata": {},
          "execution_count": 12
        }
      ]
    },
    {
      "cell_type": "code",
      "source": [
        "# Tomamos todo hasta el índice 3 (que no estará incluído)\n",
        "mi_lista[:3]"
      ],
      "metadata": {
        "colab": {
          "base_uri": "https://localhost:8080/"
        },
        "id": "yvfEYke6U9B4",
        "outputId": "a36e724d-a958-4ac9-a50b-e19eb24ef323"
      },
      "execution_count": null,
      "outputs": [
        {
          "output_type": "execute_result",
          "data": {
            "text/plain": [
              "['uno', 'dos', 'tres']"
            ]
          },
          "metadata": {},
          "execution_count": 13
        }
      ]
    },
    {
      "cell_type": "markdown",
      "source": [
        "También podemos usar `+` para concatenar listas, tal como lo hicimos con las cadenas."
      ],
      "metadata": {
        "id": "TyivnDlaVbn3"
      }
    },
    {
      "cell_type": "code",
      "source": [
        "mi_lista + ['nuevo ítem']"
      ],
      "metadata": {
        "colab": {
          "base_uri": "https://localhost:8080/"
        },
        "id": "1QRvJid9VP3a",
        "outputId": "9c8c1290-235e-4f7d-e207-608e7ac57bc0"
      },
      "execution_count": null,
      "outputs": [
        {
          "output_type": "execute_result",
          "data": {
            "text/plain": [
              "['uno', 'dos', 'tres', 4, 5, 'nuevo ítem']"
            ]
          },
          "metadata": {},
          "execution_count": 14
        }
      ]
    },
    {
      "cell_type": "markdown",
      "source": [
        "Esto no modifica la lista original"
      ],
      "metadata": {
        "id": "_vixrfteVmqF"
      }
    },
    {
      "cell_type": "code",
      "source": [
        "mi_lista"
      ],
      "metadata": {
        "colab": {
          "base_uri": "https://localhost:8080/"
        },
        "id": "Mk2jAXGUVhu2",
        "outputId": "559af594-fbc1-4e80-c6fe-d4f0e1aace16"
      },
      "execution_count": null,
      "outputs": [
        {
          "output_type": "execute_result",
          "data": {
            "text/plain": [
              "['uno', 'dos', 'tres', 4, 5]"
            ]
          },
          "metadata": {},
          "execution_count": 15
        }
      ]
    },
    {
      "cell_type": "markdown",
      "source": [
        "Se tendría que hacer una nueva asignación para que modifique la variable"
      ],
      "metadata": {
        "id": "GyiXWYXAVtLS"
      }
    },
    {
      "cell_type": "code",
      "source": [
        "# Reasignamos\n",
        "mi_lista = mi_lista + ['nuevo ítem']"
      ],
      "metadata": {
        "id": "EqhYSg43VpH8"
      },
      "execution_count": null,
      "outputs": []
    },
    {
      "cell_type": "code",
      "source": [
        "mi_lista"
      ],
      "metadata": {
        "colab": {
          "base_uri": "https://localhost:8080/"
        },
        "id": "NubtZi4fV80_",
        "outputId": "2313b23d-088d-4af3-9972-08701ed9548c"
      },
      "execution_count": null,
      "outputs": [
        {
          "output_type": "execute_result",
          "data": {
            "text/plain": [
              "['uno', 'dos', 'tres', 4, 5, 'nuevo ítem']"
            ]
          },
          "metadata": {},
          "execution_count": 17
        }
      ]
    },
    {
      "cell_type": "markdown",
      "source": [
        "Se puede usar `*` para duplicar una lista, al igual que una cadena:"
      ],
      "metadata": {
        "id": "Jc4LpboKWBWh"
      }
    },
    {
      "cell_type": "code",
      "source": [
        "mi_lista * 2"
      ],
      "metadata": {
        "colab": {
          "base_uri": "https://localhost:8080/"
        },
        "id": "Gzt5R4VTV9xw",
        "outputId": "f253c296-200f-445d-c6f3-7d85a56c1413"
      },
      "execution_count": null,
      "outputs": [
        {
          "output_type": "execute_result",
          "data": {
            "text/plain": [
              "['uno',\n",
              " 'dos',\n",
              " 'tres',\n",
              " 4,\n",
              " 5,\n",
              " 'nuevo ítem',\n",
              " 'uno',\n",
              " 'dos',\n",
              " 'tres',\n",
              " 4,\n",
              " 5,\n",
              " 'nuevo ítem']"
            ]
          },
          "metadata": {},
          "execution_count": 18
        }
      ]
    },
    {
      "cell_type": "code",
      "source": [
        "# Y, claramente, esto no modifica la cadena\n",
        "mi_lista"
      ],
      "metadata": {
        "colab": {
          "base_uri": "https://localhost:8080/"
        },
        "id": "bdl0rz-2WK26",
        "outputId": "59985a3b-713d-4397-c18e-35633e04059b"
      },
      "execution_count": null,
      "outputs": [
        {
          "output_type": "execute_result",
          "data": {
            "text/plain": [
              "['uno', 'dos', 'tres', 4, 5, 'nuevo ítem']"
            ]
          },
          "metadata": {},
          "execution_count": 19
        }
      ]
    },
    {
      "cell_type": "markdown",
      "source": [
        "## Métodos de lista básicos\n",
        "\n",
        "Si está familiarizado con otro lenguaje de programación, puede comenzar a establecer paralelismos entre matrices en otro lenguaje y listas en Python. Sin embargo, las listas en Python tienden a ser más flexibles que las matrices en otros lenguajes por dos buenas razones: no tienen un tamaño fijo (lo que significa que no tenemos que especificar qué tan grande será una lista) y no tienen restricciones de tipo fijo, (como hemos visto arriba).\n",
        "\n",
        "Algunos métodos más especiales para listas son:"
      ],
      "metadata": {
        "id": "deaMoQWFWZy2"
      }
    },
    {
      "cell_type": "code",
      "source": [
        "# Creamos una lista nueva\n",
        "lista1 = [1, 2, 3]"
      ],
      "metadata": {
        "id": "0HaL33TzWRYU"
      },
      "execution_count": null,
      "outputs": []
    },
    {
      "cell_type": "markdown",
      "source": [
        "Utilice el método **append** para agregar permanentemente un elemento al final de una lista:"
      ],
      "metadata": {
        "id": "YBB1VRxvW8qT"
      }
    },
    {
      "cell_type": "code",
      "source": [
        "# Agregamos\n",
        "lista1.append(\"nuevo elemento\")"
      ],
      "metadata": {
        "id": "RG_QfQAAXDmY"
      },
      "execution_count": null,
      "outputs": []
    },
    {
      "cell_type": "code",
      "source": [
        "# Mostramos\n",
        "lista1"
      ],
      "metadata": {
        "colab": {
          "base_uri": "https://localhost:8080/"
        },
        "id": "O8QhoLYFXSVO",
        "outputId": "d306228f-b98c-4284-c8ef-048dd2ead080"
      },
      "execution_count": null,
      "outputs": [
        {
          "output_type": "execute_result",
          "data": {
            "text/plain": [
              "[1, 2, 3, 'nuevo elemento']"
            ]
          },
          "metadata": {},
          "execution_count": 34
        }
      ]
    },
    {
      "cell_type": "markdown",
      "source": [
        "Utilizamos **pop** para sacar un elemento de la lista. De forma predeterminada, pop elimina el último índice, pero también se puede especificar qué índice eliminar. Veamos un ejemplo:"
      ],
      "metadata": {
        "id": "9mOjac1KXe3K"
      }
    },
    {
      "cell_type": "code",
      "source": [
        "# Sacamos el elemento de índice 0 de la lista\n",
        "lista1.pop(0)"
      ],
      "metadata": {
        "colab": {
          "base_uri": "https://localhost:8080/"
        },
        "id": "zdYX9Wk8XnBO",
        "outputId": "10950b9d-5d73-4229-cfc1-c43923281c36"
      },
      "execution_count": null,
      "outputs": [
        {
          "output_type": "execute_result",
          "data": {
            "text/plain": [
              "1"
            ]
          },
          "metadata": {},
          "execution_count": 35
        }
      ]
    },
    {
      "cell_type": "code",
      "source": [
        "# Mostramos la lista\n",
        "lista1"
      ],
      "metadata": {
        "colab": {
          "base_uri": "https://localhost:8080/"
        },
        "id": "MRd7Qk4YXx6f",
        "outputId": "6419a5b7-5c89-44af-de76-35c0362a3e6d"
      },
      "execution_count": null,
      "outputs": [
        {
          "output_type": "execute_result",
          "data": {
            "text/plain": [
              "[2, 3, 'nuevo elemento']"
            ]
          },
          "metadata": {},
          "execution_count": 36
        }
      ]
    },
    {
      "cell_type": "code",
      "source": [
        "# Asignamos a la variable elemento_fuera el elemento que vamos a quitar (por defecto, el índice es -1)\n",
        "elemento_fuera = lista1.pop()"
      ],
      "metadata": {
        "id": "WfqyC9pnYKCz"
      },
      "execution_count": null,
      "outputs": []
    },
    {
      "cell_type": "code",
      "source": [
        "# Mostramos\n",
        "elemento_fuera"
      ],
      "metadata": {
        "colab": {
          "base_uri": "https://localhost:8080/",
          "height": 36
        },
        "id": "iyIVOIzyYi2c",
        "outputId": "506e391a-87ca-49bf-e3e7-2cb44f9f1e9a"
      },
      "execution_count": null,
      "outputs": [
        {
          "output_type": "execute_result",
          "data": {
            "text/plain": [
              "'nuevo elemento'"
            ],
            "application/vnd.google.colaboratory.intrinsic+json": {
              "type": "string"
            }
          },
          "metadata": {},
          "execution_count": 38
        }
      ]
    },
    {
      "cell_type": "code",
      "source": [
        "# Mostramos la lista actual\n",
        "lista1"
      ],
      "metadata": {
        "colab": {
          "base_uri": "https://localhost:8080/"
        },
        "id": "Zedz9Y97Yk-f",
        "outputId": "6e86fab7-499e-4ec2-b004-cb1fbde22002"
      },
      "execution_count": null,
      "outputs": [
        {
          "output_type": "execute_result",
          "data": {
            "text/plain": [
              "[2, 3]"
            ]
          },
          "metadata": {},
          "execution_count": 39
        }
      ]
    },
    {
      "cell_type": "markdown",
      "source": [
        "También se debe tener en cuenta que la indexación de listas devolverá un error si no hay ningún elemento en ese índice. Por ejemplo:"
      ],
      "metadata": {
        "id": "Xr6eaju3Ytyt"
      }
    },
    {
      "cell_type": "code",
      "source": [
        "lista1[100]"
      ],
      "metadata": {
        "colab": {
          "base_uri": "https://localhost:8080/",
          "height": 175
        },
        "id": "8AP74xtzYoIL",
        "outputId": "28a0277b-b9e6-43a1-d5b2-270f0bd2111c"
      },
      "execution_count": null,
      "outputs": [
        {
          "output_type": "error",
          "ename": "IndexError",
          "evalue": "ignored",
          "traceback": [
            "\u001b[0;31m---------------------------------------------------------------------------\u001b[0m",
            "\u001b[0;31mIndexError\u001b[0m                                Traceback (most recent call last)",
            "\u001b[0;32m<ipython-input-40-19336f9a81de>\u001b[0m in \u001b[0;36m<cell line: 1>\u001b[0;34m()\u001b[0m\n\u001b[0;32m----> 1\u001b[0;31m \u001b[0mlista1\u001b[0m\u001b[0;34m[\u001b[0m\u001b[0;36m100\u001b[0m\u001b[0;34m]\u001b[0m\u001b[0;34m\u001b[0m\u001b[0;34m\u001b[0m\u001b[0m\n\u001b[0m",
            "\u001b[0;31mIndexError\u001b[0m: list index out of range"
          ]
        }
      ]
    },
    {
      "cell_type": "markdown",
      "source": [
        "Podemos usar el método **sort** y los métodos **reverse** para modificar también las listas:"
      ],
      "metadata": {
        "id": "fqNRgnKzY1ZP"
      }
    },
    {
      "cell_type": "code",
      "source": [
        "nueva_lista = ['a','e','x','b','c']"
      ],
      "metadata": {
        "id": "Rh8u8fIPYyUC"
      },
      "execution_count": null,
      "outputs": []
    },
    {
      "cell_type": "code",
      "source": [
        "# Mostramos\n",
        "nueva_lista"
      ],
      "metadata": {
        "colab": {
          "base_uri": "https://localhost:8080/"
        },
        "id": "j6wjfC6pZS6n",
        "outputId": "7e845a95-10b0-4e86-88fb-361bdcbc1f5e"
      },
      "execution_count": null,
      "outputs": [
        {
          "output_type": "execute_result",
          "data": {
            "text/plain": [
              "['a', 'e', 'x', 'b', 'c']"
            ]
          },
          "metadata": {},
          "execution_count": 42
        }
      ]
    },
    {
      "cell_type": "code",
      "source": [
        "# Utilice reverse para invertir (¡esto es permanente!)\n",
        "nueva_lista.reverse()"
      ],
      "metadata": {
        "id": "_hN9iULHZVGx"
      },
      "execution_count": null,
      "outputs": []
    },
    {
      "cell_type": "code",
      "source": [
        "nueva_lista"
      ],
      "metadata": {
        "colab": {
          "base_uri": "https://localhost:8080/"
        },
        "id": "-L6YkRonZhPW",
        "outputId": "a0cb6134-a4a8-4a57-915e-d041b5938bdb"
      },
      "execution_count": null,
      "outputs": [
        {
          "output_type": "execute_result",
          "data": {
            "text/plain": [
              "['c', 'b', 'x', 'e', 'a']"
            ]
          },
          "metadata": {},
          "execution_count": 44
        }
      ]
    },
    {
      "cell_type": "code",
      "source": [
        "# Utilice ordenar para ordenar la lista (en este caso orden alfabético, pero para números irá ascendente)\n",
        "nueva_lista.sort()"
      ],
      "metadata": {
        "id": "CvGjaRNTZjB7"
      },
      "execution_count": null,
      "outputs": []
    },
    {
      "cell_type": "code",
      "source": [
        "nueva_lista"
      ],
      "metadata": {
        "colab": {
          "base_uri": "https://localhost:8080/"
        },
        "id": "BlYYgobsZu2M",
        "outputId": "83e73fd5-5afa-404e-d5cc-f4a5ed5ba4a0"
      },
      "execution_count": null,
      "outputs": [
        {
          "output_type": "execute_result",
          "data": {
            "text/plain": [
              "['a', 'b', 'c', 'e', 'x']"
            ]
          },
          "metadata": {},
          "execution_count": 46
        }
      ]
    },
    {
      "cell_type": "markdown",
      "source": [
        "## Listas de anidamiento\n",
        "Una gran característica de las estructuras de datos de Python es que admiten *anidamiento*. Esto significa que podemos tener estructuras de datos dentro de estructuras de datos. Por ejemplo: una lista dentro de una lista.\n",
        "\n",
        "Veamos algunos ejemplos:"
      ],
      "metadata": {
        "id": "8c8X4783Z0e7"
      }
    },
    {
      "cell_type": "code",
      "source": [
        "# Hagamos 3 listas\n",
        "lst_1=[1,2,3]\n",
        "lst_2=[4,5,6]\n",
        "lst_3=[7,8,9]\n",
        "\n",
        "# Hagamos una lista de listas con forma de matriz\n",
        "matriz = [lst_1,lst_2,lst_3]"
      ],
      "metadata": {
        "id": "NPkQjrLZZv5q"
      },
      "execution_count": null,
      "outputs": []
    },
    {
      "cell_type": "code",
      "source": [
        "matriz"
      ],
      "metadata": {
        "colab": {
          "base_uri": "https://localhost:8080/"
        },
        "id": "TecWuioOaIYG",
        "outputId": "3f509e98-2d6d-4726-ebfd-8ec168911025"
      },
      "execution_count": null,
      "outputs": [
        {
          "output_type": "execute_result",
          "data": {
            "text/plain": [
              "[[1, 2, 3], [4, 5, 6], [7, 8, 9]]"
            ]
          },
          "metadata": {},
          "execution_count": 49
        }
      ]
    },
    {
      "cell_type": "markdown",
      "source": [
        "Podemos volver a utilizar la indexación para capturar elementos, pero ahora hay dos niveles para el índice: Los elementos en el objeto de matriz y luego los elementos dentro de esa lista."
      ],
      "metadata": {
        "id": "K0nAYk0gaQfe"
      }
    },
    {
      "cell_type": "code",
      "source": [
        "# Tomamos el primer ítem del objeto matriz\n",
        "matriz[0]"
      ],
      "metadata": {
        "colab": {
          "base_uri": "https://localhost:8080/"
        },
        "id": "lECL4GtJaK2Z",
        "outputId": "458d280f-e3e0-4533-dd2e-64408478eb5c"
      },
      "execution_count": null,
      "outputs": [
        {
          "output_type": "execute_result",
          "data": {
            "text/plain": [
              "[1, 2, 3]"
            ]
          },
          "metadata": {},
          "execution_count": 50
        }
      ]
    },
    {
      "cell_type": "code",
      "source": [
        "# Tomamos el primer ítem del primer ítem del objeto matriz\n",
        "matriz[0][0]"
      ],
      "metadata": {
        "colab": {
          "base_uri": "https://localhost:8080/"
        },
        "id": "iC2p2cyRabuJ",
        "outputId": "b999335a-bcdd-4d9d-88b4-46acc9a20e23"
      },
      "execution_count": null,
      "outputs": [
        {
          "output_type": "execute_result",
          "data": {
            "text/plain": [
              "1"
            ]
          },
          "metadata": {},
          "execution_count": 51
        }
      ]
    }
  ]
}