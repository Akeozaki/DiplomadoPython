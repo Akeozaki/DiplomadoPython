{
  "nbformat": 4,
  "nbformat_minor": 0,
  "metadata": {
    "colab": {
      "provenance": [],
      "include_colab_link": true
    },
    "kernelspec": {
      "name": "python3",
      "display_name": "Python 3"
    },
    "language_info": {
      "name": "python"
    }
  },
  "cells": [
    {
      "cell_type": "markdown",
      "metadata": {
        "id": "view-in-github",
        "colab_type": "text"
      },
      "source": [
        "<a href=\"https://colab.research.google.com/github/Akeozaki/DiplomadoPython/blob/master/2_6_Introducci%C3%B3n_a_declaraciones.ipynb\" target=\"_parent\"><img src=\"https://colab.research.google.com/assets/colab-badge.svg\" alt=\"Open In Colab\"/></a>"
      ]
    },
    {
      "cell_type": "markdown",
      "source": [
        "# Introducción a las declaraciones de Python\n",
        "\n",
        "En esta lección haremos una descripción general rápida de las declaraciones de Python. Esta conferencia enfatizará las diferencias entre Python y otros lenguajes como C++."
      ],
      "metadata": {
        "id": "mZ23Y0VPr2Dk"
      }
    },
    {
      "cell_type": "markdown",
      "source": [
        "## Python vs otros lenguajes\n",
        "\n",
        "Creemos una declaración simple que diga:\n",
        "\"Si a es mayor que b, asigna 2 a **a** y 4 a **b**\"\n",
        "\n",
        "Veamos estas dos declaraciones `if` (veremos el `if` más profundamente).\n",
        "\n",
        "**Versión 1 (Otros lenguajes)**\n",
        "\n",
        "    if (a > b){\n",
        "        a = 2;\n",
        "        b = 4;\n",
        "    }\n",
        "                        \n",
        "**Versión 2 (Python)**   \n",
        "\n",
        "    if a > b:\n",
        "        a = 2\n",
        "        b = 4"
      ],
      "metadata": {
        "id": "vXO961fesTDA"
      }
    },
    {
      "cell_type": "markdown",
      "source": [
        "Notará que Python está menos desordenado y es mucho más legible que la primera versión. ¿Cómo gestiona Python esto?\n",
        "\n",
        "Repasemos las principales diferencias:\n",
        "\n",
        "Python se deshace de () y {} incorporando dos factores principales: *dos puntos* y *espacios en blanco*. La declaración termina con dos puntos y se utilizan espacios en blanco (indentación) para describir lo que sucede en el caso de la declaración.\n",
        "\n",
        "Otra diferencia importante es la falta de punto y coma en Python. Los puntos y comas se utilizan para indicar finales de declaraciones en muchos otros lenguajes, pero en Python, el final de una línea es el mismo que el final de una declaración.\n",
        "\n",
        "Por último, para finalizar esta breve descripción general de las diferencias, echemos un vistazo más de cerca a la sintaxis de indentación en Python frente a otros lenguajes:\n",
        "\n",
        "## Sangría (Indentación)\n",
        "\n",
        "Aquí hay un pseudocódigo para indicar el uso de espacios en blanco y indentación en Python:\n",
        "\n",
        "**Otros lenguajes**\n",
        "\n",
        "    if (x)\n",
        "        if(y)\n",
        "            alguna-declaracion;\n",
        "    else\n",
        "        otra-declaracion;\n",
        "        \n",
        "**Python**\n",
        "    \n",
        "    if x:\n",
        "        if y:\n",
        "            alguna-declaracion\n",
        "    else:\n",
        "        otra-declaracion\n"
      ],
      "metadata": {
        "id": "lwiZ5V7DtOhZ"
      }
    },
    {
      "cell_type": "markdown",
      "source": [
        "Observese cómo Python está tan impulsado por la sangría de código y los espacios en blanco. Esto significa que la legibilidad del código es una parte fundamental del diseño del lenguaje Python."
      ],
      "metadata": {
        "id": "16rXoiiNuCVo"
      }
    }
  ]
}