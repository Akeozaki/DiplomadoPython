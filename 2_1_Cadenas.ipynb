{
  "cells": [
    {
      "cell_type": "markdown",
      "metadata": {
        "colab_type": "text",
        "id": "view-in-github"
      },
      "source": [
        "<a href=\"https://colab.research.google.com/github/Akeozaki/DiplomadoPython/blob/master/Copia_de_2_1_Cadenas.ipynb\" target=\"_parent\"><img src=\"https://colab.research.google.com/assets/colab-badge.svg\" alt=\"Open In Colab\"/></a>"
      ]
    },
    {
      "cell_type": "markdown",
      "metadata": {
        "id": "qbPmTsP9kuXJ"
      },
      "source": [
        "# Clase 2: Elementos básicos de programación\n"
      ]
    },
    {
      "cell_type": "markdown",
      "metadata": {
        "id": "lb8f3U-8DoGG"
      },
      "source": [
        "## Cadenas en Python\n",
        "Las cadenas son una de las estructuras de datos más utilizadas y versátiles en cualquier lenguaje de programación, y Python no es una excepción.\n",
        "\n",
        "Las cadenas se utilizan en Python para registrar información de texto, como nombres. Las cadenas en Python son en realidad una secuencia, lo que básicamente significa que Python realiza un seguimiento de cada elemento de la cadena como una secuencia. Por ejemplo, Python entiende que la cadena \"hola\" es una secuencia de letras en un orden específico. Esto significa que podremos usar la indexación para capturar letras particulares (como la primera letra o la última letra).\n",
        "\n",
        "Esta idea de secuencia es importante en Python y la abordaremos más adelante en el futuro.\n",
        "\n",
        "En esta clase aprenderemos sobre lo siguiente:\n",
        "\n",
        "    1.) Creación de cadenas\n",
        "    2.) Impresión de cadenas\n",
        "    3.) Indexación y corte de cadenas\n",
        "    4.) Propiedades de cadena\n",
        "    5.) Métodos de cadena\n",
        "    6.) Formato de impresión\n",
        "\n",
        "### ¿Qué es una cadena?\n",
        "Una cadena, o string, es simplemente una serie de caracteres. Todo lo que esté encerrado entre comillas simples (' ') o dobles (\" \") es considerado una cadena en Python."
      ]
    },
    {
      "cell_type": "code",
      "execution_count": null,
      "metadata": {
        "colab": {
          "base_uri": "https://localhost:8080/",
          "height": 36
        },
        "id": "jpdbYlIoyrVl",
        "outputId": "c06a1410-fff4-40cd-f495-ae25f3fd4eb1"
      },
      "outputs": [
        {
          "data": {
            "application/vnd.google.colaboratory.intrinsic+json": {
              "type": "string"
            },
            "text/plain": [
              "'Hola'"
            ]
          },
          "execution_count": 1,
          "metadata": {},
          "output_type": "execute_result"
        }
      ],
      "source": [
        "# Una palabra (Todo lo que vaya después de # es un comentario de una línea y no se ejecuta)\n",
        "\"Hola\""
      ]
    },
    {
      "cell_type": "code",
      "execution_count": null,
      "metadata": {
        "colab": {
          "base_uri": "https://localhost:8080/",
          "height": 36
        },
        "id": "r9DfRcEMy7g4",
        "outputId": "647f6225-4250-4c3c-f042-2cd97680496b"
      },
      "outputs": [
        {
          "data": {
            "application/vnd.google.colaboratory.intrinsic+json": {
              "type": "string"
            },
            "text/plain": [
              "'Esta también es una cadena'"
            ]
          },
          "execution_count": 2,
          "metadata": {},
          "output_type": "execute_result"
        }
      ],
      "source": [
        "# Frase entera\n",
        "\"Esta también es una cadena\""
      ]
    },
    {
      "cell_type": "code",
      "execution_count": null,
      "metadata": {
        "colab": {
          "base_uri": "https://localhost:8080/",
          "height": 36
        },
        "id": "bqqhRBcazJ1l",
        "outputId": "1c54e72f-6475-4dce-d447-2d694e59fb07"
      },
      "outputs": [
        {
          "data": {
            "application/vnd.google.colaboratory.intrinsic+json": {
              "type": "string"
            },
            "text/plain": [
              "'También podríamos usar comillas simples'"
            ]
          },
          "execution_count": 3,
          "metadata": {},
          "output_type": "execute_result"
        }
      ],
      "source": [
        "'También podríamos usar comillas simples'"
      ]
    },
    {
      "cell_type": "markdown",
      "metadata": {
        "id": "23l4pzV3zp-3"
      },
      "source": [
        "### Imprimir una cadena\n",
        "\n",
        "Recordemos que Google Colab imprime la última salida no asignada, pero la forma correcta de mostrar cadenas en su salida es mediante una función `print()`."
      ]
    },
    {
      "cell_type": "code",
      "execution_count": null,
      "metadata": {
        "colab": {
          "base_uri": "https://localhost:8080/",
          "height": 36
        },
        "id": "gpsuf1bNznb6",
        "outputId": "cdec697e-248c-49bd-b4e5-f453b6073c88"
      },
      "outputs": [
        {
          "data": {
            "application/vnd.google.colaboratory.intrinsic+json": {
              "type": "string"
            },
            "text/plain": [
              "'Hola mundo'"
            ]
          },
          "execution_count": 4,
          "metadata": {},
          "output_type": "execute_result"
        }
      ],
      "source": [
        "# Simplemente declaramos una cadena\n",
        "'Hola mundo'"
      ]
    },
    {
      "cell_type": "code",
      "execution_count": null,
      "metadata": {
        "colab": {
          "base_uri": "https://localhost:8080/",
          "height": 36
        },
        "id": "yEpRrzuW0CiO",
        "outputId": "699f6035-4e71-49dc-a804-e865e98a4780"
      },
      "outputs": [
        {
          "data": {
            "application/vnd.google.colaboratory.intrinsic+json": {
              "type": "string"
            },
            "text/plain": [
              "'Hola mundo 2'"
            ]
          },
          "execution_count": 5,
          "metadata": {},
          "output_type": "execute_result"
        }
      ],
      "source": [
        "# Pero Colab solamente imprimirá la última salida no asignada\n",
        "'Hola mundo 1'\n",
        "'Hola mundo 2'"
      ]
    },
    {
      "cell_type": "markdown",
      "metadata": {
        "id": "ojrRe0na0Mgy"
      },
      "source": [
        "Podemos usar la función `print()`para imprimir una cadena."
      ]
    },
    {
      "cell_type": "code",
      "execution_count": null,
      "metadata": {
        "colab": {
          "base_uri": "https://localhost:8080/"
        },
        "id": "a0a2oF_GDxL7",
        "outputId": "0f7e8548-59a9-4274-ea23-3db4b86214b8"
      },
      "outputs": [
        {
          "name": "stdout",
          "output_type": "stream",
          "text": [
            "Hola mundo 1\n",
            "Hola mundo 2\n",
            "Se puede utilizar \n",
            " para imprimir una nueva línea\n",
            "\n",
            "\n",
            "Última línea\n"
          ]
        }
      ],
      "source": [
        "print('Hola mundo 1')\n",
        "print('Hola mundo 2')\n",
        "print(\"Se puede utilizar \\n para imprimir una nueva línea\")\n",
        "print('\\n')\n",
        "print(\"Última línea\")"
      ]
    },
    {
      "cell_type": "markdown",
      "metadata": {
        "id": "VC32joeP1SPl"
      },
      "source": [
        "### Conceptos básicos\n",
        "\n",
        "Podemos utilizar la función `len()` para averiguar el tamaño de una cadena."
      ]
    },
    {
      "cell_type": "code",
      "execution_count": null,
      "metadata": {
        "colab": {
          "base_uri": "https://localhost:8080/"
        },
        "id": "0GQ0zCrW1fbM",
        "outputId": "6b9d1f48-35df-4f74-f25a-3a805350d37d"
      },
      "outputs": [
        {
          "data": {
            "text/plain": [
              "10"
            ]
          },
          "execution_count": 7,
          "metadata": {},
          "output_type": "execute_result"
        }
      ],
      "source": [
        "len(\"Hola mundo\")"
      ]
    },
    {
      "cell_type": "markdown",
      "metadata": {
        "id": "TztQxUBz15t_"
      },
      "source": [
        "La función `len ()` incorporada de Python cuenta todos los caracteres de la cadena, incluidos los espacios y la puntuación."
      ]
    },
    {
      "cell_type": "markdown",
      "metadata": {
        "id": "nXQ-PPNc2AQ1"
      },
      "source": [
        "### Indexación de cadenas\n",
        "Sabemos que las cadenas son una secuencia, lo que significa que Python puede usar índices para llamar partes de la secuencia. Aprendamos cómo funciona esto.\n",
        "\n",
        "En Python, usamos corchetes `[]` después de un objeto para llamar a su índice. También debemos tener en cuenta que la indexación comienza en 0 para Python. Creemos un nuevo objeto llamado `s` y luego veamos algunos ejemplos de indexación."
      ]
    },
    {
      "cell_type": "code",
      "execution_count": null,
      "metadata": {
        "id": "jcZByEMR2dxM"
      },
      "outputs": [],
      "source": [
        "# Asignamos a s la cadena \"Hola mundo\"\n",
        "s = \"Hola mundo\""
      ]
    },
    {
      "cell_type": "code",
      "execution_count": null,
      "metadata": {
        "colab": {
          "base_uri": "https://localhost:8080/",
          "height": 36
        },
        "id": "RJ0dXFQz2nV0",
        "outputId": "e1267014-c6d8-493d-ea7d-c480d142096a"
      },
      "outputs": [
        {
          "data": {
            "application/vnd.google.colaboratory.intrinsic+json": {
              "type": "string"
            },
            "text/plain": [
              "'Hola mundo'"
            ]
          },
          "execution_count": 10,
          "metadata": {},
          "output_type": "execute_result"
        }
      ],
      "source": [
        "# Verificamos\n",
        "s"
      ]
    },
    {
      "cell_type": "code",
      "execution_count": null,
      "metadata": {
        "colab": {
          "base_uri": "https://localhost:8080/"
        },
        "id": "-qBg5EyH2sCv",
        "outputId": "bfb08013-bf23-40dd-949a-20311bdf6e5a"
      },
      "outputs": [
        {
          "name": "stdout",
          "output_type": "stream",
          "text": [
            "Hola mundo\n"
          ]
        }
      ],
      "source": [
        "# Imprimimos el objeto\n",
        "print(s)"
      ]
    },
    {
      "cell_type": "markdown",
      "metadata": {
        "id": "2Vj2IH2tD4Cy"
      },
      "source": [
        "### Indexación y slicing\n",
        "En Python, las cadenas son una secuencia, lo que significa que Python sigue un orden para registrar cada elemento de la cadena. Esta ordenación permite que podamos acceder a cualquier elemento de la cadena por su índice."
      ]
    },
    {
      "cell_type": "code",
      "execution_count": null,
      "metadata": {
        "colab": {
          "base_uri": "https://localhost:8080/",
          "height": 36
        },
        "id": "wnpPBWDMEEIB",
        "outputId": "d3b2e16d-bc71-48d6-cee9-92bed1951554"
      },
      "outputs": [
        {
          "data": {
            "application/vnd.google.colaboratory.intrinsic+json": {
              "type": "string"
            },
            "text/plain": [
              "'H'"
            ]
          },
          "execution_count": 12,
          "metadata": {},
          "output_type": "execute_result"
        }
      ],
      "source": [
        "s[0]"
      ]
    },
    {
      "cell_type": "code",
      "execution_count": null,
      "metadata": {
        "colab": {
          "base_uri": "https://localhost:8080/",
          "height": 36
        },
        "id": "R5F_OvhU27cS",
        "outputId": "700339c6-bb9d-4c07-9e83-7ea2b0f44a9c"
      },
      "outputs": [
        {
          "data": {
            "application/vnd.google.colaboratory.intrinsic+json": {
              "type": "string"
            },
            "text/plain": [
              "'o'"
            ]
          },
          "execution_count": 13,
          "metadata": {},
          "output_type": "execute_result"
        }
      ],
      "source": [
        "s[1]"
      ]
    },
    {
      "cell_type": "code",
      "execution_count": null,
      "metadata": {
        "colab": {
          "base_uri": "https://localhost:8080/",
          "height": 36
        },
        "id": "LM5ghPjn29Vb",
        "outputId": "02829009-f5c1-49db-964e-aa5fb9fc1851"
      },
      "outputs": [
        {
          "data": {
            "application/vnd.google.colaboratory.intrinsic+json": {
              "type": "string"
            },
            "text/plain": [
              "'l'"
            ]
          },
          "execution_count": 14,
          "metadata": {},
          "output_type": "execute_result"
        }
      ],
      "source": [
        "s[2]"
      ]
    },
    {
      "cell_type": "markdown",
      "metadata": {
        "id": "SconEtiU3CeL"
      },
      "source": [
        "Podemos usar un <code>:</code> para realizar el *slicing* que agarra todo hasta un punto designado. Por ejemplo:"
      ]
    },
    {
      "cell_type": "code",
      "execution_count": null,
      "metadata": {
        "colab": {
          "base_uri": "https://localhost:8080/",
          "height": 36
        },
        "id": "a2pJ3kod3NfB",
        "outputId": "33689243-358e-4f31-d68e-7472259efdfb"
      },
      "outputs": [
        {
          "data": {
            "application/vnd.google.colaboratory.intrinsic+json": {
              "type": "string"
            },
            "text/plain": [
              "'ola mundo'"
            ]
          },
          "execution_count": 16,
          "metadata": {},
          "output_type": "execute_result"
        }
      ],
      "source": [
        "# Toma todo desde el primer término hasta la longitud de s, que es len (s)\n",
        "s[1:]"
      ]
    },
    {
      "cell_type": "code",
      "execution_count": null,
      "metadata": {
        "colab": {
          "base_uri": "https://localhost:8080/",
          "height": 36
        },
        "id": "6L1D4hG53tIL",
        "outputId": "d9434118-da79-460c-901e-1cfe42017d17"
      },
      "outputs": [
        {
          "data": {
            "application/vnd.google.colaboratory.intrinsic+json": {
              "type": "string"
            },
            "text/plain": [
              "'Hola mundo'"
            ]
          },
          "execution_count": 17,
          "metadata": {},
          "output_type": "execute_result"
        }
      ],
      "source": [
        "# Tengamos en cuenta que s no fue modificada\n",
        "s"
      ]
    },
    {
      "cell_type": "code",
      "execution_count": null,
      "metadata": {
        "colab": {
          "base_uri": "https://localhost:8080/",
          "height": 36
        },
        "id": "p2J_a4zR3zxN",
        "outputId": "8a27a787-3ce4-426b-c8c2-c53e410b0104"
      },
      "outputs": [
        {
          "data": {
            "application/vnd.google.colaboratory.intrinsic+json": {
              "type": "string"
            },
            "text/plain": [
              "'Hol'"
            ]
          },
          "execution_count": 18,
          "metadata": {},
          "output_type": "execute_result"
        }
      ],
      "source": [
        "# Tomemos desde el inicio hasta el 3er índice\n",
        "s[:3]"
      ]
    },
    {
      "cell_type": "markdown",
      "metadata": {
        "id": "ufUPvkms4AJt"
      },
      "source": [
        "Tenga en cuenta el corte anterior. Aquí le decimos a Python que tome todo desde 0 hasta 3. No incluye el tercer índice. Esto pasa mucho en Python, donde las declaraciones y generalmente están en el contexto de \"hasta, pero no incluido\"."
      ]
    },
    {
      "cell_type": "code",
      "execution_count": null,
      "metadata": {
        "colab": {
          "base_uri": "https://localhost:8080/",
          "height": 36
        },
        "id": "4rZIs7Qs4Rzc",
        "outputId": "983b6d49-b7ce-436c-888e-423d6dbc9c58"
      },
      "outputs": [
        {
          "data": {
            "application/vnd.google.colaboratory.intrinsic+json": {
              "type": "string"
            },
            "text/plain": [
              "'Hola mundo'"
            ]
          },
          "execution_count": 19,
          "metadata": {},
          "output_type": "execute_result"
        }
      ],
      "source": [
        "# Incluir todo\n",
        "s[:]"
      ]
    },
    {
      "cell_type": "code",
      "execution_count": null,
      "metadata": {
        "colab": {
          "base_uri": "https://localhost:8080/",
          "height": 36
        },
        "id": "mXNBF_F44V9F",
        "outputId": "9841fef5-590c-4a6a-d110-a8fd1538bb67"
      },
      "outputs": [
        {
          "data": {
            "application/vnd.google.colaboratory.intrinsic+json": {
              "type": "string"
            },
            "text/plain": [
              "'o'"
            ]
          },
          "execution_count": 20,
          "metadata": {},
          "output_type": "execute_result"
        }
      ],
      "source": [
        "# La última letra (es el índice anterior al 0, y es circular)\n",
        "s[-1]"
      ]
    },
    {
      "cell_type": "code",
      "execution_count": null,
      "metadata": {
        "colab": {
          "base_uri": "https://localhost:8080/",
          "height": 36
        },
        "id": "3eGUMJHO4vey",
        "outputId": "a8ae68db-5113-47fb-e0ad-e33a900df4fe"
      },
      "outputs": [
        {
          "data": {
            "application/vnd.google.colaboratory.intrinsic+json": {
              "type": "string"
            },
            "text/plain": [
              "'Hola mund'"
            ]
          },
          "execution_count": 21,
          "metadata": {},
          "output_type": "execute_result"
        }
      ],
      "source": [
        "# Tomar todo excepto la última letra\n",
        "s[:-1]"
      ]
    },
    {
      "cell_type": "markdown",
      "metadata": {
        "id": "vhQThoBm4275"
      },
      "source": [
        "También podemos usar notación de índice y *slicing* para capturar elementos de una secuencia según un tamaño de paso específico (el valor predeterminado es 1). Por ejemplo, podemos usar dos puntos seguidos y luego un número que especifique la frecuencia para capturar elementos. Por ejemplo:"
      ]
    },
    {
      "cell_type": "code",
      "execution_count": null,
      "metadata": {
        "colab": {
          "base_uri": "https://localhost:8080/",
          "height": 36
        },
        "id": "mk-guZ-b5NJA",
        "outputId": "5439181a-a653-42b9-e1a7-0aca74a30cbb"
      },
      "outputs": [
        {
          "data": {
            "application/vnd.google.colaboratory.intrinsic+json": {
              "type": "string"
            },
            "text/plain": [
              "'Hola mundo'"
            ]
          },
          "execution_count": 22,
          "metadata": {},
          "output_type": "execute_result"
        }
      ],
      "source": [
        "# Tomar todo con pasos de a 1\n",
        "s[::1]"
      ]
    },
    {
      "cell_type": "code",
      "execution_count": null,
      "metadata": {
        "colab": {
          "base_uri": "https://localhost:8080/",
          "height": 36
        },
        "id": "kWVE3thx5UWr",
        "outputId": "6e980ec2-b237-4590-de6d-76f3e2019b42"
      },
      "outputs": [
        {
          "data": {
            "application/vnd.google.colaboratory.intrinsic+json": {
              "type": "string"
            },
            "text/plain": [
              "'Hl ud'"
            ]
          },
          "execution_count": 23,
          "metadata": {},
          "output_type": "execute_result"
        }
      ],
      "source": [
        "# Tomar todo con pasos de a 2\n",
        "s[::2]"
      ]
    },
    {
      "cell_type": "code",
      "execution_count": null,
      "metadata": {
        "colab": {
          "base_uri": "https://localhost:8080/",
          "height": 36
        },
        "id": "NuWhoV735Zpv",
        "outputId": "551f4934-6a00-434c-b06a-744a30f77bb9"
      },
      "outputs": [
        {
          "data": {
            "application/vnd.google.colaboratory.intrinsic+json": {
              "type": "string"
            },
            "text/plain": [
              "'odnum aloH'"
            ]
          },
          "execution_count": 24,
          "metadata": {},
          "output_type": "execute_result"
        }
      ],
      "source": [
        "# Inclusive podríamos usar esto para imprimir al revés\n",
        "s[::-2]\n"
      ]
    },
    {
      "cell_type": "markdown",
      "metadata": {
        "id": "9BAWG8Kg5jzM"
      },
      "source": [
        "### Propiedades de cadena\n",
        "Es importante tener en cuenta que las cadenas tienen una propiedad importante conocida como *inmutabilidad *. Esto significa que una vez que se crea una cadena, los elementos que contiene no se pueden cambiar ni reemplazar. Por ejemplo:"
      ]
    },
    {
      "cell_type": "code",
      "execution_count": null,
      "metadata": {
        "colab": {
          "base_uri": "https://localhost:8080/",
          "height": 36
        },
        "id": "jAQs02wn5NGg",
        "outputId": "a4cfc727-656d-420a-e53b-c01c76516cfa"
      },
      "outputs": [
        {
          "data": {
            "application/vnd.google.colaboratory.intrinsic+json": {
              "type": "string"
            },
            "text/plain": [
              "'Hola mundo'"
            ]
          },
          "execution_count": 25,
          "metadata": {},
          "output_type": "execute_result"
        }
      ],
      "source": [
        "s"
      ]
    },
    {
      "cell_type": "code",
      "execution_count": null,
      "metadata": {
        "colab": {
          "base_uri": "https://localhost:8080/",
          "height": 175
        },
        "id": "Ocy5d8nu5vUt",
        "outputId": "04182bcb-f81d-40b3-8fa6-66f80768a62a"
      },
      "outputs": [
        {
          "ename": "TypeError",
          "evalue": "ignored",
          "output_type": "error",
          "traceback": [
            "\u001b[0;31m---------------------------------------------------------------------------\u001b[0m",
            "\u001b[0;31mTypeError\u001b[0m                                 Traceback (most recent call last)",
            "\u001b[0;32m<ipython-input-26-6991979134fb>\u001b[0m in \u001b[0;36m<cell line: 1>\u001b[0;34m()\u001b[0m\n\u001b[0;32m----> 1\u001b[0;31m \u001b[0ms\u001b[0m\u001b[0;34m[\u001b[0m\u001b[0;36m0\u001b[0m\u001b[0;34m]\u001b[0m\u001b[0;34m=\u001b[0m\u001b[0;34m'X'\u001b[0m\u001b[0;34m\u001b[0m\u001b[0;34m\u001b[0m\u001b[0m\n\u001b[0m",
            "\u001b[0;31mTypeError\u001b[0m: 'str' object does not support item assignment"
          ]
        }
      ],
      "source": [
        "s[0]='X'"
      ]
    },
    {
      "cell_type": "markdown",
      "metadata": {
        "id": "EJ6pL73Z54n0"
      },
      "source": [
        "Observese cómo el error nos dice directamente lo que no podemos hacer, pero eso no impide que s cambie al valor que queramos. ¡Podríamos cambiar s a través de una nueva asignación!\n",
        "\n",
        "Así podemos las concatenaciones de cadenas:"
      ]
    },
    {
      "cell_type": "code",
      "execution_count": null,
      "metadata": {
        "colab": {
          "base_uri": "https://localhost:8080/",
          "height": 36
        },
        "id": "5ZUJJot76P8s",
        "outputId": "5895f184-6f3a-43f2-98a3-01a6aa13178d"
      },
      "outputs": [
        {
          "data": {
            "application/vnd.google.colaboratory.intrinsic+json": {
              "type": "string"
            },
            "text/plain": [
              "'Hola mundo'"
            ]
          },
          "execution_count": 27,
          "metadata": {},
          "output_type": "execute_result"
        }
      ],
      "source": [
        "s"
      ]
    },
    {
      "cell_type": "code",
      "execution_count": null,
      "metadata": {
        "colab": {
          "base_uri": "https://localhost:8080/",
          "height": 36
        },
        "id": "0KQh70yC6TzM",
        "outputId": "d612c376-773e-4810-a588-71dcacfc80de"
      },
      "outputs": [
        {
          "data": {
            "application/vnd.google.colaboratory.intrinsic+json": {
              "type": "string"
            },
            "text/plain": [
              "'Hola mundo concatenamos esta frase'"
            ]
          },
          "execution_count": 28,
          "metadata": {},
          "output_type": "execute_result"
        }
      ],
      "source": [
        "# Concatenamos cadenas\n",
        "s + \" concatenamos esta frase\""
      ]
    },
    {
      "cell_type": "code",
      "execution_count": null,
      "metadata": {
        "id": "yQybSIN-6Qhr"
      },
      "outputs": [],
      "source": [
        "# Hasta podemos asignarle a s la cadena anterior\n",
        "s = s + \" concatenamos esta frase\""
      ]
    },
    {
      "cell_type": "code",
      "execution_count": null,
      "metadata": {
        "colab": {
          "base_uri": "https://localhost:8080/"
        },
        "id": "FW_cYZ0Z6m0B",
        "outputId": "be8ba168-6f93-4312-fe48-af4828e6d846"
      },
      "outputs": [
        {
          "name": "stdout",
          "output_type": "stream",
          "text": [
            "Hola mundo concatenamos esta frase\n"
          ]
        }
      ],
      "source": [
        "print (s)"
      ]
    },
    {
      "cell_type": "code",
      "execution_count": null,
      "metadata": {
        "colab": {
          "base_uri": "https://localhost:8080/",
          "height": 36
        },
        "id": "0OXGvOTj6py6",
        "outputId": "6256c8d1-8236-42c1-d71f-72a122c12f03"
      },
      "outputs": [
        {
          "data": {
            "application/vnd.google.colaboratory.intrinsic+json": {
              "type": "string"
            },
            "text/plain": [
              "'Hola mundo concatenamos esta frase'"
            ]
          },
          "execution_count": 31,
          "metadata": {},
          "output_type": "execute_result"
        }
      ],
      "source": [
        "s"
      ]
    },
    {
      "cell_type": "code",
      "execution_count": null,
      "metadata": {
        "colab": {
          "base_uri": "https://localhost:8080/"
        },
        "id": "P6O-mxC16uAZ",
        "outputId": "48aad23d-9cb1-4044-b54f-4f725f0cd2b6"
      },
      "outputs": [
        {
          "name": "stdout",
          "output_type": "stream",
          "text": [
            "Frase 1 Frase 2\n"
          ]
        }
      ],
      "source": [
        "a = 'Frase 1'\n",
        "b = ' Frase 2'\n",
        "c = a + b\n",
        "print(c)"
      ]
    },
    {
      "cell_type": "code",
      "execution_count": null,
      "metadata": {
        "colab": {
          "base_uri": "https://localhost:8080/",
          "height": 36
        },
        "id": "Wu74wWUk7A_R",
        "outputId": "46f9f203-73aa-4209-b944-a40e177af43a"
      },
      "outputs": [
        {
          "data": {
            "application/vnd.google.colaboratory.intrinsic+json": {
              "type": "string"
            },
            "text/plain": [
              "'holaholaholaholahola'"
            ]
          },
          "execution_count": 33,
          "metadata": {},
          "output_type": "execute_result"
        }
      ],
      "source": [
        "# Podemos utilizar * (multiplicación) para repetir una cadena\n",
        "s = 'hola'\n",
        "s*5"
      ]
    },
    {
      "cell_type": "markdown",
      "metadata": {
        "id": "RIm8zuZ1_T1x"
      },
      "source": [
        "### Métodos de cadena básicos integrados\n",
        "\n",
        "Los objetos en Python suelen tener métodos integrados. Estos métodos son funciones dentro del objeto (aprenderemos sobre ellas con mucha más profundidad más adelante) que pueden realizar acciones o comandos en el objeto mismo.\n",
        "\n",
        "Llamamos a los métodos con un punto y luego el nombre del método. Los métodos están en la forma:\n",
        "\n",
        "Objeto.método (parámetros)\n",
        "\n",
        "Cuando el método requiere parámetros, los pasamos a través de los argumentos.\n",
        "\n",
        "A continuación se muestran algunos ejemplos de métodos integrados en cadenas:"
      ]
    },
    {
      "cell_type": "code",
      "execution_count": null,
      "metadata": {
        "colab": {
          "base_uri": "https://localhost:8080/",
          "height": 36
        },
        "id": "WcYd8xaq_xiD",
        "outputId": "38c80fc1-2af9-414e-a79c-f5ab36940d14"
      },
      "outputs": [
        {
          "data": {
            "application/vnd.google.colaboratory.intrinsic+json": {
              "type": "string"
            },
            "text/plain": [
              "'Hola Mundo'"
            ]
          },
          "execution_count": 41,
          "metadata": {},
          "output_type": "execute_result"
        }
      ],
      "source": [
        "s = \"Hola Mundo\"\n",
        "s"
      ]
    },
    {
      "cell_type": "code",
      "execution_count": null,
      "metadata": {
        "colab": {
          "base_uri": "https://localhost:8080/",
          "height": 36
        },
        "id": "JJc2r_yA_16t",
        "outputId": "db30cd31-635d-4033-f45e-9d0610e2cd43"
      },
      "outputs": [
        {
          "data": {
            "application/vnd.google.colaboratory.intrinsic+json": {
              "type": "string"
            },
            "text/plain": [
              "'HOLA MUNDO'"
            ]
          },
          "execution_count": 42,
          "metadata": {},
          "output_type": "execute_result"
        }
      ],
      "source": [
        "# Pasar a mayúsculas una cadena\n",
        "s.upper()"
      ]
    },
    {
      "cell_type": "code",
      "execution_count": null,
      "metadata": {
        "colab": {
          "base_uri": "https://localhost:8080/",
          "height": 36
        },
        "id": "u8yHgbcBAEW1",
        "outputId": "f40eecb0-4c8f-4b23-ff6a-1c5125ecaf12"
      },
      "outputs": [
        {
          "data": {
            "application/vnd.google.colaboratory.intrinsic+json": {
              "type": "string"
            },
            "text/plain": [
              "'hola mundo'"
            ]
          },
          "execution_count": 43,
          "metadata": {},
          "output_type": "execute_result"
        }
      ],
      "source": [
        "# Pasar a minúsculas la cadena\n",
        "s.lower()"
      ]
    },
    {
      "cell_type": "code",
      "execution_count": null,
      "metadata": {
        "colab": {
          "base_uri": "https://localhost:8080/"
        },
        "id": "ZWG4Sg97AMYT",
        "outputId": "6344b295-6ef4-4d5a-c509-6be94d16d605"
      },
      "outputs": [
        {
          "data": {
            "text/plain": [
              "['Hola', 'Mundo']"
            ]
          },
          "execution_count": 44,
          "metadata": {},
          "output_type": "execute_result"
        }
      ],
      "source": [
        "# Dividimos una cadena entre espacios\n",
        "s.split()"
      ]
    },
    {
      "cell_type": "code",
      "execution_count": null,
      "metadata": {
        "colab": {
          "base_uri": "https://localhost:8080/"
        },
        "id": "KJHLM36WBDQP",
        "outputId": "19e0854c-9e56-4d1c-951f-64157b813b44"
      },
      "outputs": [
        {
          "data": {
            "text/plain": [
              "['Hola Mu', 'do']"
            ]
          },
          "execution_count": 47,
          "metadata": {},
          "output_type": "execute_result"
        }
      ],
      "source": [
        "# Dividido por un elemento específico (no incluye el elemento en el que se dividió)\n",
        "s.split(\"n\")"
      ]
    },
    {
      "cell_type": "markdown",
      "metadata": {
        "id": "tg3exwihBVom"
      },
      "source": [
        "Estos son sólo algunos métodos de todos los que existen!"
      ]
    },
    {
      "cell_type": "markdown",
      "metadata": {
        "id": "D3Etl6VaBhQL"
      },
      "source": [
        "### Formato de impresión\n",
        "\n",
        "Podemos usar el método `.format ()` para agregar objetos formateados a declaraciones de cadena impresas.\n",
        "\n",
        "La forma más sencilla de demostrar esto es mediante un ejemplo:"
      ]
    },
    {
      "cell_type": "code",
      "execution_count": null,
      "metadata": {
        "colab": {
          "base_uri": "https://localhost:8080/",
          "height": 36
        },
        "id": "DUrd4qHABxwT",
        "outputId": "80d52961-02f2-4cb4-8421-46d86b6948c8"
      },
      "outputs": [
        {
          "data": {
            "application/vnd.google.colaboratory.intrinsic+json": {
              "type": "string"
            },
            "text/plain": [
              "'Inserte otra cadena con llaves: La cadena insertada'"
            ]
          },
          "execution_count": 48,
          "metadata": {},
          "output_type": "execute_result"
        }
      ],
      "source": [
        "'Inserte otra cadena con llaves: {}'.format('La cadena insertada')"
      ]
    }
  ],
  "metadata": {
    "colab": {
      "include_colab_link": true,
      "provenance": []
    },
    "kernelspec": {
      "display_name": "Python 3",
      "name": "python3"
    },
    "language_info": {
      "name": "python"
    }
  },
  "nbformat": 4,
  "nbformat_minor": 0
}
