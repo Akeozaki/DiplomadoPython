{
  "nbformat": 4,
  "nbformat_minor": 0,
  "metadata": {
    "colab": {
      "provenance": [],
      "include_colab_link": true
    },
    "kernelspec": {
      "name": "python3",
      "display_name": "Python 3"
    },
    "language_info": {
      "name": "python"
    }
  },
  "cells": [
    {
      "cell_type": "markdown",
      "metadata": {
        "id": "view-in-github",
        "colab_type": "text"
      },
      "source": [
        "<a href=\"https://colab.research.google.com/github/Akeozaki/DiplomadoPython/blob/master/2_5_Operaciones_de_comparaci%C3%B3n.ipynb\" target=\"_parent\"><img src=\"https://colab.research.google.com/assets/colab-badge.svg\" alt=\"Open In Colab\"/></a>"
      ]
    },
    {
      "cell_type": "markdown",
      "source": [
        "# Operadores de comparación\n",
        "\n",
        "En esta lección aprenderemos sobre las operaciones de comparación en Python. Estos operadores nos permitirán comparar variables y generar un valor booleano (True o False).\n",
        "\n",
        "First we'll present a table of the comparison operators and then work through some examples:\n",
        "\n",
        "<h2> Tabla de operadores de comparación </h2><p>  Supongamos que a=3 and b=4.</p>\n",
        "\n",
        "<table class=\"table table-bordered\">\n",
        "<tr>\n",
        "<th style=\"width:10%\">Operador</th><th style=\"width:45%\">Descripción</th><th>Ejemplo</th>\n",
        "</tr>\n",
        "<tr>\n",
        "<td>==</td>\n",
        "<td>Si los valores de dos operandos son iguales, entonces la condición se vuelve verdadera.</td>\n",
        "<td> (a == b) no es verdadero.</td>\n",
        "</tr>\n",
        "<tr>\n",
        "<td>!=</td>\n",
        "<td>Si los valores de dos operandos no son iguales, entonces la condición se vuelve verdadera.</td>\n",
        "<td>(a != b) es verdadero</td>\n",
        "</tr>\n",
        "<tr>\n",
        "<td>&gt;</td>\n",
        "<td>Si el valor del operando izquierdo es mayor que el valor del operando derecho, entonces la condición se vuelve verdadera.</td>\n",
        "<td> (a &gt; b) no es verdadero.</td>\n",
        "</tr>\n",
        "<tr>\n",
        "<td>&lt;</td>\n",
        "<td>Si el valor del operando izquierdo es menor que el valor del operando derecho, entonces la condición se vuelve verdadera.</td>\n",
        "<td> (a &lt; b) es verdadero.</td>\n",
        "</tr>\n",
        "<tr>\n",
        "<td>&gt;=</td>\n",
        "<td>Si el valor del operando izquierdo es mayor o igual que el valor del operando derecho, entonces la condición se vuelve verdadera.</td>\n",
        "<td> (a &gt;= b) no es verdadero. </td>\n",
        "</tr>\n",
        "<tr>\n",
        "<td>&lt;=</td>\n",
        "<td>Si el valor del operando izquierdo es menor o igual que el valor del operando derecho, entonces la condición se vuelve verdadera.</td>\n",
        "<td> (a &lt;= b) es verdadero. </td>\n",
        "</tr>\n",
        "</table>"
      ],
      "metadata": {
        "id": "4tew_g4akaBy"
      }
    },
    {
      "cell_type": "markdown",
      "source": [
        "Veamos algunos ejemplos\n",
        "\n",
        "#### Igualdad"
      ],
      "metadata": {
        "id": "XvoGVQGQlo0_"
      }
    },
    {
      "cell_type": "code",
      "execution_count": null,
      "metadata": {
        "colab": {
          "base_uri": "https://localhost:8080/"
        },
        "id": "RQBco7NdkHtM",
        "outputId": "f18bd383-ee71-4108-8fed-4fc10a26b48b"
      },
      "outputs": [
        {
          "output_type": "execute_result",
          "data": {
            "text/plain": [
              "True"
            ]
          },
          "metadata": {},
          "execution_count": 1
        }
      ],
      "source": [
        "2 == 2"
      ]
    },
    {
      "cell_type": "code",
      "source": [
        "1 == 0"
      ],
      "metadata": {
        "colab": {
          "base_uri": "https://localhost:8080/"
        },
        "id": "3D2n3B4Fltl0",
        "outputId": "e36d3d43-14b2-439a-e45c-3c544f3c1c0f"
      },
      "execution_count": null,
      "outputs": [
        {
          "output_type": "execute_result",
          "data": {
            "text/plain": [
              "False"
            ]
          },
          "metadata": {},
          "execution_count": 2
        }
      ]
    },
    {
      "cell_type": "markdown",
      "source": [
        "Tenga en cuenta que <code>==</code> es un operador de <em>comparación</em>, mientras que <code>=</code> es un operador de <em>asignación</em>."
      ],
      "metadata": {
        "id": "-SEzBSlml-4y"
      }
    },
    {
      "cell_type": "markdown",
      "source": [
        "#### No igualdad"
      ],
      "metadata": {
        "id": "m04WuZPrmJMx"
      }
    },
    {
      "cell_type": "code",
      "source": [
        "2 != 1"
      ],
      "metadata": {
        "colab": {
          "base_uri": "https://localhost:8080/"
        },
        "id": "OgrZThQSl7UC",
        "outputId": "4ab879cf-f93f-47ff-e390-765f4dc69fe6"
      },
      "execution_count": null,
      "outputs": [
        {
          "output_type": "execute_result",
          "data": {
            "text/plain": [
              "True"
            ]
          },
          "metadata": {},
          "execution_count": 3
        }
      ]
    },
    {
      "cell_type": "code",
      "source": [
        "2 != 2"
      ],
      "metadata": {
        "colab": {
          "base_uri": "https://localhost:8080/"
        },
        "id": "8pIA4MTLmMOa",
        "outputId": "0b7f39c7-191d-48ba-f661-27f6677a4d82"
      },
      "execution_count": null,
      "outputs": [
        {
          "output_type": "execute_result",
          "data": {
            "text/plain": [
              "False"
            ]
          },
          "metadata": {},
          "execution_count": 4
        }
      ]
    },
    {
      "cell_type": "markdown",
      "source": [
        "#### Mayor que"
      ],
      "metadata": {
        "id": "KdUmpjdcmRVL"
      }
    },
    {
      "cell_type": "code",
      "source": [
        "2 > 1"
      ],
      "metadata": {
        "colab": {
          "base_uri": "https://localhost:8080/"
        },
        "id": "tc2ULdPtmNnz",
        "outputId": "6e00a7de-70e4-4397-ca97-a2a65f8e95e1"
      },
      "execution_count": null,
      "outputs": [
        {
          "output_type": "execute_result",
          "data": {
            "text/plain": [
              "True"
            ]
          },
          "metadata": {},
          "execution_count": 5
        }
      ]
    },
    {
      "cell_type": "code",
      "source": [
        "2 > 4"
      ],
      "metadata": {
        "colab": {
          "base_uri": "https://localhost:8080/"
        },
        "id": "wsYfXwwzmUIe",
        "outputId": "76cf9e2b-dd9f-4917-bd7d-5935491e6600"
      },
      "execution_count": null,
      "outputs": [
        {
          "output_type": "execute_result",
          "data": {
            "text/plain": [
              "False"
            ]
          },
          "metadata": {},
          "execution_count": 6
        }
      ]
    },
    {
      "cell_type": "markdown",
      "source": [
        "#### Menor que"
      ],
      "metadata": {
        "id": "fuV26Q0LmXDc"
      }
    },
    {
      "cell_type": "code",
      "source": [
        "2 < 4"
      ],
      "metadata": {
        "colab": {
          "base_uri": "https://localhost:8080/"
        },
        "id": "aIGG0TxtmVhW",
        "outputId": "1fe52be5-8318-4bd6-9850-401173a60a64"
      },
      "execution_count": null,
      "outputs": [
        {
          "output_type": "execute_result",
          "data": {
            "text/plain": [
              "True"
            ]
          },
          "metadata": {},
          "execution_count": 7
        }
      ]
    },
    {
      "cell_type": "code",
      "source": [
        "2 < 1"
      ],
      "metadata": {
        "colab": {
          "base_uri": "https://localhost:8080/"
        },
        "id": "QYBUrkLYmaEb",
        "outputId": "96a1ae04-335d-4743-af2c-143294c47a53"
      },
      "execution_count": null,
      "outputs": [
        {
          "output_type": "execute_result",
          "data": {
            "text/plain": [
              "False"
            ]
          },
          "metadata": {},
          "execution_count": 8
        }
      ]
    },
    {
      "cell_type": "markdown",
      "source": [
        "#### Mayor o igual que"
      ],
      "metadata": {
        "id": "7IXv7kwlmd6q"
      }
    },
    {
      "cell_type": "code",
      "source": [
        "2 >= 2"
      ],
      "metadata": {
        "colab": {
          "base_uri": "https://localhost:8080/"
        },
        "id": "S0yOk_abmaxA",
        "outputId": "d86b8b86-9db7-46bb-d842-a10abec69591"
      },
      "execution_count": null,
      "outputs": [
        {
          "output_type": "execute_result",
          "data": {
            "text/plain": [
              "True"
            ]
          },
          "metadata": {},
          "execution_count": 9
        }
      ]
    },
    {
      "cell_type": "code",
      "source": [
        "2 >= 1"
      ],
      "metadata": {
        "colab": {
          "base_uri": "https://localhost:8080/"
        },
        "id": "PAf43-DLmg2_",
        "outputId": "1771aac1-01dc-41a5-a38f-ba1a62366b51"
      },
      "execution_count": null,
      "outputs": [
        {
          "output_type": "execute_result",
          "data": {
            "text/plain": [
              "True"
            ]
          },
          "metadata": {},
          "execution_count": 10
        }
      ]
    },
    {
      "cell_type": "markdown",
      "source": [
        "#### Menor o igual que"
      ],
      "metadata": {
        "id": "2fNdmoK_mi5w"
      }
    },
    {
      "cell_type": "code",
      "source": [
        "2 <= 2"
      ],
      "metadata": {
        "colab": {
          "base_uri": "https://localhost:8080/"
        },
        "id": "a_7mmj8imiH6",
        "outputId": "d1c44276-5ba0-4fbf-b43b-f0820f7a1553"
      },
      "execution_count": null,
      "outputs": [
        {
          "output_type": "execute_result",
          "data": {
            "text/plain": [
              "True"
            ]
          },
          "metadata": {},
          "execution_count": 11
        }
      ]
    },
    {
      "cell_type": "code",
      "source": [
        "2 <= 4"
      ],
      "metadata": {
        "colab": {
          "base_uri": "https://localhost:8080/"
        },
        "id": "KyHMVt8Dml7L",
        "outputId": "c450ed93-61bc-4886-f891-2ff9d8e55bb2"
      },
      "execution_count": null,
      "outputs": [
        {
          "output_type": "execute_result",
          "data": {
            "text/plain": [
              "True"
            ]
          },
          "metadata": {},
          "execution_count": 12
        }
      ]
    },
    {
      "cell_type": "code",
      "source": [],
      "metadata": {
        "id": "6SNd-h5JmodO"
      },
      "execution_count": null,
      "outputs": []
    },
    {
      "cell_type": "markdown",
      "source": [
        "# Operadores de comparación encadenados\n",
        "\n",
        "Una característica interesante de Python es la capacidad de *encadenar* múltiples comparaciones para realizar una prueba más compleja. Se puede utilizar estas comparaciones encadenadas como abreviatura de expresiones booleanas más grandes.\n",
        "\n",
        "En esta lección aprenderemos cómo encadenar operadores de comparación y también presentaremos otras dos declaraciones importantes en Python: **y** y **o**.\n",
        "\n",
        "Veamos algunos ejemplos de uso de comparaciones encadenadas:"
      ],
      "metadata": {
        "id": "h_OaczQ_mvRX"
      }
    },
    {
      "cell_type": "code",
      "source": [
        "1 < 2 < 3"
      ],
      "metadata": {
        "colab": {
          "base_uri": "https://localhost:8080/"
        },
        "id": "WjB-IX9RnDxf",
        "outputId": "3e2c6001-c08d-41d1-bb73-beaa920105da"
      },
      "execution_count": null,
      "outputs": [
        {
          "output_type": "execute_result",
          "data": {
            "text/plain": [
              "True"
            ]
          },
          "metadata": {},
          "execution_count": 13
        }
      ]
    },
    {
      "cell_type": "markdown",
      "source": [
        "La declaración de arriba verifica si 1 es menor a 2 y si 2 es menor a 3. Y es equivalente a la siguiente:"
      ],
      "metadata": {
        "id": "s0zq7zuCnRGQ"
      }
    },
    {
      "cell_type": "code",
      "source": [
        "1 < 2 and 2 < 3"
      ],
      "metadata": {
        "id": "02aOCnAfnGFt"
      },
      "execution_count": null,
      "outputs": []
    },
    {
      "cell_type": "markdown",
      "source": [
        "El **and** se utiliza para garantizar que dos comprobaciones deben ser verdaderas para que la verificación total sea verdadera. Veamos otro ejemplo:"
      ],
      "metadata": {
        "id": "abztysS_nve4"
      }
    },
    {
      "cell_type": "code",
      "source": [
        "1 < 3 > 2"
      ],
      "metadata": {
        "colab": {
          "base_uri": "https://localhost:8080/"
        },
        "id": "6mYoG2Q2oLRX",
        "outputId": "5c7374ea-4b7d-40c8-8bca-4f6f9cee5f2f"
      },
      "execution_count": null,
      "outputs": [
        {
          "output_type": "execute_result",
          "data": {
            "text/plain": [
              "True"
            ]
          },
          "metadata": {},
          "execution_count": 14
        }
      ]
    },
    {
      "cell_type": "markdown",
      "source": [
        "Es importante tener en cuenta que Python verifica ambas instancias de las comparaciones. También podemos usar **or** para escribir comparaciones en Python. Por ejemplo:"
      ],
      "metadata": {
        "id": "QJuCnUo-oRA1"
      }
    },
    {
      "cell_type": "code",
      "source": [
        "1 == 1 or 2 < 3"
      ],
      "metadata": {
        "colab": {
          "base_uri": "https://localhost:8080/"
        },
        "id": "3PZd2iu0oMRX",
        "outputId": "9c875ce4-51a2-49ff-efc0-51dd42427183"
      },
      "execution_count": null,
      "outputs": [
        {
          "output_type": "execute_result",
          "data": {
            "text/plain": [
              "True"
            ]
          },
          "metadata": {},
          "execution_count": 15
        }
      ]
    },
    {
      "cell_type": "markdown",
      "source": [
        "Observe cómo era cierto; Esto se debe a que con el operador **or**, solo necesitamos que uno *o* el otro sea verdadero. Veamos un ejemplo más para aclarar esto:"
      ],
      "metadata": {
        "id": "YoTNpZ2pobGK"
      }
    },
    {
      "cell_type": "code",
      "source": [
        "1 == 1 or 100 == 1"
      ],
      "metadata": {
        "colab": {
          "base_uri": "https://localhost:8080/"
        },
        "id": "PBPIy--doXNZ",
        "outputId": "53b7fcb7-f335-40b5-8c1a-3f8e4e2dc897"
      },
      "execution_count": null,
      "outputs": [
        {
          "output_type": "execute_result",
          "data": {
            "text/plain": [
              "True"
            ]
          },
          "metadata": {},
          "execution_count": 16
        }
      ]
    }
  ]
}