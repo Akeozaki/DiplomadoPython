{
  "nbformat": 4,
  "nbformat_minor": 0,
  "metadata": {
    "colab": {
      "provenance": [],
      "include_colab_link": true
    },
    "kernelspec": {
      "name": "python3",
      "display_name": "Python 3"
    },
    "language_info": {
      "name": "python"
    }
  },
  "cells": [
    {
      "cell_type": "markdown",
      "metadata": {
        "id": "view-in-github",
        "colab_type": "text"
      },
      "source": [
        "<a href=\"https://colab.research.google.com/github/Akeozaki/DiplomadoPython/blob/master/2_2_Impresi%C3%B3n_avanzada.ipynb\" target=\"_parent\"><img src=\"https://colab.research.google.com/assets/colab-badge.svg\" alt=\"Open In Colab\"/></a>"
      ]
    },
    {
      "cell_type": "markdown",
      "source": [
        "# Formato de la cadena\n",
        "\n",
        "El formato de cadena le permite insertar elementos en una cadena en lugar de intentar encadenar elementos mediante comas o concatenación de cadenas. Como comparación rápida, considere:\n",
        "\n",
        "     Jugador = 'Tomas'\n",
        "     Puntos = 33\n",
        "    \n",
        "     'Anoche,'+jugador+'anotó'+str (punta)+'puntos.' # Concatenación\n",
        "    \n",
        "     F'Anoche, {jugador} anotó {puntos} puntos. ' # Formato de cadena\n",
        "\n",
        "\n",
        "Existen tres formas de realizar el formateo de cadenas.\n",
        "* El método más antiguo implica marcadores de posición que utilizan el carácter de módulo `%`.\n",
        "* Una técnica mejorada utiliza el método de cadena `.format ()`.\n",
        "*El método más nuevo, introducido con Python 3.6, utiliza cadenas literales formateadas, llamadas *f-strings *.\n",
        "\n",
        "Describimos cada una de ellas."
      ],
      "metadata": {
        "id": "wxjyDpVHRUux"
      }
    },
    {
      "cell_type": "markdown",
      "source": [
        "## Formato con marcadores de posición\n",
        "Puede utilizar <code>%s</code> para inyectar cadenas en sus declaraciones impresas. El módulo `%` se conoce como \"operador de formato de cadena\"."
      ],
      "metadata": {
        "id": "7JxOon0zRta4"
      }
    },
    {
      "cell_type": "code",
      "execution_count": null,
      "metadata": {
        "colab": {
          "base_uri": "https://localhost:8080/"
        },
        "id": "01dBll7ARIkg",
        "outputId": "9f627a70-50d5-4d5e-976b-460647aa40bf"
      },
      "outputs": [
        {
          "output_type": "stream",
          "name": "stdout",
          "text": [
            "Voy a inyectar algo aquí.\n"
          ]
        }
      ],
      "source": [
        "print(\"Voy a inyectar %s aquí.\" %'algo')"
      ]
    },
    {
      "cell_type": "markdown",
      "source": [
        "Puede pasar varios elementos colocándolos dentro de una tupla después del operador `%`."
      ],
      "metadata": {
        "id": "geSGvxgKSBYa"
      }
    },
    {
      "cell_type": "code",
      "source": [
        "print(\"Voy a inyectar %s texto aquí y %s texto aquí.\" %('Algo', 'Más'))"
      ],
      "metadata": {
        "colab": {
          "base_uri": "https://localhost:8080/"
        },
        "id": "UL39vqSlR-fQ",
        "outputId": "e57c4819-76ef-4c14-8660-61111ce6a111"
      },
      "execution_count": null,
      "outputs": [
        {
          "output_type": "stream",
          "name": "stdout",
          "text": [
            "Voy a inyectar Algo texto aquí y Más texto aquí.\n"
          ]
        }
      ]
    },
    {
      "cell_type": "markdown",
      "source": [
        "También se puede pasar nombres de variables:"
      ],
      "metadata": {
        "id": "sP3FxzU5SiYI"
      }
    },
    {
      "cell_type": "code",
      "source": [
        "x, y = 'Algo', 'Más'\n",
        "print(\"Voy a inyectar %s texto aquí y %s texto aquí.\"%(x,y))"
      ],
      "metadata": {
        "colab": {
          "base_uri": "https://localhost:8080/"
        },
        "id": "pzv7p_BwSUkt",
        "outputId": "6492e938-cb3b-4eec-d854-5dafdd581373"
      },
      "execution_count": null,
      "outputs": [
        {
          "output_type": "stream",
          "name": "stdout",
          "text": [
            "Voy a inyectar Algo texto aquí y Más texto aquí.\n"
          ]
        }
      ]
    },
    {
      "cell_type": "markdown",
      "source": [
        "### Métodos de conversión de formato.\n",
        "Cabe señalar que dos métodos <code>%s</code> y <code>%r</code> convierten cualquier objeto de Python en una cadena usando dos métodos separados: `str ()` y `repr ()`. Aprenderemos más sobre estas funciones más adelante en el curso, pero debe tenerse en cuenta que `%r` y entrega la *representación de cadena* del objeto, incluidas las comillas y los caracteres de escape."
      ],
      "metadata": {
        "id": "gtts_BYnSy4S"
      }
    },
    {
      "cell_type": "code",
      "source": [
        "print('Dijo que su nombre es %s.' %'José')\n",
        "print('Dijo que su nombre es %r.' %'José')"
      ],
      "metadata": {
        "colab": {
          "base_uri": "https://localhost:8080/"
        },
        "id": "zl-ogAHFSyfE",
        "outputId": "f478091b-9f98-4234-f665-1fa5a4d5a244"
      },
      "execution_count": null,
      "outputs": [
        {
          "output_type": "stream",
          "name": "stdout",
          "text": [
            "Dijo que su nombre es José.\n",
            "Dijo que su nombre es 'José'.\n"
          ]
        }
      ]
    },
    {
      "cell_type": "markdown",
      "source": [
        "Como otro ejemplo, `\\t` inserta una pestaña en una cadena."
      ],
      "metadata": {
        "id": "aMPP_BqaTdWE"
      }
    },
    {
      "cell_type": "code",
      "source": [
        "print('Pesqué un pez %s.' %'así \\tde grande')\n",
        "print('Pesqué un pez %r.' %'así \\tde grande')"
      ],
      "metadata": {
        "colab": {
          "base_uri": "https://localhost:8080/"
        },
        "id": "PD_BlDKxTSvO",
        "outputId": "34fb6450-11b1-4bc2-98ad-c9515a900704"
      },
      "execution_count": null,
      "outputs": [
        {
          "output_type": "stream",
          "name": "stdout",
          "text": [
            "Pesqué un pez así \tde grande.\n",
            "Pesqué un pez 'así \\tde grande'.\n"
          ]
        }
      ]
    },
    {
      "cell_type": "markdown",
      "source": [
        "El operador `%s` convierte todo lo que ve en una cadena, incluidos números enteros y flotantes. El operador `%d` convierte primero los números a enteros, sin redondear. Tenga en cuenta la diferencia a continuación:"
      ],
      "metadata": {
        "id": "8ouYuM_VT40G"
      }
    },
    {
      "cell_type": "code",
      "source": [
        "print('Escribí %s programas hoy.' %3.75)\n",
        "print('Escribí %d programas hoy.' %3.75)"
      ],
      "metadata": {
        "colab": {
          "base_uri": "https://localhost:8080/"
        },
        "id": "DTLRB0PETuWu",
        "outputId": "547436d8-ea87-4531-d2bf-af3f09ae0572"
      },
      "execution_count": null,
      "outputs": [
        {
          "output_type": "stream",
          "name": "stdout",
          "text": [
            "Escribí 3.75 programas hoy.\n",
            "Escribí 3 programas hoy.\n"
          ]
        }
      ]
    },
    {
      "cell_type": "markdown",
      "source": [
        "### Relleno y precisión de números de coma flotante\n",
        "Los números de coma flotante utilizan el formato <code>%5.2f</code>. Aquí, <code>5</code> sería el número mínimo de caracteres que debe contener la cadena; Estos pueden completarse con espacios en blanco si el número completo no tiene tantos dígitos. Junto a esto, <code>.2f</code> representa cuántos números se muestran más allá del punto decimal. Veamos algunos ejemplos:"
      ],
      "metadata": {
        "id": "z5wP6MWcUVPt"
      }
    },
    {
      "cell_type": "code",
      "source": [
        "print('Número de punto flotante: %4.2f' %(13.144))"
      ],
      "metadata": {
        "colab": {
          "base_uri": "https://localhost:8080/"
        },
        "id": "r4bXMNSRUhEJ",
        "outputId": "b3571997-7db8-4b31-efb8-acea3f00608d"
      },
      "execution_count": null,
      "outputs": [
        {
          "output_type": "stream",
          "name": "stdout",
          "text": [
            "Número de punto flotante: 13.14\n"
          ]
        }
      ]
    },
    {
      "cell_type": "code",
      "source": [
        "print('Número de punto flotante: %1.0f' %(13.144))"
      ],
      "metadata": {
        "colab": {
          "base_uri": "https://localhost:8080/"
        },
        "id": "HL__A1UqUijB",
        "outputId": "eade50bf-e203-45f4-d457-5bebcca1a8c6"
      },
      "execution_count": null,
      "outputs": [
        {
          "output_type": "stream",
          "name": "stdout",
          "text": [
            "Número de punto flotante: 13\n"
          ]
        }
      ]
    },
    {
      "cell_type": "code",
      "source": [
        "print('Número de punto flotante: %1.5f' %(13.144))"
      ],
      "metadata": {
        "colab": {
          "base_uri": "https://localhost:8080/"
        },
        "id": "ipHj2odEUxx1",
        "outputId": "9afddecd-222f-4a56-b035-a10e952d2ed5"
      },
      "execution_count": null,
      "outputs": [
        {
          "output_type": "stream",
          "name": "stdout",
          "text": [
            "Número de punto flotante: 13.14400\n"
          ]
        }
      ]
    },
    {
      "cell_type": "code",
      "source": [
        "print('Número de punto flotante: %10.2f' %(13.144))"
      ],
      "metadata": {
        "colab": {
          "base_uri": "https://localhost:8080/"
        },
        "id": "RKpGMvfZU_r4",
        "outputId": "a0b969c2-2c98-47ea-ca0c-5d651f3b80f3"
      },
      "execution_count": null,
      "outputs": [
        {
          "output_type": "stream",
          "name": "stdout",
          "text": [
            "Número de punto flotante:      13.14\n"
          ]
        }
      ]
    },
    {
      "cell_type": "code",
      "source": [
        "print('Número de punto flotante: %25.2f' %(13.144))"
      ],
      "metadata": {
        "colab": {
          "base_uri": "https://localhost:8080/"
        },
        "id": "bsfXP2_iVRUU",
        "outputId": "609dea2b-7e7a-4ad1-c732-94eba78cc9e6"
      },
      "execution_count": null,
      "outputs": [
        {
          "output_type": "stream",
          "name": "stdout",
          "text": [
            "Número de punto flotante:                     13.14\n"
          ]
        }
      ]
    },
    {
      "cell_type": "markdown",
      "source": [
        "Para más información: https://docs.python.org/3/library/stdtypes.html#old-string-formatting"
      ],
      "metadata": {
        "id": "9obHYB2bVYNA"
      }
    },
    {
      "cell_type": "markdown",
      "source": [
        "### Formato múltiple\n",
        "Nada prohíbe utilizar más de una herramienta de conversión en la misma declaración de `print()`:"
      ],
      "metadata": {
        "id": "cmWInaBHVloc"
      }
    },
    {
      "cell_type": "code",
      "source": [
        "print('Primero: %s, Segundo: %5.2f, Tercero: %r' %('hola!', 3.1415,'chau!'))"
      ],
      "metadata": {
        "colab": {
          "base_uri": "https://localhost:8080/"
        },
        "id": "2_FF7QTvVgdk",
        "outputId": "97014328-5b9d-405a-ea45-55cf5ad70a9e"
      },
      "execution_count": null,
      "outputs": [
        {
          "output_type": "stream",
          "name": "stdout",
          "text": [
            "Primero: hola!, Segundo:  3.14, Tercero: 'chau!'\n"
          ]
        }
      ]
    },
    {
      "cell_type": "markdown",
      "source": [
        "## Formatear con el método `.format ()`\n",
        "Una mejor manera de formatear objetos en sus cadenas para declaraciones impresas es con el método de cadena `.format ()`. La sintaxis es:\n",
        "\n",
        "     'Cadena aquí {} y luego también {}'.format('algo1', 'algo2')\n",
        "    \n",
        "Por ejemplo:"
      ],
      "metadata": {
        "id": "nZiJxMIRWItf"
      }
    },
    {
      "cell_type": "code",
      "source": [
        "print('Esta es una cadena con una {}'.format('inserción'))"
      ],
      "metadata": {
        "colab": {
          "base_uri": "https://localhost:8080/"
        },
        "id": "xDogovCiWTmI",
        "outputId": "ed8836da-76a6-4c25-921e-9a2e114e9c6c"
      },
      "execution_count": null,
      "outputs": [
        {
          "output_type": "stream",
          "name": "stdout",
          "text": [
            "Esta es una cadena con una inserción\n"
          ]
        }
      ]
    },
    {
      "cell_type": "markdown",
      "source": [
        "### El método .format() tiene varias ventajas por sobre el método de *placeholder*  %s:"
      ],
      "metadata": {
        "id": "YdHUhvc5WTBX"
      }
    },
    {
      "cell_type": "markdown",
      "source": [
        "#### 1. Los objetos insertados se pueden llamar por la posición del índice:"
      ],
      "metadata": {
        "id": "ZDPE5Rb0W79Q"
      }
    },
    {
      "cell_type": "code",
      "source": [
        "print('El {2} {1} {0}'.format('marrón','zorro','veloz'))"
      ],
      "metadata": {
        "colab": {
          "base_uri": "https://localhost:8080/"
        },
        "id": "V-R8hoYxW2TR",
        "outputId": "deb39de0-ec5a-4346-f397-93b7e38c8a83"
      },
      "execution_count": null,
      "outputs": [
        {
          "output_type": "stream",
          "name": "stdout",
          "text": [
            "El veloz zorro marrón\n"
          ]
        }
      ]
    },
    {
      "cell_type": "markdown",
      "source": [
        "#### 2. A los objetos insertados se les pueden asignar palabras clave:"
      ],
      "metadata": {
        "id": "xEXyoZK6XPcg"
      }
    },
    {
      "cell_type": "code",
      "source": [
        "print ('Primer objeto: {a}, Segundo objeto: {b}, Tercer objeto: {c}'.format (a = 1, b = 'Dos', c = 12.3))"
      ],
      "metadata": {
        "colab": {
          "base_uri": "https://localhost:8080/"
        },
        "id": "DOJi-k3WW6Ae",
        "outputId": "c5280e1c-7ced-41a0-8760-37fde407401e"
      },
      "execution_count": null,
      "outputs": [
        {
          "output_type": "stream",
          "name": "stdout",
          "text": [
            "Primer objeto: 1, Segundo objeto: Dos, Tercer objeto: 12.3\n"
          ]
        }
      ]
    },
    {
      "cell_type": "markdown",
      "source": [
        "#### 3. Los objetos insertados se pueden reutilizar, evitando duplicaciones:"
      ],
      "metadata": {
        "id": "JO2tDavgXd8s"
      }
    },
    {
      "cell_type": "code",
      "source": [
        "print ('Un %s ahorrado es un %s ganado.' %('guaraní', 'guaraní'))\n",
        "#\n",
        "print ('Un {p} ahorrado es un {p} ganado.'.format(p = 'guaraní'))"
      ],
      "metadata": {
        "colab": {
          "base_uri": "https://localhost:8080/"
        },
        "id": "Rp8b8WsaXXvR",
        "outputId": "4f0bb97a-44d4-4746-e727-db28535d7147"
      },
      "execution_count": null,
      "outputs": [
        {
          "output_type": "stream",
          "name": "stdout",
          "text": [
            "Un guaraní ahorrado es un guaraní ganado.\n",
            "Un guaraní ahorrado es un guaraní ganado.\n"
          ]
        }
      ]
    },
    {
      "cell_type": "markdown",
      "source": [
        "### Alineación, relleno y precisión con `.format ()`\n",
        "Dentro de las llaves puede asignar longitudes de campo, alineaciones izquierda/derecha, parámetros de redondeo y más."
      ],
      "metadata": {
        "id": "jdIu5vkyX-h_"
      }
    },
    {
      "cell_type": "code",
      "source": [
        "print('{0:8} | {1:8}'.format('Fruta', 'Cantidad'))\n",
        "print('{0:8} | {1:8}'.format('Manzanas', 3.))\n",
        "print('{0:8} | {1:8}'.format('Naranjas', 10))"
      ],
      "metadata": {
        "colab": {
          "base_uri": "https://localhost:8080/"
        },
        "id": "NL_QpxBkYDfY",
        "outputId": "30642d14-41d1-49f3-a2f4-b96d23561c84"
      },
      "execution_count": null,
      "outputs": [
        {
          "output_type": "stream",
          "name": "stdout",
          "text": [
            "Fruta    | Cantidad\n",
            "Manzanas |      3.0\n",
            "Naranjas |       10\n"
          ]
        }
      ]
    },
    {
      "cell_type": "markdown",
      "source": [
        "De forma predeterminada, `.format ()` alinea el texto a la izquierda y los números a la derecha. Opcionalmente se puede pasar un `<`, `^` o `>` para establecer la alineación izquierda, central o derecha:"
      ],
      "metadata": {
        "id": "FNrePb6LY3f7"
      }
    },
    {
      "cell_type": "code",
      "source": [
        "print('{0:<9} | {1:^9} | {2:>9}'.format('Izquierda','Centro','Derecha'))\n",
        "print('{0:<9} | {1:^9} | {2:>9}'.format(11,22,33))"
      ],
      "metadata": {
        "colab": {
          "base_uri": "https://localhost:8080/"
        },
        "id": "P6q8ZBCwYH7P",
        "outputId": "68d83447-9678-45fc-8b62-1e933bf3dca3"
      },
      "execution_count": null,
      "outputs": [
        {
          "output_type": "stream",
          "name": "stdout",
          "text": [
            "Izquierda |  Centro   |   Derecha\n",
            "11        |    22     |        33\n"
          ]
        }
      ]
    },
    {
      "cell_type": "markdown",
      "source": [
        "Puede preceder al operador de alineación con un carácter de relleno"
      ],
      "metadata": {
        "id": "7h691WD6Zjwq"
      }
    },
    {
      "cell_type": "code",
      "source": [
        "print('{0:=<9} | {1:-^9} | {2:.>9}'.format('Izquierda','Centro','Derecha'))\n",
        "print('{0:=<9} | {1:-^9} | {2:.>9}'.format(11,22,33))"
      ],
      "metadata": {
        "id": "VeNr-Ha5ZE1x"
      },
      "execution_count": null,
      "outputs": []
    },
    {
      "cell_type": "markdown",
      "source": [
        "Los anchos de campo y la precisión flotante se manejan de manera similar a los marcadores de posición. Las siguientes dos declaraciones impresas son equivalentes:"
      ],
      "metadata": {
        "id": "Jo-4p16GZxp4"
      }
    },
    {
      "cell_type": "code",
      "source": [
        "print('Este es mi número de diez caracteres y dos decimales:%10.2f' %13.579)\n",
        "print('Este es mi número de diez caracteres y dos decimales:{0:10.2f}'.format(13.579))"
      ],
      "metadata": {
        "colab": {
          "base_uri": "https://localhost:8080/"
        },
        "id": "ViQ9XPE3Z56H",
        "outputId": "1cb20f95-9f59-47a3-949d-68bbbc3434ef"
      },
      "execution_count": null,
      "outputs": [
        {
          "output_type": "stream",
          "name": "stdout",
          "text": [
            "Este es mi número de diez caracteres y dos decimales:     13.58\n",
            "Este es mi número de diez caracteres y dos decimales:     13.58\n"
          ]
        }
      ]
    },
    {
      "cell_type": "markdown",
      "source": [
        "Tengase en cuenta que hay 5 espacios después de los dos puntos y 5 caracteres ocupados por 13,58, para un total de diez caracteres.\n",
        "\n",
        "Más información sobre el método de cadena `.format ()`: https://docs.python.org/3/library/string.html#formatstrings"
      ],
      "metadata": {
        "id": "3Sjdzw20aNQD"
      }
    },
    {
      "cell_type": "markdown",
      "source": [
        "## Literales de cadena formateados (f-strings)"
      ],
      "metadata": {
        "id": "4NJXghqLaXrg"
      }
    },
    {
      "cell_type": "markdown",
      "source": [
        "Introducido en Python 3.6, los f-strings ofrecen varios beneficios sobre el antiguo método de cadena `.format ()` descrito anteriormente. Por un lado, puede incorporar variables externas inmediatamente a la cadena en lugar de pasarlas como argumentos a través de `.format (var)`."
      ],
      "metadata": {
        "id": "I6U2aEvbahbj"
      }
    },
    {
      "cell_type": "code",
      "source": [
        "nombre = 'José'\n",
        "\n",
        "print(f\"Su nombre es {nombre}.\")"
      ],
      "metadata": {
        "colab": {
          "base_uri": "https://localhost:8080/"
        },
        "id": "Q2ibfCJcahCc",
        "outputId": "fe3a238a-32a7-4539-e959-31a5079bafa3"
      },
      "execution_count": null,
      "outputs": [
        {
          "output_type": "stream",
          "name": "stdout",
          "text": [
            "Su nombre es José.\n"
          ]
        }
      ]
    },
    {
      "cell_type": "markdown",
      "source": [
        "Pase `!r` para obtener la representación de la cadena:"
      ],
      "metadata": {
        "id": "mJTdSVB6a0wo"
      }
    },
    {
      "cell_type": "code",
      "source": [
        "print(f\"Su nombre es {nombre!r}\")"
      ],
      "metadata": {
        "colab": {
          "base_uri": "https://localhost:8080/"
        },
        "id": "MCDHwyhmausZ",
        "outputId": "5c5fbac1-7d3b-4de6-ffe9-26855f636c28"
      },
      "execution_count": null,
      "outputs": [
        {
          "output_type": "stream",
          "name": "stdout",
          "text": [
            "Su nombre es 'José'\n"
          ]
        }
      ]
    },
    {
      "cell_type": "markdown",
      "source": [
        "#### El formato flotante sigue `\"resultado: {valor: {ancho}. {Precisión}}\"`"
      ],
      "metadata": {
        "id": "E0AvAcugbBMl"
      }
    },
    {
      "cell_type": "markdown",
      "source": [
        "Donde con el método `.format ()` puede ver `{value: 10.4f}`, con f-strings esto puede convertirse en `{value: {10}.{6}}`"
      ],
      "metadata": {
        "id": "ueJo16YhbKG8"
      }
    },
    {
      "cell_type": "code",
      "source": [
        "num = 23.45678\n",
        "print(\"Mi número de 10 caracteres y 4 decimales es:{0:10.4f}\".format(num))\n",
        "print(f\"Mi número de 10 caracteres y 4 decimales es:{num:{10}.{6}}\")"
      ],
      "metadata": {
        "colab": {
          "base_uri": "https://localhost:8080/"
        },
        "id": "Ywy6Urnxa78j",
        "outputId": "685d9ab7-faec-4db9-fa21-b0410071176d"
      },
      "execution_count": null,
      "outputs": [
        {
          "output_type": "stream",
          "name": "stdout",
          "text": [
            "Mi número de 10 caracteres y 4 decimales es:   23.4568\n",
            "Mi número de 10 caracteres y 4 decimales es:   23.4568\n"
          ]
        }
      ]
    },
    {
      "cell_type": "markdown",
      "source": [
        "Tenga en cuenta que con los f-strings, *precisión* se refiere al número total de dígitos, no solo a los que siguen al decimal. Esto encaja más estrechamente con la notación científica y el análisis estadístico. Desafortunadamente, las cadenas f no se rellenan a la derecha del decimal, incluso si la precisión lo permite:"
      ],
      "metadata": {
        "id": "KYft2EpBblcq"
      }
    },
    {
      "cell_type": "code",
      "source": [
        "num = 23.45\n",
        "print(\"Mi número de 10 caracteres y 4 decimales es:{0:10.4f}\".format(num))\n",
        "print(f\"Mi número de 10 caracteres y 4 decimales es:{num:{10}.{6}}\")"
      ],
      "metadata": {
        "colab": {
          "base_uri": "https://localhost:8080/"
        },
        "id": "FDhKBOv0blKe",
        "outputId": "3ec77b3f-1b97-497d-8d23-a388551c673a"
      },
      "execution_count": null,
      "outputs": [
        {
          "output_type": "stream",
          "name": "stdout",
          "text": [
            "Mi número de 10 caracteres y 4 decimales es:   23.4500\n",
            "Mi número de 10 caracteres y 4 decimales es:     23.45\n"
          ]
        }
      ]
    },
    {
      "cell_type": "markdown",
      "source": [
        "Si esto se vuelve importante, siempre puede usar la sintaxis del método `.format ()` dentro de una cadena f:"
      ],
      "metadata": {
        "id": "B7xnfhq3b7dT"
      }
    },
    {
      "cell_type": "code",
      "source": [
        "num = 23.45\n",
        "print(\"Mi número de 10 caracteres y 4 decimales es:{0:10.4f}\".format(num))\n",
        "print(f\"Mi número de 10 caracteres y 4 decimales es:{num:10.4f}\")"
      ],
      "metadata": {
        "colab": {
          "base_uri": "https://localhost:8080/"
        },
        "id": "kmjE_YYUcCCt",
        "outputId": "3067a2f5-b060-4068-9a69-44806390bb20"
      },
      "execution_count": null,
      "outputs": [
        {
          "output_type": "stream",
          "name": "stdout",
          "text": [
            "Mi número de 10 caracteres y 4 decimales es:   23.4500\n",
            "Mi número de 10 caracteres y 4 decimales es:   23.4500\n"
          ]
        }
      ]
    },
    {
      "cell_type": "markdown",
      "source": [
        "Para más información: https://docs.python.org/3/reference/lexical_analysis.html#f-strings"
      ],
      "metadata": {
        "id": "cLdTSg9mcgkG"
      }
    }
  ]
}