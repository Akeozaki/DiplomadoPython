{
  "nbformat": 4,
  "nbformat_minor": 0,
  "metadata": {
    "colab": {
      "provenance": [],
      "include_colab_link": true
    },
    "kernelspec": {
      "name": "python3",
      "display_name": "Python 3"
    },
    "language_info": {
      "name": "python"
    }
  },
  "cells": [
    {
      "cell_type": "markdown",
      "metadata": {
        "id": "view-in-github",
        "colab_type": "text"
      },
      "source": [
        "<a href=\"https://colab.research.google.com/github/Akeozaki/DiplomadoPython/blob/master/Copia_de_2_4_Ejercicios_Clase_2_Parte_1.ipynb\" target=\"_parent\"><img src=\"https://colab.research.google.com/assets/colab-badge.svg\" alt=\"Open In Colab\"/></a>"
      ]
    },
    {
      "cell_type": "markdown",
      "source": [
        "# Cadenas"
      ],
      "metadata": {
        "id": "EIusEDUmMi5f"
      }
    },
    {
      "cell_type": "code",
      "execution_count": null,
      "metadata": {
        "id": "g0UP_cMPL_JC",
        "colab": {
          "base_uri": "https://localhost:8080/",
          "height": 36
        },
        "outputId": "60b9a9cf-828b-49c8-bb2c-f96ec96999ae"
      },
      "outputs": [
        {
          "output_type": "execute_result",
          "data": {
            "text/plain": [
              "'a'"
            ],
            "application/vnd.google.colaboratory.intrinsic+json": {
              "type": "string"
            }
          },
          "metadata": {},
          "execution_count": 1
        }
      ],
      "source": [
        "s = \"hola\"\n",
        "# Imprimir la a usando indexado\n",
        "s[3]"
      ]
    },
    {
      "cell_type": "code",
      "source": [
        "s = \"hola\"\n",
        "# Invertir la cadena usando slicing (corte)\n",
        "s[ ::-1]\n"
      ],
      "metadata": {
        "id": "ERXE1Yw_Mt9f",
        "colab": {
          "base_uri": "https://localhost:8080/",
          "height": 36
        },
        "outputId": "9e8a58ab-cf00-4c1b-d922-601e46c0fbfe"
      },
      "execution_count": null,
      "outputs": [
        {
          "output_type": "execute_result",
          "data": {
            "text/plain": [
              "'aloh'"
            ],
            "application/vnd.google.colaboratory.intrinsic+json": {
              "type": "string"
            }
          },
          "metadata": {},
          "execution_count": 5
        }
      ]
    },
    {
      "cell_type": "markdown",
      "source": [
        "Dada la cadena \"hola\", imprimir la 'a' utilizando dos métodos diferentes con slicing:"
      ],
      "metadata": {
        "id": "B3OyiSPNNROw"
      }
    },
    {
      "cell_type": "code",
      "source": [
        "s = \"hola\"\n",
        "# Imprimir la 'a'\n",
        "\n",
        "# Método 1\n",
        "s[-1]\n"
      ],
      "metadata": {
        "id": "JGKj9gumNM0h",
        "colab": {
          "base_uri": "https://localhost:8080/",
          "height": 36
        },
        "outputId": "0068f78c-c900-4096-c90e-0b84e97ad163"
      },
      "execution_count": null,
      "outputs": [
        {
          "output_type": "execute_result",
          "data": {
            "text/plain": [
              "'a'"
            ],
            "application/vnd.google.colaboratory.intrinsic+json": {
              "type": "string"
            }
          },
          "metadata": {},
          "execution_count": 11
        }
      ]
    },
    {
      "cell_type": "code",
      "source": [
        "# Método 2\n",
        "\n"
      ],
      "metadata": {
        "id": "Go-2Ku1qNg9P"
      },
      "execution_count": null,
      "outputs": []
    },
    {
      "cell_type": "markdown",
      "source": [
        "# Listas\n",
        "\n",
        "Construir la lista [0, 0, 0] de dos formas posibles"
      ],
      "metadata": {
        "id": "ChIcu3yTNnyI"
      }
    },
    {
      "cell_type": "code",
      "source": [
        "# Método 1\n",
        "l=[0, 0, 0]\n",
        "l"
      ],
      "metadata": {
        "id": "tXUbMrRtNxU1",
        "colab": {
          "base_uri": "https://localhost:8080/"
        },
        "outputId": "d4002620-16c1-4143-af76-1035cc8f8b43"
      },
      "execution_count": null,
      "outputs": [
        {
          "output_type": "execute_result",
          "data": {
            "text/plain": [
              "[0, 0, 0]"
            ]
          },
          "metadata": {},
          "execution_count": 13
        }
      ]
    },
    {
      "cell_type": "code",
      "source": [
        "# Método 2\n"
      ],
      "metadata": {
        "id": "HCjUI2ecNxsL"
      },
      "execution_count": null,
      "outputs": []
    },
    {
      "cell_type": "markdown",
      "source": [
        "Reasignar 'hola' en la lista anidada para que diga 'chau' en su lugar:"
      ],
      "metadata": {
        "id": "s84bt4qON4RE"
      }
    },
    {
      "cell_type": "code",
      "source": [
        "lista3 = [1,2,[3,4,'hola']]"
      ],
      "metadata": {
        "id": "LUmqt8YSODGv"
      },
      "execution_count": null,
      "outputs": []
    },
    {
      "cell_type": "code",
      "source": [
        "lista3[2][2]=\"chau\"\n",
        "lista3"
      ],
      "metadata": {
        "id": "ip6RKse-OfA_",
        "colab": {
          "base_uri": "https://localhost:8080/"
        },
        "outputId": "b0394281-65c9-4f30-912f-dfc60e0ab79b"
      },
      "execution_count": null,
      "outputs": [
        {
          "output_type": "execute_result",
          "data": {
            "text/plain": [
              "[1, 2, [3, 4, 'chau']]"
            ]
          },
          "metadata": {},
          "execution_count": 16
        }
      ]
    },
    {
      "cell_type": "markdown",
      "source": [
        "Ordene la lista siguiente:"
      ],
      "metadata": {
        "id": "NPqnCI8oOUPG"
      }
    },
    {
      "cell_type": "code",
      "source": [
        "lista4 = [5,3,4,6,1]\n",
        "lista4.sort()\n",
        "lista4"
      ],
      "metadata": {
        "id": "is6rKPSGOXWe",
        "colab": {
          "base_uri": "https://localhost:8080/"
        },
        "outputId": "835497c7-3f18-44f7-e53c-40c1ef959c6f"
      },
      "execution_count": null,
      "outputs": [
        {
          "output_type": "execute_result",
          "data": {
            "text/plain": [
              "[1, 3, 4, 5, 6]"
            ]
          },
          "metadata": {},
          "execution_count": 18
        }
      ]
    },
    {
      "cell_type": "code",
      "source": [],
      "metadata": {
        "id": "S9FvCgGOOg7y"
      },
      "execution_count": null,
      "outputs": []
    },
    {
      "cell_type": "markdown",
      "source": [
        "# Diccionarios\n",
        "\n",
        "Usando las claves y la indexación, toma el 'hola' de los siguientes diccionarios:"
      ],
      "metadata": {
        "id": "9JHoR1RLOhlr"
      }
    },
    {
      "cell_type": "code",
      "source": [
        "d = {'clave_simple':'hola'}\n",
        "# Tomar el 'hola'\n",
        "d['clave_simple']"
      ],
      "metadata": {
        "id": "yJhLGSKYOjeI",
        "colab": {
          "base_uri": "https://localhost:8080/",
          "height": 36
        },
        "outputId": "110e54a3-9a4a-48c1-b63c-179c916ffe89"
      },
      "execution_count": null,
      "outputs": [
        {
          "output_type": "execute_result",
          "data": {
            "text/plain": [
              "'hola'"
            ],
            "application/vnd.google.colaboratory.intrinsic+json": {
              "type": "string"
            }
          },
          "metadata": {},
          "execution_count": 20
        }
      ]
    },
    {
      "cell_type": "code",
      "source": [
        "d = {'k1':{'k2':'hola'}}\n",
        "# Tomar el 'hola'\n",
        "d['k1']['k2']"
      ],
      "metadata": {
        "id": "WeNBTtSFO2AF",
        "colab": {
          "base_uri": "https://localhost:8080/",
          "height": 36
        },
        "outputId": "db75cd0a-9ed9-470e-af83-61ff409ff10e"
      },
      "execution_count": null,
      "outputs": [
        {
          "output_type": "execute_result",
          "data": {
            "text/plain": [
              "'hola'"
            ],
            "application/vnd.google.colaboratory.intrinsic+json": {
              "type": "string"
            }
          },
          "metadata": {},
          "execution_count": 21
        }
      ]
    },
    {
      "cell_type": "code",
      "source": [
        "# Se complica un poco más\n",
        "d = {'k1':[{'nest_key':['this is deep',['hello']]}]}\n",
        "\n",
        "# Tomar el 'hola'\n",
        "'k1'"
      ],
      "metadata": {
        "id": "9OrGeZeqO3eR",
        "colab": {
          "base_uri": "https://localhost:8080/",
          "height": 36
        },
        "outputId": "9e66f2d6-9788-4c20-c9f0-e5b73ff9a684"
      },
      "execution_count": null,
      "outputs": [
        {
          "output_type": "execute_result",
          "data": {
            "text/plain": [
              "'k1'"
            ],
            "application/vnd.google.colaboratory.intrinsic+json": {
              "type": "string"
            }
          },
          "metadata": {},
          "execution_count": 28
        }
      ]
    },
    {
      "cell_type": "code",
      "source": [
        "# Con esta terminamos\n",
        "d = {'k1':[1,2,{'k2':['un poco mas complicado',{'k2':[1,2,['hola']]}]}]}\n",
        "\n",
        "# Tomar el 'hola'\n",
        "d['k1']"
      ],
      "metadata": {
        "id": "J-8Sj21mPB6S",
        "colab": {
          "base_uri": "https://localhost:8080/"
        },
        "outputId": "8228263a-72bc-477d-ca15-f85481000379"
      },
      "execution_count": null,
      "outputs": [
        {
          "output_type": "execute_result",
          "data": {
            "text/plain": [
              "[1, 2, {'k2': ['un poco mas complicado', {'k2': [1, 2, ['hola']]}]}]"
            ]
          },
          "metadata": {},
          "execution_count": 25
        }
      ]
    }
  ]
}