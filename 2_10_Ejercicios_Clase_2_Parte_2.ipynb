{
  "nbformat": 4,
  "nbformat_minor": 0,
  "metadata": {
    "colab": {
      "provenance": [],
      "include_colab_link": true
    },
    "kernelspec": {
      "name": "python3",
      "display_name": "Python 3"
    },
    "language_info": {
      "name": "python"
    }
  },
  "cells": [
    {
      "cell_type": "markdown",
      "metadata": {
        "id": "view-in-github",
        "colab_type": "text"
      },
      "source": [
        "<a href=\"https://colab.research.google.com/github/Akeozaki/DiplomadoPython/blob/master/2_10_Ejercicios_Clase_2_Parte_2.ipynb\" target=\"_parent\"><img src=\"https://colab.research.google.com/assets/colab-badge.svg\" alt=\"Open In Colab\"/></a>"
      ]
    },
    {
      "cell_type": "markdown",
      "source": [
        "**Use <code>for</code>, .split(), e <code>if</code> para que se imprima todas las palabras que comiencen con 'i':**"
      ],
      "metadata": {
        "id": "E_CtoNtmTW2K"
      }
    },
    {
      "cell_type": "code",
      "execution_count": null,
      "metadata": {
        "id": "54UTBszDTNB6"
      },
      "outputs": [],
      "source": [
        "s = \"El interés, más conocido como tipo de interés o el precio del dinero, es la cantidad que pagamos por utilizar una cantidad de dinero en un tiempo determinado\"\n"
      ]
    },
    {
      "cell_type": "markdown",
      "source": [
        "**Utilice `range()` para imprimir todos los números pares del 0 al 10**"
      ],
      "metadata": {
        "id": "a2lFKL4KUOs-"
      }
    },
    {
      "cell_type": "code",
      "source": [],
      "metadata": {
        "id": "q4H8d8zsUZGM"
      },
      "execution_count": null,
      "outputs": []
    },
    {
      "cell_type": "markdown",
      "source": [
        "**Crear una lista que contenga todos los números del 1 al 50 que sean divisibles entre 3**"
      ],
      "metadata": {
        "id": "6yYdtkfaUZbc"
      }
    },
    {
      "cell_type": "code",
      "source": [],
      "metadata": {
        "id": "aowG5_81UuQd"
      },
      "execution_count": null,
      "outputs": []
    },
    {
      "cell_type": "markdown",
      "source": [
        "**Imprimir todas las palabras que tengan un número par de caracteres**"
      ],
      "metadata": {
        "id": "gufrv9uNUuiY"
      }
    },
    {
      "cell_type": "code",
      "source": [
        "s = \"Esta es la frase de la cual hay que verificar cuáles palabras tienen longitud par\"\n"
      ],
      "metadata": {
        "id": "3mPbP3hWU3Zv"
      },
      "execution_count": null,
      "outputs": []
    },
    {
      "cell_type": "markdown",
      "source": [
        "**Escribe un programa que imprima todos los números desde el 1 al 100. Para los números que son múltiplos de 3, imprimir 'TRES' en vez del número. Para los que son múltiplo de 5, imprimir 'CINCO' en lugar del número. Para los que son múltiplos de ambos números, imprimir 'REEMPLAZO' en vez del número.**"
      ],
      "metadata": {
        "id": "e3AOXPO8U-T2"
      }
    },
    {
      "cell_type": "code",
      "source": [],
      "metadata": {
        "id": "HaW1j6RcWfie"
      },
      "execution_count": null,
      "outputs": []
    },
    {
      "cell_type": "markdown",
      "source": [
        "**Crear un programa que, según la calificación en porcentaje del alumno (pedir al usuario que ingrese), indique la calificación en texto de acuerdo a lo siguiente:**\n",
        "\n",
        "\n",
        "    0  - <60 : Insuficiente\n",
        "    60 - <70 : Suficiente\n",
        "    70 - <80 : Bueno\n",
        "    80 - <90 : Muy bueno\n",
        "    90 - 100 : Excelente\n",
        "\n",
        "Asumir que el usuario va a ingresar un número válido."
      ],
      "metadata": {
        "id": "jf2MZVFDXlf5"
      }
    },
    {
      "cell_type": "code",
      "source": [],
      "metadata": {
        "id": "T5VGFMwfYYVA"
      },
      "execution_count": null,
      "outputs": []
    }
  ]
}