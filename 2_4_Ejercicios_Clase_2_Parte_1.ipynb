{
  "cells": [
    {
      "cell_type": "markdown",
      "metadata": {
        "colab_type": "text",
        "id": "view-in-github"
      },
      "source": [
        "<a href=\"https://colab.research.google.com/github/Akeozaki/DiplomadoPython/blob/master/Copia_de_2_4_Ejercicios_Clase_2_Parte_1.ipynb\" target=\"_parent\"><img src=\"https://colab.research.google.com/assets/colab-badge.svg\" alt=\"Open In Colab\"/></a>"
      ]
    },
    {
      "cell_type": "markdown",
      "metadata": {
        "id": "EIusEDUmMi5f"
      },
      "source": [
        "# Cadenas"
      ]
    },
    {
      "cell_type": "code",
      "execution_count": null,
      "metadata": {
        "colab": {
          "base_uri": "https://localhost:8080/",
          "height": 36
        },
        "id": "g0UP_cMPL_JC",
        "outputId": "60b9a9cf-828b-49c8-bb2c-f96ec96999ae"
      },
      "outputs": [
        {
          "data": {
            "application/vnd.google.colaboratory.intrinsic+json": {
              "type": "string"
            },
            "text/plain": [
              "'a'"
            ]
          },
          "execution_count": 1,
          "metadata": {},
          "output_type": "execute_result"
        }
      ],
      "source": [
        "s = \"hola\"\n",
        "# Imprimir la a usando indexado\n",
        "s[3]"
      ]
    },
    {
      "cell_type": "code",
      "execution_count": null,
      "metadata": {
        "colab": {
          "base_uri": "https://localhost:8080/",
          "height": 36
        },
        "id": "ERXE1Yw_Mt9f",
        "outputId": "9e8a58ab-cf00-4c1b-d922-601e46c0fbfe"
      },
      "outputs": [
        {
          "data": {
            "application/vnd.google.colaboratory.intrinsic+json": {
              "type": "string"
            },
            "text/plain": [
              "'aloh'"
            ]
          },
          "execution_count": 5,
          "metadata": {},
          "output_type": "execute_result"
        }
      ],
      "source": [
        "s = \"hola\"\n",
        "# Invertir la cadena usando slicing (corte)\n",
        "s[ ::-1]\n"
      ]
    },
    {
      "cell_type": "markdown",
      "metadata": {
        "id": "B3OyiSPNNROw"
      },
      "source": [
        "Dada la cadena \"hola\", imprimir la 'a' utilizando dos métodos diferentes con slicing:"
      ]
    },
    {
      "cell_type": "code",
      "execution_count": null,
      "metadata": {
        "colab": {
          "base_uri": "https://localhost:8080/",
          "height": 36
        },
        "id": "JGKj9gumNM0h",
        "outputId": "0068f78c-c900-4096-c90e-0b84e97ad163"
      },
      "outputs": [
        {
          "data": {
            "application/vnd.google.colaboratory.intrinsic+json": {
              "type": "string"
            },
            "text/plain": [
              "'a'"
            ]
          },
          "execution_count": 11,
          "metadata": {},
          "output_type": "execute_result"
        }
      ],
      "source": [
        "s = \"hola\"\n",
        "# Imprimir la 'a'\n",
        "\n",
        "# Método 1\n",
        "s[-1]\n"
      ]
    },
    {
      "cell_type": "code",
      "execution_count": null,
      "metadata": {
        "id": "Go-2Ku1qNg9P"
      },
      "outputs": [],
      "source": [
        "# Método 2\n",
        "\n"
      ]
    },
    {
      "cell_type": "markdown",
      "metadata": {
        "id": "ChIcu3yTNnyI"
      },
      "source": [
        "# Listas\n",
        "\n",
        "Construir la lista [0, 0, 0] de dos formas posibles"
      ]
    },
    {
      "cell_type": "code",
      "execution_count": null,
      "metadata": {
        "colab": {
          "base_uri": "https://localhost:8080/"
        },
        "id": "tXUbMrRtNxU1",
        "outputId": "d4002620-16c1-4143-af76-1035cc8f8b43"
      },
      "outputs": [
        {
          "data": {
            "text/plain": [
              "[0, 0, 0]"
            ]
          },
          "execution_count": 13,
          "metadata": {},
          "output_type": "execute_result"
        }
      ],
      "source": [
        "# Método 1\n",
        "l=[0, 0, 0]\n",
        "l"
      ]
    },
    {
      "cell_type": "code",
      "execution_count": null,
      "metadata": {
        "id": "HCjUI2ecNxsL"
      },
      "outputs": [],
      "source": [
        "# Método 2\n"
      ]
    },
    {
      "cell_type": "markdown",
      "metadata": {
        "id": "s84bt4qON4RE"
      },
      "source": [
        "Reasignar 'hola' en la lista anidada para que diga 'chau' en su lugar:"
      ]
    },
    {
      "cell_type": "code",
      "execution_count": null,
      "metadata": {
        "id": "LUmqt8YSODGv"
      },
      "outputs": [],
      "source": [
        "lista3 = [1,2,[3,4,'hola']]"
      ]
    },
    {
      "cell_type": "code",
      "execution_count": null,
      "metadata": {
        "colab": {
          "base_uri": "https://localhost:8080/"
        },
        "id": "ip6RKse-OfA_",
        "outputId": "b0394281-65c9-4f30-912f-dfc60e0ab79b"
      },
      "outputs": [
        {
          "data": {
            "text/plain": [
              "[1, 2, [3, 4, 'chau']]"
            ]
          },
          "execution_count": 16,
          "metadata": {},
          "output_type": "execute_result"
        }
      ],
      "source": [
        "lista3[2][2]=\"chau\"\n",
        "lista3"
      ]
    },
    {
      "cell_type": "markdown",
      "metadata": {
        "id": "NPqnCI8oOUPG"
      },
      "source": [
        "Ordene la lista siguiente:"
      ]
    },
    {
      "cell_type": "code",
      "execution_count": null,
      "metadata": {
        "colab": {
          "base_uri": "https://localhost:8080/"
        },
        "id": "is6rKPSGOXWe",
        "outputId": "835497c7-3f18-44f7-e53c-40c1ef959c6f"
      },
      "outputs": [
        {
          "data": {
            "text/plain": [
              "[1, 3, 4, 5, 6]"
            ]
          },
          "execution_count": 18,
          "metadata": {},
          "output_type": "execute_result"
        }
      ],
      "source": [
        "lista4 = [5,3,4,6,1]\n",
        "lista4.sort()\n",
        "lista4"
      ]
    },
    {
      "cell_type": "code",
      "execution_count": null,
      "metadata": {
        "id": "S9FvCgGOOg7y"
      },
      "outputs": [],
      "source": []
    },
    {
      "cell_type": "markdown",
      "metadata": {
        "id": "9JHoR1RLOhlr"
      },
      "source": [
        "# Diccionarios\n",
        "\n",
        "Usando las claves y la indexación, toma el 'hola' de los siguientes diccionarios:"
      ]
    },
    {
      "cell_type": "code",
      "execution_count": null,
      "metadata": {
        "colab": {
          "base_uri": "https://localhost:8080/",
          "height": 36
        },
        "id": "yJhLGSKYOjeI",
        "outputId": "110e54a3-9a4a-48c1-b63c-179c916ffe89"
      },
      "outputs": [
        {
          "data": {
            "application/vnd.google.colaboratory.intrinsic+json": {
              "type": "string"
            },
            "text/plain": [
              "'hola'"
            ]
          },
          "execution_count": 20,
          "metadata": {},
          "output_type": "execute_result"
        }
      ],
      "source": [
        "d = {'clave_simple':'hola'}\n",
        "# Tomar el 'hola'\n",
        "d['clave_simple']"
      ]
    },
    {
      "cell_type": "code",
      "execution_count": null,
      "metadata": {
        "colab": {
          "base_uri": "https://localhost:8080/",
          "height": 36
        },
        "id": "WeNBTtSFO2AF",
        "outputId": "db75cd0a-9ed9-470e-af83-61ff409ff10e"
      },
      "outputs": [
        {
          "data": {
            "application/vnd.google.colaboratory.intrinsic+json": {
              "type": "string"
            },
            "text/plain": [
              "'hola'"
            ]
          },
          "execution_count": 21,
          "metadata": {},
          "output_type": "execute_result"
        }
      ],
      "source": [
        "d = {'k1':{'k2':'hola'}}\n",
        "# Tomar el 'hola'\n",
        "d['k1']['k2']"
      ]
    },
    {
      "cell_type": "code",
      "execution_count": null,
      "metadata": {
        "colab": {
          "base_uri": "https://localhost:8080/",
          "height": 36
        },
        "id": "9OrGeZeqO3eR",
        "outputId": "9e66f2d6-9788-4c20-c9f0-e5b73ff9a684"
      },
      "outputs": [
        {
          "data": {
            "application/vnd.google.colaboratory.intrinsic+json": {
              "type": "string"
            },
            "text/plain": [
              "'k1'"
            ]
          },
          "execution_count": 28,
          "metadata": {},
          "output_type": "execute_result"
        }
      ],
      "source": [
        "# Se complica un poco más\n",
        "d = {'k1':[{'nest_key':['this is deep',['hello']]}]}\n",
        "\n",
        "# Tomar el 'hola'\n",
        "'k1'"
      ]
    },
    {
      "cell_type": "code",
      "execution_count": null,
      "metadata": {
        "colab": {
          "base_uri": "https://localhost:8080/"
        },
        "id": "J-8Sj21mPB6S",
        "outputId": "8228263a-72bc-477d-ca15-f85481000379"
      },
      "outputs": [
        {
          "ename": "",
          "evalue": "",
          "output_type": "error",
          "traceback": [
            "\u001b[1;31mRunning cells with 'c:\\Users\\Akemi Ozaki\\AppData\\Local\\Microsoft\\WindowsApps\\python3.11.exe' requires the ipykernel package.\n",
            "\u001b[1;31mRun the following command to install 'ipykernel' into the Python environment. \n",
            "\u001b[1;31mCommand: '\"c:/Users/Akemi Ozaki/AppData/Local/Microsoft/WindowsApps/python3.11.exe\" -m pip install ipykernel -U --user --force-reinstall'"
          ]
        }
      ],
      "source": [
        "# Con esta terminamos\n",
        "d = {'k1':[1,2,{'k2':['un poco mas complicado',{'k2':[1,2,['hola']]}]}]}\n",
        "\n",
        "# Tomar el 'hola'\n",
        "d['k1']"
      ]
    }
  ],
  "metadata": {
    "colab": {
      "include_colab_link": true,
      "provenance": []
    },
    "kernelspec": {
      "display_name": "Python 3",
      "name": "python3"
    },
    "language_info": {
      "name": "python",
      "version": "3.11.5"
    }
  },
  "nbformat": 4,
  "nbformat_minor": 0
}
