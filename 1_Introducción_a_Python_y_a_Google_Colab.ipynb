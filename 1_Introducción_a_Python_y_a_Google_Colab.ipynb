{
  "nbformat": 4,
  "nbformat_minor": 0,
  "metadata": {
    "colab": {
      "provenance": [],
      "include_colab_link": true
    },
    "kernelspec": {
      "name": "python3",
      "display_name": "Python 3"
    },
    "language_info": {
      "name": "python"
    }
  },
  "cells": [
    {
      "cell_type": "markdown",
      "metadata": {
        "id": "view-in-github",
        "colab_type": "text"
      },
      "source": [
        "<a href=\"https://colab.research.google.com/github/Akeozaki/DiplomadoPython/blob/master/1_Introducci%C3%B3n_a_Python_y_a_Google_Colab.ipynb\" target=\"_parent\"><img src=\"https://colab.research.google.com/assets/colab-badge.svg\" alt=\"Open In Colab\"/></a>"
      ]
    },
    {
      "cell_type": "markdown",
      "source": [
        "## 1. Historia y características de Python\n",
        "### 1.1 Historia de Python\n",
        "Python, creado en los años 80 por Guido van Rossum, busca una escritura de código clara y legible. A lo largo de los años, ha evolucionado y se ha convertido en uno de los lenguajes de programación más populares.\n",
        "### 1.2 Características de Python\n",
        "Características de Python\n",
        "\n",
        "**Lenguaje Interpretado:** A diferencia de los lenguajes compilados, Python es interpretado, lo que significa que se ejecuta directamente sin necesidad de un paso de compilación previo. Esto facilita la rápida prototipación y las pruebas interactivas.\n",
        "\n",
        "**Tipado Dinámico:** En Python, no necesitas declarar el tipo de variable cuando la creas. El tipo se determina en tiempo de ejecución, lo que lo hace flexible, pero también requiere que los programadores sean conscientes de posibles errores de tipo.\n",
        "\n",
        "**Multiplataforma:** Python es un lenguaje que se puede ejecutar en múltiples sistemas operativos, incluidos Windows, MacOS y Linux.\n",
        "\n",
        "**Biblioteca Estándar Amplia:** Python viene \"con las pilas incluidas\", una frase que alude a su extensa biblioteca estándar que proporciona módulos y funciones para tareas de programación comunes.\n",
        "\n",
        "**Legibilidad y Sintaxis Clara**: Uno de los principios fundamentales de Python es que el código debe ser fácil de leer y entender. Esto se refleja en su énfasis en la indentación y en la claridad de su sintaxis.\n",
        "\n",
        "**Comunidad Activa y Creciente:** Python cuenta con una comunidad amplia y activa que contribuye con una gran cantidad de bibliotecas y frameworks, y brinda soporte a otros desarrolladores.\n",
        "\n",
        "Estas características, junto con su versatilidad y capacidad para ser utilizado en una amplia variedad de aplicaciones (desde desarrollo web hasta ciencia de datos y aprendizaje automático), han llevado a Python a ser uno de los lenguajes de programación más populares y amados en el mundo."
      ],
      "metadata": {
        "id": "uwtUCfQFbGyS"
      }
    },
    {
      "cell_type": "markdown",
      "source": [
        "## 2. Google Colab\n",
        "### 2.1 ¿Qué es Google Colab?\n",
        "\n",
        "Google Colab, abreviatura de *Colaboratory*, es una plataforma de desarrollo de código abierto que permite escribir y ejecutar código Python en un navegador web. Se presenta en forma de cuadernos, similares a Jupyter Notebooks, que son una combinación de celdas de texto enriquecido (con imágenes, enlaces, ecuaciones, etc.) y celdas de código ejecutable.\n",
        "\n",
        "### 2.2 ¿Cómo funciona Google Colab?\n",
        "\n",
        "**Interfaz basada en la nube:** Al ser una herramienta basada en la nube, no requiere ninguna configuración especial en tu máquina local. Puedes acceder a tus cuadernos desde cualquier dispositivo con acceso a Internet y un navegador web.\n",
        "\n",
        "**Celdas:** Los cuadernos están compuestos de celdas, que pueden ser de texto (Markdown) o de código. Para ejecutar una celda de código, simplemente haz clic en el botón de reproducción o usa el atajo de teclado Shift + Enter.\n",
        "\n",
        "**Entorno de ejecución:** Cuando abres un cuaderno, Colab asigna una máquina virtual (VM) temporal para ti. Esta VM incluye muchos paquetes populares de Python preinstalados. Puedes instalar otros paquetes según sea necesario usando pip.\n",
        "\n",
        "### 2.3 Ventajas de Google Colab:\n",
        "\n",
        "**Acceso gratuito a GPUs:** Google Colab ofrece acceso gratuito a unidades de procesamiento gráfico (GPUs) y unidades de procesamiento tensor (TPUs), lo que lo hace ideal para tareas intensivas en cálculo, como entrenamiento de modelos de aprendizaje automático.\n",
        "\n",
        "**Integración con Google Drive:** Puedes guardar tus cuadernos directamente en Google Drive, compartir tu trabajo con otros, y acceder a tu cuaderno desde cualquier dispositivo.\n",
        "\n",
        "**Fácil de compartir:** Al igual que con Google Docs o Sheets, puedes compartir tu Colab con otros y comentar en cualquier parte del cuaderno.\n",
        "\n",
        "**Importación/exportación de cuadernos:** Colab es compatible con el formato de cuaderno Jupyter, lo que significa que puedes importar/exportar tus cuadernos a otras plataformas como Jupyter Notebook o Jupyter Lab.\n",
        "\n",
        "**Entorno interactivo:** Al ser un entorno interactivo, te permite ejecutar código, ver resultados, modificar y reejecutar código en un flujo de trabajo fluido, lo cual es especialmente útil para análisis de datos, visualizaciones y aprendizaje interactivo.\n",
        "\n",
        "**Recursos preinstalados:** Colab viene con muchas bibliotecas populares ya instaladas, lo que facilita la ejecución de código de análisis de datos, visualización y aprendizaje automático sin tener que pasar por el proceso de instalación."
      ],
      "metadata": {
        "id": "FweyuK1Vcd2P"
      }
    },
    {
      "cell_type": "markdown",
      "source": [
        "## 3. Primeros pasos con Python\n",
        "### 3.1. Conceptos generales\n",
        "\n",
        "\n",
        "\n",
        "Python es un lenguaje de programación interpretado, lo que significa que los comandos son ejecutados inmediatamente sin necesidad de un paso de compilación. Es conocido por su sintaxis legible y clara, que favorece un código más limpio y comprensible.\n",
        "\n",
        "### 3.2. Tipos de datos en Python\n",
        "\n",
        "En Python, cada valor tiene un tipo asociado. Estos son algunos de los tipos de datos más comunes:\n",
        "\n",
        "**Enteros (int):** Representan números enteros, positivos o negativos.\n",
        "\n",
        "**Punto flotante (float):** Representan números reales, es decir, aquellos que tienen una parte decimal.\n",
        "\n",
        "**Cadenas (str):** Representan secuencias de caracteres. Se pueden definir usando comillas simples o dobles.\n",
        "\n",
        "**Booleanos (bool):** Representan valores de verdad. Sólo pueden tomar dos valores: True (verdadero) o False (falso)."
      ],
      "metadata": {
        "id": "_4A4swTff9QD"
      }
    },
    {
      "cell_type": "code",
      "source": [
        "numero_entero = 5\n",
        "numero_real = 5.7\n",
        "texto = \"Hola, mundo\"\n",
        "verdadero = True\n",
        "falso = False\n"
      ],
      "metadata": {
        "id": "MVzR5Xy_gHuI"
      },
      "execution_count": null,
      "outputs": []
    },
    {
      "cell_type": "code",
      "source": [
        "numero_entero"
      ],
      "metadata": {
        "colab": {
          "base_uri": "https://localhost:8080/"
        },
        "id": "Ffoy4ke7b804",
        "outputId": "48fb9962-5016-4bf1-c03f-57fae7f52ee2"
      },
      "execution_count": null,
      "outputs": [
        {
          "output_type": "execute_result",
          "data": {
            "text/plain": [
              "5"
            ]
          },
          "metadata": {},
          "execution_count": 2
        }
      ]
    },
    {
      "cell_type": "code",
      "source": [
        "texto"
      ],
      "metadata": {
        "colab": {
          "base_uri": "https://localhost:8080/",
          "height": 36
        },
        "id": "IeHUvbDecA5y",
        "outputId": "0d78d2c9-218c-411b-d2f5-bcbf654ccd2a"
      },
      "execution_count": null,
      "outputs": [
        {
          "output_type": "execute_result",
          "data": {
            "text/plain": [
              "'Hola, mundo'"
            ],
            "application/vnd.google.colaboratory.intrinsic+json": {
              "type": "string"
            }
          },
          "metadata": {},
          "execution_count": 4
        }
      ]
    },
    {
      "cell_type": "markdown",
      "source": [
        "### 3.3 Variables\n",
        "\n",
        "Una variable es un nombre que se refiere a un valor. En Python, las variables se crean cuando se les asigna un valor por primera vez.\n",
        "\n",
        "**Asignación de una variable:**"
      ],
      "metadata": {
        "id": "YdXewuEKiVKY"
      }
    },
    {
      "cell_type": "code",
      "execution_count": null,
      "metadata": {
        "id": "taEAPEKSFLfH"
      },
      "outputs": [],
      "source": [
        "x = 10\n",
        "nombre = \"Juan\""
      ]
    },
    {
      "cell_type": "code",
      "source": [
        "texto"
      ],
      "metadata": {
        "colab": {
          "base_uri": "https://localhost:8080/",
          "height": 36
        },
        "id": "5qGky5hEcOtv",
        "outputId": "13c85ed5-5362-45a8-fa23-9b026649c35e"
      },
      "execution_count": null,
      "outputs": [
        {
          "output_type": "execute_result",
          "data": {
            "text/plain": [
              "'Hola, mundo'"
            ],
            "application/vnd.google.colaboratory.intrinsic+json": {
              "type": "string"
            }
          },
          "metadata": {},
          "execution_count": 6
        }
      ]
    },
    {
      "cell_type": "markdown",
      "source": [
        "El operador = es el operador de asignación. No debe confundirse con la igualdad"
      ],
      "metadata": {
        "id": "w6Y2N1m8igFR"
      }
    },
    {
      "cell_type": "markdown",
      "source": [
        "## Reglas para los nombres de variables\n",
        "* Los nombres no pueden comenzar con un número\n",
        "* Los nombres no pueden contener espacios (use _ en su lugar)\n",
        "* Los nombres no pueden contener ninguno de estos símbolos:\n",
        "\n",
        "      :'\",<>/?|\\!@#%^&*~-+\n",
        "       \n",
        "* Es considerado buena práctica ([PEP8](https://www.python.org/dev/peps/pep-0008/#function-and-variable-names)) que los nombres estén en minúsculas y separados por guiones bajos\n",
        "* Evite utilizar palabras reservadas como `list` y `str`"
      ],
      "metadata": {
        "id": "hC26gNlXupiw"
      }
    },
    {
      "cell_type": "markdown",
      "source": [
        "### 3.4. Entrada y salida de datos\n",
        "\n",
        "**Salida de datos:** La función `print()` se utiliza para mostrar información en la pantalla."
      ],
      "metadata": {
        "id": "puKACwU1i5-8"
      }
    },
    {
      "cell_type": "code",
      "source": [
        "print(\"Este es un mensaje\")\n",
        "print(\"El valor de x es:\", x)"
      ],
      "metadata": {
        "id": "AYynCZ3HinKw",
        "colab": {
          "base_uri": "https://localhost:8080/"
        },
        "outputId": "262576bc-b2a4-4ca9-e0b6-d97ef1ff2f70"
      },
      "execution_count": null,
      "outputs": [
        {
          "output_type": "stream",
          "name": "stdout",
          "text": [
            "Este es un mensaje\n",
            "El valor de x es: 10\n"
          ]
        }
      ]
    },
    {
      "cell_type": "markdown",
      "source": [
        "**Entrada de datos:** La función input() permite al usuario introducir datos. Esta función devuelve una cadena, por lo que si deseas usarla como número, debes convertirla al tipo correspondiente."
      ],
      "metadata": {
        "id": "szP2x7UjjUng"
      }
    },
    {
      "cell_type": "code",
      "source": [
        "nombre_usuario = input(\"Introduce tu nombre: \")\n",
        "edad = int(input(\"Introduce tu edad: \"))"
      ],
      "metadata": {
        "id": "O2RuPDfzjaWI",
        "colab": {
          "base_uri": "https://localhost:8080/"
        },
        "outputId": "0553383e-c935-4b4d-a5fd-e26f82a5f260"
      },
      "execution_count": null,
      "outputs": [
        {
          "name": "stdout",
          "output_type": "stream",
          "text": [
            "Introduce tu nombre: Jose\n",
            "Introduce tu edad: 35\n"
          ]
        }
      ]
    },
    {
      "cell_type": "code",
      "source": [
        "edad\n",
        "nombre_usuario"
      ],
      "metadata": {
        "colab": {
          "base_uri": "https://localhost:8080/",
          "height": 36
        },
        "id": "ktYO3iNMdCb1",
        "outputId": "b8862a10-9e9a-446c-a4eb-90ba9d0864ea"
      },
      "execution_count": null,
      "outputs": [
        {
          "output_type": "execute_result",
          "data": {
            "text/plain": [
              "'Jose'"
            ],
            "application/vnd.google.colaboratory.intrinsic+json": {
              "type": "string"
            }
          },
          "metadata": {},
          "execution_count": 11
        }
      ]
    },
    {
      "cell_type": "markdown",
      "source": [
        "### 3.5. Operaciones básicas\n"
      ],
      "metadata": {
        "id": "HHnQ__mQjg5r"
      }
    },
    {
      "cell_type": "markdown",
      "source": [
        "#### 3.5.1. Operaciones aritméticas\n",
        "\n",
        "Python es capaz de realizar todas las operaciones aritméticas básicas:"
      ],
      "metadata": {
        "id": "CeDhffgoklNY"
      }
    },
    {
      "cell_type": "markdown",
      "source": [
        "Suma (+):"
      ],
      "metadata": {
        "id": "LUieTvHyjxm9"
      }
    },
    {
      "cell_type": "code",
      "source": [
        "suma = 7 + 3\n",
        "print(suma)  # Salida: 10"
      ],
      "metadata": {
        "id": "yw915Mi7jgWd",
        "colab": {
          "base_uri": "https://localhost:8080/"
        },
        "outputId": "5b4226dd-abc6-4c18-e5e6-6f7a7570884a"
      },
      "execution_count": null,
      "outputs": [
        {
          "output_type": "stream",
          "name": "stdout",
          "text": [
            "10\n"
          ]
        }
      ]
    },
    {
      "cell_type": "markdown",
      "source": [
        "Resta (-):"
      ],
      "metadata": {
        "id": "5KjCzfyfj2EV"
      }
    },
    {
      "cell_type": "code",
      "source": [
        "resta = 7 - 3\n",
        "print(resta)  # Salida: 4"
      ],
      "metadata": {
        "id": "G7D0lX-yj3Gd",
        "colab": {
          "base_uri": "https://localhost:8080/"
        },
        "outputId": "9adde71b-2be4-4874-d143-ebfa9467f6b8"
      },
      "execution_count": null,
      "outputs": [
        {
          "output_type": "stream",
          "name": "stdout",
          "text": [
            "4\n"
          ]
        }
      ]
    },
    {
      "cell_type": "markdown",
      "source": [
        "Multiplicación (*):"
      ],
      "metadata": {
        "id": "26c8oQc8j8FM"
      }
    },
    {
      "cell_type": "code",
      "source": [
        "producto = 7 * 3\n",
        "print(producto)  # Salida: 21"
      ],
      "metadata": {
        "id": "rrusrgrMkAZ0",
        "colab": {
          "base_uri": "https://localhost:8080/"
        },
        "outputId": "c6b02ebd-cb95-4aa8-95a6-a663d1f0a046"
      },
      "execution_count": null,
      "outputs": [
        {
          "output_type": "stream",
          "name": "stdout",
          "text": [
            "21\n"
          ]
        }
      ]
    },
    {
      "cell_type": "markdown",
      "source": [
        "División (/):"
      ],
      "metadata": {
        "id": "bzlq6ZzGkBdE"
      }
    },
    {
      "cell_type": "code",
      "source": [
        "division = 7 / 3\n",
        "print(division)  # Salida: 2.333...\n"
      ],
      "metadata": {
        "id": "k3RxWyaJkDMW",
        "colab": {
          "base_uri": "https://localhost:8080/"
        },
        "outputId": "1ac742ef-497b-4918-ae44-3e88f9895bf9"
      },
      "execution_count": null,
      "outputs": [
        {
          "output_type": "stream",
          "name": "stdout",
          "text": [
            "2.3333333333333335\n"
          ]
        }
      ]
    },
    {
      "cell_type": "markdown",
      "source": [
        "División entera (//): Da como resultado el cociente entero de la división.\n"
      ],
      "metadata": {
        "id": "9H9MJGnDkGp3"
      }
    },
    {
      "cell_type": "code",
      "source": [
        "division_entera = 7 // 3\n",
        "print(division_entera)  # Salida: 2"
      ],
      "metadata": {
        "id": "u40ZsyvckJFa",
        "colab": {
          "base_uri": "https://localhost:8080/"
        },
        "outputId": "4f138bac-8742-4585-cd9d-620b49a37123"
      },
      "execution_count": null,
      "outputs": [
        {
          "output_type": "stream",
          "name": "stdout",
          "text": [
            "2\n"
          ]
        }
      ]
    },
    {
      "cell_type": "markdown",
      "source": [
        "Módulo (%): Retorna el residuo de la división.\n"
      ],
      "metadata": {
        "id": "HFHAX-CokLUT"
      }
    },
    {
      "cell_type": "code",
      "source": [
        "modulo = 7 % 3\n",
        "print(modulo)  # Salida: 1"
      ],
      "metadata": {
        "id": "G4MOMcU8kNgD",
        "colab": {
          "base_uri": "https://localhost:8080/"
        },
        "outputId": "023e9733-b021-4fab-d8b0-2048f54be5d9"
      },
      "execution_count": null,
      "outputs": [
        {
          "output_type": "stream",
          "name": "stdout",
          "text": [
            "1\n"
          ]
        }
      ]
    },
    {
      "cell_type": "markdown",
      "source": [
        "Potencia (**):"
      ],
      "metadata": {
        "id": "oIWzL_e_kQ21"
      }
    },
    {
      "cell_type": "code",
      "source": [
        "potencia = 7 ** 2\n",
        "print(potencia)  # Salida: 49"
      ],
      "metadata": {
        "id": "Kkn8m2oPkP16",
        "colab": {
          "base_uri": "https://localhost:8080/"
        },
        "outputId": "05199427-8851-4546-ff74-9788c4e101ba"
      },
      "execution_count": null,
      "outputs": [
        {
          "output_type": "stream",
          "name": "stdout",
          "text": [
            "49\n"
          ]
        }
      ]
    },
    {
      "cell_type": "code",
      "source": [
        "# También se puede elevar de esta forma:\n",
        "potencia2 = 49**0.5\n",
        "potencia2"
      ],
      "metadata": {
        "id": "twq01JOAM80-",
        "colab": {
          "base_uri": "https://localhost:8080/"
        },
        "outputId": "bb257fd7-a747-42cb-fdf5-dec6f8a877b1"
      },
      "execution_count": null,
      "outputs": [
        {
          "output_type": "execute_result",
          "data": {
            "text/plain": [
              "7.0"
            ]
          },
          "metadata": {},
          "execution_count": 20
        }
      ]
    },
    {
      "cell_type": "markdown",
      "source": [
        "#### 3.5.2. Operaciones de asignación\n",
        "\n",
        "Python tiene una serie de operaciones que combinan una asignación con una operación aritmética:"
      ],
      "metadata": {
        "id": "utRfvDt0kdOt"
      }
    },
    {
      "cell_type": "markdown",
      "source": [
        "**Incremento:**"
      ],
      "metadata": {
        "id": "bsAS7YIrk9kc"
      }
    },
    {
      "cell_type": "code",
      "source": [
        "x = 5\n",
        "x += 3  # Equivalente a x = x + 3\n",
        "print(x)  # Salida: 8"
      ],
      "metadata": {
        "id": "EtMwAVxPk-hm",
        "colab": {
          "base_uri": "https://localhost:8080/"
        },
        "outputId": "0f9e7daf-26dd-425e-82c3-5ab100a90475"
      },
      "execution_count": null,
      "outputs": [
        {
          "output_type": "stream",
          "name": "stdout",
          "text": [
            "8\n"
          ]
        }
      ]
    },
    {
      "cell_type": "markdown",
      "source": [
        "**Decremento:**\n"
      ],
      "metadata": {
        "id": "YLSsBlHzlAgD"
      }
    },
    {
      "cell_type": "code",
      "source": [
        "x = 5\n",
        "x -= 3  # Equivalente a x = x - 3\n",
        "print(x)  # Salida: 2"
      ],
      "metadata": {
        "id": "bjXdosM0lFOJ",
        "colab": {
          "base_uri": "https://localhost:8080/"
        },
        "outputId": "b0bd8cac-3faf-42b8-a917-873263610e57"
      },
      "execution_count": null,
      "outputs": [
        {
          "output_type": "stream",
          "name": "stdout",
          "text": [
            "2\n"
          ]
        }
      ]
    },
    {
      "cell_type": "markdown",
      "source": [
        "**Multiplicación y asignación:**"
      ],
      "metadata": {
        "id": "_q2-SslulG_q"
      }
    },
    {
      "cell_type": "code",
      "source": [
        "x = 5\n",
        "x *= 3  # Equivalente a x = x * 3\n",
        "print(x)  # Salida: 15\n"
      ],
      "metadata": {
        "id": "lp60V8uQlJz-",
        "colab": {
          "base_uri": "https://localhost:8080/"
        },
        "outputId": "6383dc9f-45ad-4907-adfc-24908780b77a"
      },
      "execution_count": null,
      "outputs": [
        {
          "output_type": "stream",
          "name": "stdout",
          "text": [
            "15\n"
          ]
        }
      ]
    },
    {
      "cell_type": "markdown",
      "source": [
        "**División y asignación:**"
      ],
      "metadata": {
        "id": "ohhsQm5KlLQJ"
      }
    },
    {
      "cell_type": "code",
      "source": [
        "x = 7\n",
        "x /= 3  # Equivalente a x = x / 3\n",
        "print(x)  # Salida: 2.333..."
      ],
      "metadata": {
        "id": "Fn5aR-GBlUpu",
        "colab": {
          "base_uri": "https://localhost:8080/"
        },
        "outputId": "3514ecae-0b26-485b-802a-cb24e71ec50c"
      },
      "execution_count": null,
      "outputs": [
        {
          "output_type": "stream",
          "name": "stdout",
          "text": [
            "2.3333333333333335\n"
          ]
        }
      ]
    },
    {
      "cell_type": "markdown",
      "source": [
        "Y de forma similar para **//=**, **%=** y ****=**."
      ],
      "metadata": {
        "id": "TiLUmRtclY4p"
      }
    },
    {
      "cell_type": "markdown",
      "source": [
        "#### 3.5.3. Operaciones de comparación\n",
        "\n",
        "Las operaciones de comparación son vitales para estructuras de control, como condiciones y bucles:"
      ],
      "metadata": {
        "id": "KxIdHFJNligC"
      }
    },
    {
      "cell_type": "markdown",
      "source": [
        "**Igualdad (==):**"
      ],
      "metadata": {
        "id": "FmxnbEp3l_Di"
      }
    },
    {
      "cell_type": "code",
      "source": [
        "print(5 == 5)  # Salida: True\n",
        "print(5 == 7)  # Salida: False"
      ],
      "metadata": {
        "id": "dqsJbUUbmBXZ",
        "colab": {
          "base_uri": "https://localhost:8080/"
        },
        "outputId": "71ec9843-b060-4ed2-a449-0be6290d14bb"
      },
      "execution_count": null,
      "outputs": [
        {
          "output_type": "stream",
          "name": "stdout",
          "text": [
            "True\n",
            "False\n"
          ]
        }
      ]
    },
    {
      "cell_type": "markdown",
      "source": [
        "**Desigualdad (!=):**\n"
      ],
      "metadata": {
        "id": "kPTTZyI3mH1M"
      }
    },
    {
      "cell_type": "code",
      "source": [
        "print(5 != 7)  # Salida: True"
      ],
      "metadata": {
        "id": "55chaNmomJ3u",
        "colab": {
          "base_uri": "https://localhost:8080/"
        },
        "outputId": "7cfbea85-d901-4ecc-ce53-c51b80eb26ae"
      },
      "execution_count": null,
      "outputs": [
        {
          "output_type": "stream",
          "name": "stdout",
          "text": [
            "True\n"
          ]
        }
      ]
    },
    {
      "cell_type": "markdown",
      "source": [
        "**Menor que (<), Mayor que (>), Menor o igual que (<=), Mayor o igual que (>=):**\n"
      ],
      "metadata": {
        "id": "E_sKUqElmLlf"
      }
    },
    {
      "cell_type": "code",
      "source": [
        "print(5 < 7)   # Salida: True\n",
        "print(7 > 7)   # Salida: False\n",
        "print(7 >= 7)  # Salida: True"
      ],
      "metadata": {
        "id": "yK34rDoCmOnM",
        "colab": {
          "base_uri": "https://localhost:8080/"
        },
        "outputId": "94fac19b-271a-457a-80e5-4143dc1be542"
      },
      "execution_count": null,
      "outputs": [
        {
          "output_type": "stream",
          "name": "stdout",
          "text": [
            "True\n",
            "False\n",
            "True\n"
          ]
        }
      ]
    },
    {
      "cell_type": "markdown",
      "source": [
        "Estas operaciones te permitirán realizar tareas matemáticas y de comparación básicas en Python, que son fundamentales para cualquier tipo de programación. Recuerda que la práctica te ayudará a familiarizarte con estas operaciones y a entender mejor cómo funcionan."
      ],
      "metadata": {
        "id": "LypbARpPmS5W"
      }
    },
    {
      "cell_type": "markdown",
      "source": [
        "### 4. Ejercicios propuestos"
      ],
      "metadata": {
        "id": "ClDYwj0tqjEd"
      }
    },
    {
      "cell_type": "markdown",
      "source": [
        "#### 1. Conversión de grados Celsius a Fahrenheit\n",
        "**Enunciado:** Escribe un programa que convierta una temperatura dada en grados Celsius a Fahrenheit. Fórmula: $F = C * \\frac{9}{5} + 32$\n",
        "\n",
        "**Solución:**"
      ],
      "metadata": {
        "id": "drZm9laHqr77"
      }
    },
    {
      "cell_type": "code",
      "source": [
        "C = float(input(\"Introduce la temperatura en grados Celsius: \"))\n",
        "F = C * 9/5 + 32\n",
        "print(f\"{C}° Celsius es equivalente a {F}° Fahrenheit.\")"
      ],
      "metadata": {
        "id": "PfDkGf-5rPm0",
        "colab": {
          "base_uri": "https://localhost:8080/"
        },
        "outputId": "132b1cd6-7849-43d5-ac3d-09372e5d09a7"
      },
      "execution_count": null,
      "outputs": [
        {
          "output_type": "stream",
          "name": "stdout",
          "text": [
            "Introduce la temperatura en grados Celsius: 30\n",
            "30.0° Celsius es equivalente a 86.0° Fahrenheit.\n"
          ]
        }
      ]
    },
    {
      "cell_type": "markdown",
      "source": [
        "#### 2. Área de un trapecio\n",
        "\n",
        "**Enunciado:** Escribe un programa que calcule el área de un trapecio dadas sus bases y su altura. Fórmula: $A = \\frac{B + b}{ 2}*h$"
      ],
      "metadata": {
        "id": "TKk0yDMcrSLn"
      }
    },
    {
      "cell_type": "code",
      "source": [
        "B = float(input(\"Introduce la longitud de la base mayor: \"))\n",
        "b = float(input(\"Introduce la longitud de la base menor: \"))\n",
        "h = float(input(\"Introduce la altura del trapecio: \"))\n",
        "\n",
        "A = (B + b) * h / 2\n",
        "\n",
        "print(f\"El área del trapecio es: {A} unidades cuadradas.\")\n"
      ],
      "metadata": {
        "id": "mdtkScZYsTL7",
        "colab": {
          "base_uri": "https://localhost:8080/"
        },
        "outputId": "a136107f-842d-4849-da46-a92da8aea88f"
      },
      "execution_count": null,
      "outputs": [
        {
          "output_type": "stream",
          "name": "stdout",
          "text": [
            "Introduce la longitud de la base mayor: 5\n",
            "Introduce la longitud de la base menor: 10\n",
            "Introduce la altura del trapecio: 2\n",
            "El área del trapecio es: 15.0 unidades cuadradas.\n"
          ]
        }
      ]
    },
    {
      "cell_type": "markdown",
      "source": [
        "#### 3. Volumen de una esfera\n",
        "\n",
        "**Enunciado:** Escribe un programa que calcule el volumen de una esfera dado su radio. Fórmula: $V = \\frac{4}{3}\\pi r^3$.\n",
        "\n",
        "**Solución:**"
      ],
      "metadata": {
        "id": "Ol4MH-LXs_Vv"
      }
    },
    {
      "cell_type": "code",
      "source": [
        "radio = float(input(\"Introduce el radio de la esfera: \"))\n",
        "pi = 3.14159\n",
        "\n",
        "V = (4/3) * pi * radio**3\n",
        "\n",
        "print(f\"El volumen de la esfera es: {V} unidades cúbicas.\")\n"
      ],
      "metadata": {
        "id": "1B0gRviVtdgb",
        "colab": {
          "base_uri": "https://localhost:8080/"
        },
        "outputId": "13ec97e1-f22f-48a5-e34d-a1a92c616c4e"
      },
      "execution_count": null,
      "outputs": [
        {
          "output_type": "stream",
          "name": "stdout",
          "text": [
            "Introduce el radio de la esfera: 5\n",
            "El volumen de la esfera es: 523.5983333333332 unidades cúbicas.\n"
          ]
        }
      ]
    },
    {
      "cell_type": "markdown",
      "source": [
        "#### 4. Distancia entre dos puntos en el plano\n",
        "\n",
        "**Enunciado:** Dados dos puntos en el plano con coordenadas $(x1,y1)$ y $(x2,y2)$, calcula la distancia entre ellos. Fórmula: $d = \\sqrt{(x2-x1)^2+(y2-y1)^2}$.\n",
        "\n",
        "**Solución:**"
      ],
      "metadata": {
        "id": "NxaD2szVtzb1"
      }
    },
    {
      "cell_type": "code",
      "source": [
        "x1 = float(input(\"Introduce x1: \"))\n",
        "y1 = float(input(\"Introduce y1: \"))\n",
        "x2 = float(input(\"Introduce x2: \"))\n",
        "y2 = float(input(\"Introduce y2: \"))\n",
        "\n",
        "d = ((x2 - x1)**2 + (y2 - y1)**2)**0.5\n",
        "\n",
        "print(f\"La distancia entre los puntos es: {d} unidades.\")"
      ],
      "metadata": {
        "id": "cSv8cvb2uQZK",
        "colab": {
          "base_uri": "https://localhost:8080/"
        },
        "outputId": "a33b0e25-2cbc-4cd0-dea2-7fded94a08bf"
      },
      "execution_count": null,
      "outputs": [
        {
          "output_type": "stream",
          "name": "stdout",
          "text": [
            "Introduce x1: 1\n",
            "Introduce y1: 2\n",
            "Introduce x2: 3\n",
            "Introduce y2: 4\n",
            "La distancia entre los puntos es: 2.8284271247461903 unidades.\n"
          ]
        }
      ]
    },
    {
      "cell_type": "markdown",
      "source": [
        "#### 5. Conversión de segundos a horas, minutos y segundos\n",
        "\n",
        "**Enunciado:** Dado un número de segundos, conviértelo en horas, minutos y segundos.\n",
        "\n",
        "**Solución:**"
      ],
      "metadata": {
        "id": "aarF9pxDuYwC"
      }
    },
    {
      "cell_type": "code",
      "source": [
        "total_segundos = int(input(\"Introduce el total de segundos: \"))\n",
        "\n",
        "horas = total_segundos // 3600\n",
        "minutos = (total_segundos % 3600) // 60\n",
        "segundos = total_segundos % 60\n",
        "\n",
        "print(f\"{total_segundos} segundos es equivalente a {horas} horas, {minutos} minutos y {segundos} segundos.\")"
      ],
      "metadata": {
        "id": "SWL83plFucXX",
        "colab": {
          "base_uri": "https://localhost:8080/"
        },
        "outputId": "51e97459-610d-4fbc-c999-77421d088c42"
      },
      "execution_count": null,
      "outputs": [
        {
          "output_type": "stream",
          "name": "stdout",
          "text": [
            "Introduce el total de segundos: 32145\n",
            "32145 segundos es equivalente a 8 horas, 55 minutos y 45 segundos.\n"
          ]
        }
      ]
    },
    {
      "cell_type": "markdown",
      "source": [
        "#### 6. Cálculo de la resistencia equivalente de un circuito\n",
        "\n",
        "**Enunciado:** En ingeniería eléctrica, cuando se tienen resistencias conectadas en paralelo, la resistencia equivalente $R_{eq}$ se calcula usando la fórmula:\n",
        "\n",
        "$\\frac{1}{R_{eq}} = \\frac{1}{R_{1}} + \\frac{1}{R_{2}} + \\frac{1}{R_{3}} + ...$\n",
        "\n",
        "Donde $R_1, R_2, R_3, ...$ son las resistencias individuales conectadas en paralelo.\n",
        "\n",
        "Dadas tres resistencias $R_1, R_2$ y $R_3$, calcula su resistencia equivalente cuando están conectadas en paralelo.\n",
        "\n",
        "**Solución:**"
      ],
      "metadata": {
        "id": "MMNb_xgduhvD"
      }
    },
    {
      "cell_type": "code",
      "source": [
        "R1 = float(input(\"Introduce el valor de R1 en ohmios: \"))\n",
        "R2 = float(input(\"Introduce el valor de R2 en ohmios: \"))\n",
        "R3 = float(input(\"Introduce el valor de R3 en ohmios: \"))\n",
        "\n",
        "inv_Requivalent = 1/R1 + 1/R2 + 1/R3\n",
        "Requivalent = 1 / inv_Requivalent\n",
        "\n",
        "print(f\"La resistencia equivalente para las tres resistencias conectadas en paralelo es: {Requivalent} ohmios.\")"
      ],
      "metadata": {
        "id": "bdPO6lNGvse6",
        "colab": {
          "base_uri": "https://localhost:8080/"
        },
        "outputId": "8d4bfd40-189c-49f7-87ea-ad9044ce833f"
      },
      "execution_count": null,
      "outputs": [
        {
          "output_type": "stream",
          "name": "stdout",
          "text": [
            "Introduce el valor de R1 en ohmios: 30\n",
            "Introduce el valor de R2 en ohmios: 40\n",
            "Introduce el valor de R3 en ohmios: 50\n",
            "La resistencia equivalente para las tres resistencias conectadas en paralelo es: 12.76595744680851 ohmios.\n"
          ]
        }
      ]
    },
    {
      "cell_type": "markdown",
      "source": [
        "## 5. Detalles más profundos sobre esta sección.\n",
        "\n"
      ],
      "metadata": {
        "id": "v8lkP2a71-yo"
      }
    },
    {
      "cell_type": "markdown",
      "source": [
        "### 5.1. Palabras Reservadas\n",
        "**Definición:**\n",
        "Las palabras reservadas son términos intrínsecos del lenguaje Python. Están reservadas para funciones específicas y no pueden ser reasignadas.\n",
        "\n",
        "\n",
        "**Características:**\n",
        "*   Las palabras reservadas son sensibles a las mayúsculas y minúsculas. Por ejemplo, `True` es diferente de \"true\".\n",
        "*   En entornos de desarrollo y editores de código, como Google Colab, estas palabras suelen destacarse con un color diferente para indicar su carácter especial.\n",
        "\n",
        "\n",
        "**Listado de palabras reservadas:**\n",
        "Aquí hay una lista completa de las palabras reservadas en Python:"
      ],
      "metadata": {
        "id": "UasJRS4QUwJb"
      }
    },
    {
      "cell_type": "code",
      "source": [
        "import keyword\n",
        "print(keyword.kwlist)"
      ],
      "metadata": {
        "colab": {
          "base_uri": "https://localhost:8080/"
        },
        "id": "rK5Or2KwU0oC",
        "outputId": "cd713a43-cb71-417b-b859-491761fa3f74"
      },
      "execution_count": null,
      "outputs": [
        {
          "output_type": "stream",
          "name": "stdout",
          "text": [
            "['False', 'None', 'True', 'and', 'as', 'assert', 'async', 'await', 'break', 'class', 'continue', 'def', 'del', 'elif', 'else', 'except', 'finally', 'for', 'from', 'global', 'if', 'import', 'in', 'is', 'lambda', 'nonlocal', 'not', 'or', 'pass', 'raise', 'return', 'try', 'while', 'with', 'yield']\n"
          ]
        }
      ]
    },
    {
      "cell_type": "markdown",
      "source": [
        "Pero si observas tu código en un editor, como Google Colab, notarás que el término **if** aparece resaltado en un color diferente, señalándote visualmente que es una palabra reservada."
      ],
      "metadata": {
        "id": "QuYr0ACpYPxb"
      }
    },
    {
      "cell_type": "markdown",
      "source": [
        "### 5.2. Orden de Precedencia\n",
        "**Definición:**\n",
        "Dicta el orden en que se evalúan operadores en una expresión.\n",
        "\n",
        "**Detalles:**\n",
        "En Python, el orden de precedencia es, de mayor a menor:\n",
        "\n",
        "\n",
        "Operadores de paréntesis: ()\n",
        "\n",
        "Exponenciación: **\n",
        "\n",
        "Multiplicación, división, módulo: *, /, %\n",
        "\n",
        "Suma y resta: +, -\n",
        "\n",
        "**Ejemplos prácticos:**"
      ],
      "metadata": {
        "id": "x9aFDwVWU_Ks"
      }
    },
    {
      "cell_type": "code",
      "source": [
        "# Usando paréntesis para cambiar el orden de evaluación\n",
        "print(10 + 20 * 30)       # 610\n",
        "print((10 + 20) * 30)     # 900"
      ],
      "metadata": {
        "id": "IGLVVac2U2Ie",
        "colab": {
          "base_uri": "https://localhost:8080/"
        },
        "outputId": "3a8b4e39-fe0f-45ef-9a15-849b5a207382"
      },
      "execution_count": null,
      "outputs": [
        {
          "output_type": "stream",
          "name": "stdout",
          "text": [
            "610\n",
            "900\n"
          ]
        }
      ]
    },
    {
      "cell_type": "markdown",
      "source": [
        "Para más información, consultar [Operator precedence](https://docs.python.org/3/reference/expressions.html#operator-precedence)"
      ],
      "metadata": {
        "id": "8I9Ob6d6YogS"
      }
    },
    {
      "cell_type": "markdown",
      "source": [
        "### 5.3. Tabla ASCII y Unicode\n",
        "**Definición:**\n",
        "\n",
        "\n",
        "\n",
        "\n",
        "*   **ASCII:** Estándar de codificación de caracteres de 7 bits.\n",
        "*   **Unicode:** Sistema de codificación que abarca prácticamente todos los caracteres escritos del mundo.\n",
        "\n",
        "\n",
        "\n",
        "**Comparativa:**\n",
        "\n",
        "ASCII es una pequeña parte de Unicode. Mientras que ASCII solo codifica 128 caracteres, Unicode puede codificar más de 1 millón.\n",
        "\n",
        "**Ejemplos prácticos:**"
      ],
      "metadata": {
        "id": "fTlO13FYVPKj"
      }
    },
    {
      "cell_type": "code",
      "source": [
        "# Mostrando caracteres ASCII de las letras mayúsculas\n",
        "for i in range(65, 91):\n",
        "    print(f\"ASCII {i} -> Carácter {chr(i)}\")"
      ],
      "metadata": {
        "colab": {
          "base_uri": "https://localhost:8080/"
        },
        "id": "DWvqGkV2Vsrb",
        "outputId": "e0320623-37cb-4fc8-8e6b-825f99251081"
      },
      "execution_count": null,
      "outputs": [
        {
          "output_type": "stream",
          "name": "stdout",
          "text": [
            "ASCII 65 -> Carácter A\n",
            "ASCII 66 -> Carácter B\n",
            "ASCII 67 -> Carácter C\n",
            "ASCII 68 -> Carácter D\n",
            "ASCII 69 -> Carácter E\n",
            "ASCII 70 -> Carácter F\n",
            "ASCII 71 -> Carácter G\n",
            "ASCII 72 -> Carácter H\n",
            "ASCII 73 -> Carácter I\n",
            "ASCII 74 -> Carácter J\n",
            "ASCII 75 -> Carácter K\n",
            "ASCII 76 -> Carácter L\n",
            "ASCII 77 -> Carácter M\n",
            "ASCII 78 -> Carácter N\n",
            "ASCII 79 -> Carácter O\n",
            "ASCII 80 -> Carácter P\n",
            "ASCII 81 -> Carácter Q\n",
            "ASCII 82 -> Carácter R\n",
            "ASCII 83 -> Carácter S\n",
            "ASCII 84 -> Carácter T\n",
            "ASCII 85 -> Carácter U\n",
            "ASCII 86 -> Carácter V\n",
            "ASCII 87 -> Carácter W\n",
            "ASCII 88 -> Carácter X\n",
            "ASCII 89 -> Carácter Y\n",
            "ASCII 90 -> Carácter Z\n"
          ]
        }
      ]
    },
    {
      "cell_type": "markdown",
      "source": [
        "### 5.4. Formateo avanzado con print\n",
        "**Definición:**\n",
        "\n",
        "Maneras versátiles de mostrar información con la función print.\n",
        "\n",
        "**Métodos:**"
      ],
      "metadata": {
        "id": "7y47_MPMV1V2"
      }
    },
    {
      "cell_type": "markdown",
      "source": [
        "*   Concatenación:"
      ],
      "metadata": {
        "id": "dlCOAXt6V7RQ"
      }
    },
    {
      "cell_type": "code",
      "source": [
        "print(\"Hola, \" + \"mundo!\")"
      ],
      "metadata": {
        "id": "5qge1LI3V4px",
        "colab": {
          "base_uri": "https://localhost:8080/"
        },
        "outputId": "dc7ad021-800c-437c-bd31-4902437003c3"
      },
      "execution_count": null,
      "outputs": [
        {
          "output_type": "stream",
          "name": "stdout",
          "text": [
            "Hola, mundo!\n"
          ]
        }
      ]
    },
    {
      "cell_type": "markdown",
      "source": [
        "*   F-strings (Python 3.6+):\n"
      ],
      "metadata": {
        "id": "xyXhkWY8WDhD"
      }
    },
    {
      "cell_type": "code",
      "source": [
        "nombre = \"Juan\"\n",
        "edad = 30\n",
        "print(f\"Hola, {nombre}. Tienes {edad} años.\")"
      ],
      "metadata": {
        "id": "6hQd4YSAWGvG",
        "colab": {
          "base_uri": "https://localhost:8080/"
        },
        "outputId": "8fd951c7-5c4b-4d01-9859-a4fccda1c36b"
      },
      "execution_count": null,
      "outputs": [
        {
          "output_type": "stream",
          "name": "stdout",
          "text": [
            "Hola, Juan. Tienes 30 años.\n"
          ]
        }
      ]
    },
    {
      "cell_type": "markdown",
      "source": [
        "*   str.format:"
      ],
      "metadata": {
        "id": "0gih0YeCWKhP"
      }
    },
    {
      "cell_type": "code",
      "source": [
        "print(\"Hola, {}. Tienes {} años.\".format(nombre, edad))"
      ],
      "metadata": {
        "id": "xxXbNb1oWPem"
      },
      "execution_count": null,
      "outputs": []
    },
    {
      "cell_type": "markdown",
      "source": [
        "*   Con especificadores de formato:"
      ],
      "metadata": {
        "id": "IytH9z5DWSj2"
      }
    },
    {
      "cell_type": "code",
      "source": [
        "pi = 3.141592653589793\n",
        "print(\"Valor de pi: {:.3f}\".format(pi))"
      ],
      "metadata": {
        "id": "Mtf3XQKUWSKS",
        "colab": {
          "base_uri": "https://localhost:8080/"
        },
        "outputId": "5aa7ed01-d94c-4801-a64e-6a11b6dff462"
      },
      "execution_count": null,
      "outputs": [
        {
          "output_type": "stream",
          "name": "stdout",
          "text": [
            "Valor de pi: 3.142\n"
          ]
        }
      ]
    },
    {
      "cell_type": "markdown",
      "source": [
        "### 5.5. Errores en Python\n",
        "**Definición:**\n",
        "\n",
        "Los errores surgen cuando el código no se ejecuta como se esperaba.\n",
        "\n",
        "**Tipos principales:**\n",
        "\n",
        "*   Errores sintácticos: Relacionados con la estructura del código.\n"
      ],
      "metadata": {
        "id": "OSCBbbbWWWWo"
      }
    },
    {
      "cell_type": "code",
      "source": [
        "# Falta cerrar el paréntesis\n",
        "print(\"Hola mundo\""
      ],
      "metadata": {
        "id": "7g-_alplW92Y",
        "colab": {
          "base_uri": "https://localhost:8080/",
          "height": 140
        },
        "outputId": "eeb1b98b-5df3-499c-8d2b-d620a66ba61e"
      },
      "execution_count": null,
      "outputs": [
        {
          "output_type": "error",
          "ename": "SyntaxError",
          "evalue": "ignored",
          "traceback": [
            "\u001b[0;36m  File \u001b[0;32m\"<ipython-input-40-9de1252aca99>\"\u001b[0;36m, line \u001b[0;32m2\u001b[0m\n\u001b[0;31m    print(\"Hola mundo\"\u001b[0m\n\u001b[0m                      ^\u001b[0m\n\u001b[0;31mSyntaxError\u001b[0m\u001b[0;31m:\u001b[0m incomplete input\n"
          ]
        }
      ]
    },
    {
      "cell_type": "code",
      "source": [
        "# Uso incorrecto de dos puntos\n",
        "if 5 > 3\n",
        "    print(\"5 es mayor que 3\")"
      ],
      "metadata": {
        "id": "SqEUOCHlXFFw",
        "colab": {
          "base_uri": "https://localhost:8080/"
        },
        "outputId": "c338d06d-8cbc-4276-9404-96e1ed7809d1"
      },
      "execution_count": null,
      "outputs": [
        {
          "output_type": "stream",
          "name": "stdout",
          "text": [
            "5 es mayor que 3\n"
          ]
        }
      ]
    },
    {
      "cell_type": "markdown",
      "source": [
        "*   Errores de tiempo de ejecución (RuntimeError): Ocurren mientras se ejecuta el programa."
      ],
      "metadata": {
        "id": "k3m3OMg7W-Le"
      }
    },
    {
      "cell_type": "code",
      "source": [
        "# División por cero\n",
        "print(5/0)"
      ],
      "metadata": {
        "id": "_ZKf96-CW-_q",
        "colab": {
          "base_uri": "https://localhost:8080/",
          "height": 192
        },
        "outputId": "eb1bb110-fea4-4b32-c28c-66ac2c5d19ae"
      },
      "execution_count": null,
      "outputs": [
        {
          "output_type": "error",
          "ename": "ZeroDivisionError",
          "evalue": "ignored",
          "traceback": [
            "\u001b[0;31m---------------------------------------------------------------------------\u001b[0m",
            "\u001b[0;31mZeroDivisionError\u001b[0m                         Traceback (most recent call last)",
            "\u001b[0;32m<ipython-input-43-2ac8ae444cb8>\u001b[0m in \u001b[0;36m<cell line: 2>\u001b[0;34m()\u001b[0m\n\u001b[1;32m      1\u001b[0m \u001b[0;31m# División por cero\u001b[0m\u001b[0;34m\u001b[0m\u001b[0;34m\u001b[0m\u001b[0m\n\u001b[0;32m----> 2\u001b[0;31m \u001b[0mprint\u001b[0m\u001b[0;34m(\u001b[0m\u001b[0;36m5\u001b[0m\u001b[0;34m/\u001b[0m\u001b[0;36m0\u001b[0m\u001b[0;34m)\u001b[0m\u001b[0;34m\u001b[0m\u001b[0;34m\u001b[0m\u001b[0m\n\u001b[0m",
            "\u001b[0;31mZeroDivisionError\u001b[0m: division by zero"
          ]
        }
      ]
    },
    {
      "cell_type": "code",
      "source": [
        "# Accediendo a un índice que no existe en una lista\n",
        "lista = [1, 2, 3]\n",
        "print(lista[5])"
      ],
      "metadata": {
        "id": "UN56oxaSXUAJ",
        "colab": {
          "base_uri": "https://localhost:8080/",
          "height": 210
        },
        "outputId": "fb2c26e3-d678-49ae-d6b0-31a24a8617e0"
      },
      "execution_count": null,
      "outputs": [
        {
          "output_type": "error",
          "ename": "IndexError",
          "evalue": "ignored",
          "traceback": [
            "\u001b[0;31m---------------------------------------------------------------------------\u001b[0m",
            "\u001b[0;31mIndexError\u001b[0m                                Traceback (most recent call last)",
            "\u001b[0;32m<ipython-input-44-6978bf6ffec2>\u001b[0m in \u001b[0;36m<cell line: 3>\u001b[0;34m()\u001b[0m\n\u001b[1;32m      1\u001b[0m \u001b[0;31m# Accediendo a un índice que no existe en una lista\u001b[0m\u001b[0;34m\u001b[0m\u001b[0;34m\u001b[0m\u001b[0m\n\u001b[1;32m      2\u001b[0m \u001b[0mlista\u001b[0m \u001b[0;34m=\u001b[0m \u001b[0;34m[\u001b[0m\u001b[0;36m1\u001b[0m\u001b[0;34m,\u001b[0m \u001b[0;36m2\u001b[0m\u001b[0;34m,\u001b[0m \u001b[0;36m3\u001b[0m\u001b[0;34m]\u001b[0m\u001b[0;34m\u001b[0m\u001b[0;34m\u001b[0m\u001b[0m\n\u001b[0;32m----> 3\u001b[0;31m \u001b[0mprint\u001b[0m\u001b[0;34m(\u001b[0m\u001b[0mlista\u001b[0m\u001b[0;34m[\u001b[0m\u001b[0;36m5\u001b[0m\u001b[0;34m]\u001b[0m\u001b[0;34m)\u001b[0m\u001b[0;34m\u001b[0m\u001b[0;34m\u001b[0m\u001b[0m\n\u001b[0m",
            "\u001b[0;31mIndexError\u001b[0m: list index out of range"
          ]
        }
      ]
    },
    {
      "cell_type": "code",
      "source": [
        "# Usando una variable no definida\n",
        "print(variable_no_definida)"
      ],
      "metadata": {
        "id": "e4Jp70pNXYRm",
        "colab": {
          "base_uri": "https://localhost:8080/",
          "height": 192
        },
        "outputId": "f317d472-4b42-4696-8a5c-d4a6ac6a3b51"
      },
      "execution_count": null,
      "outputs": [
        {
          "output_type": "error",
          "ename": "NameError",
          "evalue": "ignored",
          "traceback": [
            "\u001b[0;31m---------------------------------------------------------------------------\u001b[0m",
            "\u001b[0;31mNameError\u001b[0m                                 Traceback (most recent call last)",
            "\u001b[0;32m<ipython-input-45-eca2012d655b>\u001b[0m in \u001b[0;36m<cell line: 2>\u001b[0;34m()\u001b[0m\n\u001b[1;32m      1\u001b[0m \u001b[0;31m# Usando una variable no definida\u001b[0m\u001b[0;34m\u001b[0m\u001b[0;34m\u001b[0m\u001b[0m\n\u001b[0;32m----> 2\u001b[0;31m \u001b[0mprint\u001b[0m\u001b[0;34m(\u001b[0m\u001b[0mvariable_no_definida\u001b[0m\u001b[0;34m)\u001b[0m\u001b[0;34m\u001b[0m\u001b[0;34m\u001b[0m\u001b[0m\n\u001b[0m",
            "\u001b[0;31mNameError\u001b[0m: name 'variable_no_definida' is not defined"
          ]
        }
      ]
    },
    {
      "cell_type": "markdown",
      "source": [
        "*   Errores semánticos: El código se ejecuta, pero no produce el resultado esperado."
      ],
      "metadata": {
        "id": "JBoKQJs3W_R9"
      }
    },
    {
      "cell_type": "code",
      "source": [
        "# Calcula el área de un círculo, pero la fórmula está equivocada\n",
        "def area_circulo(radio):\n",
        "    return 2 * 3.141592653589793 * radio\n",
        "\n",
        "print(area_circulo(5))  # Debería ser 3.141592653589793 * 5^2 = 78.53981633974483, pero no lo es."
      ],
      "metadata": {
        "id": "xsZ_dZSjW_ol",
        "colab": {
          "base_uri": "https://localhost:8080/"
        },
        "outputId": "379b7d63-3c0f-4811-8f47-a9c09406aa1c"
      },
      "execution_count": null,
      "outputs": [
        {
          "output_type": "stream",
          "name": "stdout",
          "text": [
            "31.41592653589793\n"
          ]
        }
      ]
    },
    {
      "cell_type": "code",
      "source": [
        "# Intercambio de valores sin una variable temporal o técnica adecuada\n",
        "a = 5\n",
        "b = 10\n",
        "a = b\n",
        "b = a\n",
        "print(a, b)  # Debería ser 10 y 5, respectivamente, pero ambos son 10."
      ],
      "metadata": {
        "id": "yMCBJyNrXdtA",
        "colab": {
          "base_uri": "https://localhost:8080/"
        },
        "outputId": "0b11bc24-af7b-40cc-e3a2-a22afbe310c4"
      },
      "execution_count": null,
      "outputs": [
        {
          "output_type": "stream",
          "name": "stdout",
          "text": [
            "10 10\n"
          ]
        }
      ]
    },
    {
      "cell_type": "markdown",
      "source": [
        "### 5.6. Tipado dinámico\n",
        "\n",
        "Python utiliza *tipado dinámico* (dynamic typing). Eso significa que una variable puede tomar valores de tipos distintos.\n",
        "Python uses dynamic typing, meaning you can reassign variables to different data types. Esto hace que Python sea muy flexible en la asignación de tipos de datos. Se diferencia de otros idiomas que se escriben estáticamente."
      ],
      "metadata": {
        "id": "CdjSQ2h3waWu"
      }
    },
    {
      "cell_type": "code",
      "source": [
        "mis_perros = 2"
      ],
      "metadata": {
        "id": "dpiyEfAFw_d4"
      },
      "execution_count": null,
      "outputs": []
    },
    {
      "cell_type": "code",
      "source": [
        "mis_perros"
      ],
      "metadata": {
        "colab": {
          "base_uri": "https://localhost:8080/"
        },
        "id": "Wu7fZ3pnxJ_l",
        "outputId": "2b5e93b4-f07d-4e76-8037-6abf320360a1"
      },
      "execution_count": null,
      "outputs": [
        {
          "output_type": "execute_result",
          "data": {
            "text/plain": [
              "2"
            ]
          },
          "metadata": {},
          "execution_count": 49
        }
      ]
    },
    {
      "cell_type": "code",
      "source": [
        "mis_perros = [\"Molly\", \"Bruce\"]"
      ],
      "metadata": {
        "id": "TWIqekd6xM7t"
      },
      "execution_count": null,
      "outputs": []
    },
    {
      "cell_type": "code",
      "source": [
        "mis_perros"
      ],
      "metadata": {
        "colab": {
          "base_uri": "https://localhost:8080/"
        },
        "id": "yAsknDjjxMt5",
        "outputId": "66399d3b-6f70-4be5-e815-a7ff3d909f46"
      },
      "execution_count": null,
      "outputs": [
        {
          "output_type": "execute_result",
          "data": {
            "text/plain": [
              "['Molly', 'Bruce']"
            ]
          },
          "metadata": {},
          "execution_count": 51
        }
      ]
    },
    {
      "cell_type": "markdown",
      "source": [
        "## Cómo determinar el tipo de variable con la función `type()`\n",
        "Puedes verificar qué tipo de objeto se asigna a una variable utilizando la función `type()` incorporada de Python. Los tipos de datos comunes incluyen:\n",
        "* **int** (para enteros)\n",
        "* **float**\n",
        "* **str** (para cadenas)\n",
        "* **list**\n",
        "* **tuple**\n",
        "* **dict** (para diccionarios)\n",
        "* **set**\n",
        "* **bool** (para Boolean True/False (Falso/Verdadero))"
      ],
      "metadata": {
        "id": "8vloFWThxbFR"
      }
    },
    {
      "cell_type": "code",
      "source": [
        "type(a)"
      ],
      "metadata": {
        "colab": {
          "base_uri": "https://localhost:8080/"
        },
        "id": "Iok6dzXpx5dp",
        "outputId": "745638e5-ea2a-4fd4-a743-ba207b0ace8e"
      },
      "execution_count": null,
      "outputs": [
        {
          "output_type": "execute_result",
          "data": {
            "text/plain": [
              "int"
            ]
          },
          "metadata": {},
          "execution_count": 52
        }
      ]
    },
    {
      "cell_type": "code",
      "source": [
        "type(mis_perros)"
      ],
      "metadata": {
        "colab": {
          "base_uri": "https://localhost:8080/"
        },
        "id": "GWwLuoZIxz2R",
        "outputId": "5912ac29-e76b-46e3-a646-13edf5deb49b"
      },
      "execution_count": null,
      "outputs": [
        {
          "output_type": "execute_result",
          "data": {
            "text/plain": [
              "list"
            ]
          },
          "metadata": {},
          "execution_count": 53
        }
      ]
    },
    {
      "cell_type": "markdown",
      "source": [
        "## ¡Buen trabajo!"
      ],
      "metadata": {
        "id": "EFyRNOibW_-n"
      }
    },
    {
      "cell_type": "code",
      "source": [
        "print (\"Hola\")"
      ],
      "metadata": {
        "colab": {
          "base_uri": "https://localhost:8080/"
        },
        "id": "oEM3f5sypvI_",
        "outputId": "767297ce-df76-4ac4-ad95-095bea2ba198"
      },
      "execution_count": null,
      "outputs": [
        {
          "output_type": "stream",
          "name": "stdout",
          "text": [
            "Hola\n"
          ]
        }
      ]
    }
  ]
}